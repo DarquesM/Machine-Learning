{
 "cells": [
  {
   "cell_type": "markdown",
   "metadata": {},
   "source": [
    "# Importing useful modules"
   ]
  },
  {
   "cell_type": "code",
   "execution_count": 1,
   "metadata": {
    "collapsed": true
   },
   "outputs": [],
   "source": [
    "%matplotlib inline"
   ]
  },
  {
   "cell_type": "code",
   "execution_count": 2,
   "metadata": {
    "collapsed": false
   },
   "outputs": [],
   "source": [
    "from __future__ import division #Importer ça avant toute chose, autrement ne marche pas\n",
    "import graphlab as gl\n",
    "#import pandas as pd\n",
    "gl.canvas.set_target('ipynb') # Pour afficher les graphes dans mon notebook plutôt que new tab"
   ]
  },
  {
   "cell_type": "code",
   "execution_count": 3,
   "metadata": {
    "collapsed": false
   },
   "outputs": [],
   "source": [
    "import pandas as pd\n",
    "import numpy as np\n",
    "from matplotlib import pyplot as plt\n",
    "from pylab import pcolor, show, colorbar, xticks, yticks\n",
    "import seaborn as sns"
   ]
  },
  {
   "cell_type": "code",
   "execution_count": 4,
   "metadata": {
    "collapsed": false
   },
   "outputs": [
    {
     "name": "stdout",
     "output_type": "stream",
     "text": [
      "3\n"
     ]
    }
   ],
   "source": [
    "def sum(a,b):\n",
    "    print a+b\n",
    "    \n",
    "my_tuple = (1,2)\n",
    "sum(*my_tuple)"
   ]
  },
  {
   "cell_type": "markdown",
   "metadata": {},
   "source": [
    "# Functions definitions"
   ]
  },
  {
   "cell_type": "code",
   "execution_count": 6,
   "metadata": {
    "collapsed": false
   },
   "outputs": [],
   "source": [
    "def plot_categories( df , cat , target , **kwargs ):\n",
    "    row = kwargs.get( 'row' , None )\n",
    "    col = kwargs.get( 'col' , None )\n",
    "    facet = sns.FacetGrid( df , row = row , col = col )\n",
    "    facet.map( sns.barplot , cat , target )\n",
    "    facet.add_legend()"
   ]
  },
  {
   "cell_type": "code",
   "execution_count": 7,
   "metadata": {
    "collapsed": true
   },
   "outputs": [],
   "source": [
    "def plot_corr(df,size=8):\n",
    "    '''Function plots a graphical correlation matrix for each pair of columns in the dataframe.\n",
    "\n",
    "    Input:\n",
    "        df: pandas DataFrame\n",
    "        size: vertical and horizontal size of the plot'''\n",
    "\n",
    "    corr = df.corr()\n",
    "    fig, ax = plt.subplots(figsize=(size, size))\n",
    "    ax.matshow(corr)\n",
    "    pcolor(corr)\n",
    "    colorbar()\n",
    "    plt.xticks(range(len(corr.columns)), corr.columns);\n",
    "    plt.yticks(range(len(corr.columns)), corr.columns);"
   ]
  },
  {
   "cell_type": "code",
   "execution_count": 8,
   "metadata": {
    "collapsed": false
   },
   "outputs": [],
   "source": [
    "#prediction_validation is the prediction done on the validation data using the validation set\n",
    "#validation_data is the validation set\n",
    "def calc_accuracy(prediction_validation, validation_data):\n",
    "    accuracy = ((prediction_validation==validation_data[\"Survived\"]).sum())/len(validation_data)\n",
    "    return accuracy\n",
    "#print(\"Accuracy of the model : %.3f\" %accuracy)"
   ]
  },
  {
   "cell_type": "code",
   "execution_count": 9,
   "metadata": {
    "collapsed": true
   },
   "outputs": [],
   "source": [
    "#All babies should have age 0\n",
    "def age_change(age):\n",
    "    if age<=1:\n",
    "        return 0\n",
    "    else:\n",
    "        return age"
   ]
  },
  {
   "cell_type": "code",
   "execution_count": 42,
   "metadata": {
    "collapsed": true
   },
   "outputs": [],
   "source": [
    "def tree_model(data, features,MLR,MCW):\n",
    "    return gl.decision_tree_classifier.create(data,features = features, target = target, \n",
    "                                              validation_set=None, min_loss_reduction = MLR,\n",
    "                                             verbose = None, min_child_weight = MCW, max_depth=3)"
   ]
  },
  {
   "cell_type": "markdown",
   "metadata": {},
   "source": [
    "# Importing csv files"
   ]
  },
  {
   "cell_type": "code",
   "execution_count": 11,
   "metadata": {
    "collapsed": false
   },
   "outputs": [
    {
     "name": "stdout",
     "output_type": "stream",
     "text": [
      "This non-commercial license of GraphLab Create for academic use is assigned to docteur.zuf@gmail.com and will expire on May 23, 2017.\n"
     ]
    },
    {
     "name": "stderr",
     "output_type": "stream",
     "text": [
      "[INFO] graphlab.cython.cy_server: GraphLab Create v2.1 started. Logging: C:\\Users\\Michael\\AppData\\Local\\Temp\\graphlab_server_1489263876.log.0\n"
     ]
    },
    {
     "data": {
      "text/html": [
       "<pre>Finished parsing file C:\\Users\\Michael\\Python notebooks\\Kaggle-Titanic\\train.csv</pre>"
      ],
      "text/plain": [
       "Finished parsing file C:\\Users\\Michael\\Python notebooks\\Kaggle-Titanic\\train.csv"
      ]
     },
     "metadata": {},
     "output_type": "display_data"
    },
    {
     "data": {
      "text/html": [
       "<pre>Parsing completed. Parsed 100 lines in 0.01655 secs.</pre>"
      ],
      "text/plain": [
       "Parsing completed. Parsed 100 lines in 0.01655 secs."
      ]
     },
     "metadata": {},
     "output_type": "display_data"
    },
    {
     "name": "stdout",
     "output_type": "stream",
     "text": [
      "------------------------------------------------------\n",
      "Inferred types from first 100 line(s) of file as \n",
      "column_type_hints=[long,long,long,str,str,float,long,long,str,float,str,str]\n",
      "If parsing fails due to incorrect types, you can correct\n",
      "the inferred type list above and pass it to read_csv in\n",
      "the column_type_hints argument\n",
      "------------------------------------------------------\n"
     ]
    },
    {
     "data": {
      "text/html": [
       "<pre>Finished parsing file C:\\Users\\Michael\\Python notebooks\\Kaggle-Titanic\\train.csv</pre>"
      ],
      "text/plain": [
       "Finished parsing file C:\\Users\\Michael\\Python notebooks\\Kaggle-Titanic\\train.csv"
      ]
     },
     "metadata": {},
     "output_type": "display_data"
    },
    {
     "data": {
      "text/html": [
       "<pre>Parsing completed. Parsed 891 lines in 0.01401 secs.</pre>"
      ],
      "text/plain": [
       "Parsing completed. Parsed 891 lines in 0.01401 secs."
      ]
     },
     "metadata": {},
     "output_type": "display_data"
    }
   ],
   "source": [
    "#Let's work with pandas then import in graphlab\n",
    "df_data = pd.read_csv(\"./train.csv\") #My training data\n",
    "data_raw = gl.SFrame.read_csv(\"./train.csv\")"
   ]
  },
  {
   "cell_type": "code",
   "execution_count": 12,
   "metadata": {
    "collapsed": false
   },
   "outputs": [
    {
     "data": {
      "text/html": [
       "<pre>Finished parsing file C:\\Users\\Michael\\Python notebooks\\Kaggle-Titanic\\test.csv</pre>"
      ],
      "text/plain": [
       "Finished parsing file C:\\Users\\Michael\\Python notebooks\\Kaggle-Titanic\\test.csv"
      ]
     },
     "metadata": {},
     "output_type": "display_data"
    },
    {
     "data": {
      "text/html": [
       "<pre>Parsing completed. Parsed 100 lines in 0.012009 secs.</pre>"
      ],
      "text/plain": [
       "Parsing completed. Parsed 100 lines in 0.012009 secs."
      ]
     },
     "metadata": {},
     "output_type": "display_data"
    },
    {
     "name": "stdout",
     "output_type": "stream",
     "text": [
      "------------------------------------------------------\n",
      "Inferred types from first 100 line(s) of file as \n",
      "column_type_hints=[long,long,str,str,float,long,long,str,float,str,str]\n",
      "If parsing fails due to incorrect types, you can correct\n",
      "the inferred type list above and pass it to read_csv in\n",
      "the column_type_hints argument\n",
      "------------------------------------------------------\n"
     ]
    },
    {
     "data": {
      "text/html": [
       "<pre>Finished parsing file C:\\Users\\Michael\\Python notebooks\\Kaggle-Titanic\\test.csv</pre>"
      ],
      "text/plain": [
       "Finished parsing file C:\\Users\\Michael\\Python notebooks\\Kaggle-Titanic\\test.csv"
      ]
     },
     "metadata": {},
     "output_type": "display_data"
    },
    {
     "data": {
      "text/html": [
       "<pre>Parsing completed. Parsed 418 lines in 0.011509 secs.</pre>"
      ],
      "text/plain": [
       "Parsing completed. Parsed 418 lines in 0.011509 secs."
      ]
     },
     "metadata": {},
     "output_type": "display_data"
    }
   ],
   "source": [
    "df_data_validation = pd.read_csv(\"./test.csv\") #Data used for submission to Kaggle\n",
    "data_validation_raw = gl.SFrame.read_csv(\"./test.csv\")"
   ]
  },
  {
   "cell_type": "markdown",
   "metadata": {},
   "source": [
    "# Let's look at the data"
   ]
  },
  {
   "cell_type": "code",
   "execution_count": 13,
   "metadata": {
    "collapsed": false
   },
   "outputs": [
    {
     "data": {
      "application/javascript": [
       "$(\"head\").append($(\"<link/>\").attr({\n",
       "  rel:  \"stylesheet\",\n",
       "  type: \"text/css\",\n",
       "  href: \"//cdnjs.cloudflare.com/ajax/libs/font-awesome/4.1.0/css/font-awesome.min.css\"\n",
       "}));\n",
       "$(\"head\").append($(\"<link/>\").attr({\n",
       "  rel:  \"stylesheet\",\n",
       "  type: \"text/css\",\n",
       "  href: \"https://static.turi.com/products/graphlab-create/2.1/canvas/css/canvas.css\"\n",
       "}));\n",
       "\n",
       "            (function(){\n",
       "\n",
       "                var e = null;\n",
       "                if (typeof element == 'undefined') {\n",
       "                    var scripts = document.getElementsByTagName('script');\n",
       "                    var thisScriptTag = scripts[scripts.length-1];\n",
       "                    var parentDiv = thisScriptTag.parentNode;\n",
       "                    e = document.createElement('div');\n",
       "                    parentDiv.appendChild(e);\n",
       "                } else {\n",
       "                    e = element[0];\n",
       "                }\n",
       "\n",
       "                if (typeof requirejs !== 'undefined') {\n",
       "                    // disable load timeout; ipython_app.js is large and can take a while to load.\n",
       "                    requirejs.config({waitSeconds: 0});\n",
       "                }\n",
       "\n",
       "                require(['https://static.turi.com/products/graphlab-create/2.1/canvas/js/ipython_app.js'], function(IPythonApp){\n",
       "                    var app = new IPythonApp();\n",
       "                    app.attachView('sframe','Summary', {\"ipython\": true, \"sketch\": {\"Fare\": {\"std\": 49.6655344447741, \"complete\": true, \"min\": 0.0, \"max\": 512.3292, \"quantile\": [0.0, 0.0, 6.2375, 6.975, 7.05, 7.225, 7.225, 7.2292, 7.25, 7.25, 7.55, 7.7292, 7.75, 7.75, 7.75, 7.75, 7.775, 7.775, 7.7958, 7.8542, 7.8542, 7.8958, 7.8958, 7.8958, 7.8958, 7.8958, 7.925, 7.925, 8.05, 8.05, 8.05, 8.05, 8.1125, 8.6542, 8.6625, 9.0, 9.5, 9.5875, 10.4625, 10.5, 10.5, 11.1333, 12.275, 12.525, 13.0, 13.0, 13.0, 13.0, 13.0, 14.0, 14.4542, 14.5, 15.2458, 15.5, 15.85, 16.1, 17.8, 19.2583, 20.2125, 21.0, 21.6792, 23.25, 24.15, 25.5875, 26.0, 26.0, 26.0, 26.25, 26.2875, 26.55, 27.0, 27.75, 29.0, 29.7, 30.5, 31.0, 31.3875, 34.0208, 35.5, 39.0, 39.6875, 46.9, 50.0, 52.0, 53.1, 56.4958, 57.9792, 66.6, 69.55, 73.5, 77.9583, 79.2, 82.1708, 89.1042, 93.5, 113.275, 134.5, 151.55, 211.3375, 262.375, 512.3292], \"median\": 14.4542, \"numeric\": true, \"num_unique\": 248, \"num_undefined\": 0, \"var\": 2466.665311685043, \"progress\": 1.0, \"size\": 891, \"frequent_items\": {\"7.25\": {\"frequency\": 13, \"value\": 7.25}, \"35.5\": {\"frequency\": 4, \"value\": 35.5}, \"93.5\": {\"frequency\": 2, \"value\": 93.5}, \"7.8792\": {\"frequency\": 4, \"value\": 7.8792}, \"5.0\": {\"frequency\": 1, \"value\": 5.0}, \"86.5\": {\"frequency\": 3, \"value\": 86.5}, \"9.0\": {\"frequency\": 2, \"value\": 9.0}, \"12.0\": {\"frequency\": 1, \"value\": 12.0}, \"13.0\": {\"frequency\": 42, \"value\": 13.0}, \"14.0\": {\"frequency\": 1, \"value\": 14.0}, \"15.0\": {\"frequency\": 1, \"value\": 15.0}, \"16.0\": {\"frequency\": 1, \"value\": 16.0}, \"18.0\": {\"frequency\": 3, \"value\": 18.0}, \"15.1\": {\"frequency\": 1, \"value\": 15.1}, \"21.0\": {\"frequency\": 6, \"value\": 21.0}, \"25.5875\": {\"frequency\": 1, \"value\": 25.5875}, \"23.0\": {\"frequency\": 4, \"value\": 23.0}, \"24.0\": {\"frequency\": 2, \"value\": 24.0}, \"7.6292\": {\"frequency\": 1, \"value\": 7.6292}, \"26.0\": {\"frequency\": 31, \"value\": 26.0}, \"27.0\": {\"frequency\": 2, \"value\": 27.0}, \"13.5\": {\"frequency\": 4, \"value\": 13.5}, \"29.0\": {\"frequency\": 2, \"value\": 29.0}, \"30.0\": {\"frequency\": 6, \"value\": 30.0}, \"0.0\": {\"frequency\": 15, \"value\": 0.0}, \"33.0\": {\"frequency\": 3, \"value\": 33.0}, \"35.0\": {\"frequency\": 1, \"value\": 35.0}, \"42.4\": {\"frequency\": 1, \"value\": 42.4}, \"164.8667\": {\"frequency\": 2, \"value\": 164.8667}, \"39.0\": {\"frequency\": 4, \"value\": 39.0}, \"25.925\": {\"frequency\": 1, \"value\": 25.925}, \"7.925\": {\"frequency\": 18, \"value\": 7.925}, \"7.55\": {\"frequency\": 4, \"value\": 7.55}, \"22.3583\": {\"frequency\": 2, \"value\": 22.3583}, \"50.0\": {\"frequency\": 1, \"value\": 50.0}, \"57.9792\": {\"frequency\": 2, \"value\": 57.9792}, \"52.0\": {\"frequency\": 7, \"value\": 52.0}, \"26.3875\": {\"frequency\": 1, \"value\": 26.3875}, \"55.0\": {\"frequency\": 2, \"value\": 55.0}, \"57.0\": {\"frequency\": 2, \"value\": 57.0}, \"15.05\": {\"frequency\": 1, \"value\": 15.05}, \"153.4625\": {\"frequency\": 3, \"value\": 153.4625}, \"9.4833\": {\"frequency\": 1, \"value\": 9.4833}, \"7.125\": {\"frequency\": 4, \"value\": 7.125}, \"7.5208\": {\"frequency\": 1, \"value\": 7.5208}, \"34.0208\": {\"frequency\": 1, \"value\": 34.0208}, \"80.0\": {\"frequency\": 2, \"value\": 80.0}, \"13.8583\": {\"frequency\": 1, \"value\": 13.8583}, \"71.2833\": {\"frequency\": 1, \"value\": 71.2833}, \"90.0\": {\"frequency\": 4, \"value\": 90.0}, \"7.875\": {\"frequency\": 1, \"value\": 7.875}, \"27.7208\": {\"frequency\": 5, \"value\": 27.7208}, \"9.5\": {\"frequency\": 9, \"value\": 9.5}, \"49.5\": {\"frequency\": 1, \"value\": 49.5}, \"15.0458\": {\"frequency\": 1, \"value\": 15.0458}, \"15.85\": {\"frequency\": 4, \"value\": 15.85}, \"7.775\": {\"frequency\": 16, \"value\": 7.775}, \"15.55\": {\"frequency\": 1, \"value\": 15.55}, \"7.8958\": {\"frequency\": 38, \"value\": 7.8958}, \"11.2417\": {\"frequency\": 2, \"value\": 11.2417}, \"79.2\": {\"frequency\": 4, \"value\": 79.2}, \"19.2583\": {\"frequency\": 4, \"value\": 19.2583}, \"15.7417\": {\"frequency\": 2, \"value\": 15.7417}, \"91.0792\": {\"frequency\": 2, \"value\": 91.0792}, \"120.0\": {\"frequency\": 4, \"value\": 120.0}, \"83.1583\": {\"frequency\": 3, \"value\": 83.1583}, \"7.75\": {\"frequency\": 34, \"value\": 7.75}, \"61.3792\": {\"frequency\": 1, \"value\": 61.3792}, \"37.0042\": {\"frequency\": 2, \"value\": 37.0042}, \"10.1708\": {\"frequency\": 1, \"value\": 10.1708}, \"8.0292\": {\"frequency\": 1, \"value\": 8.0292}, \"133.65\": {\"frequency\": 2, \"value\": 133.65}, \"8.05\": {\"frequency\": 43, \"value\": 8.05}, \"15.5\": {\"frequency\": 8, \"value\": 15.5}, \"10.5\": {\"frequency\": 24, \"value\": 10.5}, \"28.7125\": {\"frequency\": 1, \"value\": 28.7125}, \"25.4667\": {\"frequency\": 4, \"value\": 25.4667}, \"52.5542\": {\"frequency\": 3, \"value\": 52.5542}, \"46.9\": {\"frequency\": 6, \"value\": 46.9}, \"12.875\": {\"frequency\": 1, \"value\": 12.875}, \"7.725\": {\"frequency\": 1, \"value\": 7.725}, \"108.9\": {\"frequency\": 2, \"value\": 108.9}, \"12.35\": {\"frequency\": 3, \"value\": 12.35}, \"14.1083\": {\"frequency\": 1, \"value\": 14.1083}, \"7.7333\": {\"frequency\": 4, \"value\": 7.7333}, \"78.2667\": {\"frequency\": 2, \"value\": 78.2667}, \"77.2875\": {\"frequency\": 2, \"value\": 77.2875}, \"25.9292\": {\"frequency\": 2, \"value\": 25.9292}, \"31.0\": {\"frequency\": 3, \"value\": 31.0}, \"14.4\": {\"frequency\": 2, \"value\": 14.4}, \"8.1583\": {\"frequency\": 1, \"value\": 8.1583}, \"30.5\": {\"frequency\": 5, \"value\": 30.5}, \"13.8625\": {\"frequency\": 1, \"value\": 13.8625}, \"29.125\": {\"frequency\": 5, \"value\": 29.125}, \"56.9292\": {\"frequency\": 2, \"value\": 56.9292}, \"30.6958\": {\"frequency\": 2, \"value\": 30.6958}, \"39.6\": {\"frequency\": 2, \"value\": 39.6}, \"7.7958\": {\"frequency\": 6, \"value\": 7.7958}, \"69.55\": {\"frequency\": 7, \"value\": 69.55}, \"9.8458\": {\"frequency\": 1, \"value\": 9.8458}, \"20.575\": {\"frequency\": 2, \"value\": 20.575}, \"7.65\": {\"frequency\": 4, \"value\": 7.65}, \"512.3292\": {\"frequency\": 3, \"value\": 512.3292}, \"13.7917\": {\"frequency\": 1, \"value\": 13.7917}, \"12.475\": {\"frequency\": 4, \"value\": 12.475}, \"7.7417\": {\"frequency\": 1, \"value\": 7.7417}, \"7.225\": {\"frequency\": 12, \"value\": 7.225}, \"221.7792\": {\"frequency\": 1, \"value\": 221.7792}, \"6.45\": {\"frequency\": 1, \"value\": 6.45}, \"76.7292\": {\"frequency\": 3, \"value\": 76.7292}, \"13.4167\": {\"frequency\": 1, \"value\": 13.4167}, \"33.5\": {\"frequency\": 1, \"value\": 33.5}, \"14.5\": {\"frequency\": 7, \"value\": 14.5}, \"40.125\": {\"frequency\": 1, \"value\": 40.125}, \"14.4583\": {\"frequency\": 3, \"value\": 14.4583}, \"8.85\": {\"frequency\": 1, \"value\": 8.85}, \"7.0542\": {\"frequency\": 2, \"value\": 7.0542}, \"8.1125\": {\"frequency\": 1, \"value\": 8.1125}, \"78.85\": {\"frequency\": 2, \"value\": 78.85}, \"6.4375\": {\"frequency\": 1, \"value\": 6.4375}, \"31.3875\": {\"frequency\": 4, \"value\": 31.3875}, \"50.4958\": {\"frequency\": 1, \"value\": 50.4958}, \"73.5\": {\"frequency\": 5, \"value\": 73.5}, \"55.4417\": {\"frequency\": 1, \"value\": 55.4417}, \"17.8\": {\"frequency\": 2, \"value\": 17.8}, \"263.0\": {\"frequency\": 4, \"value\": 263.0}, \"16.1\": {\"frequency\": 9, \"value\": 16.1}, \"7.7375\": {\"frequency\": 2, \"value\": 7.7375}, \"9.225\": {\"frequency\": 2, \"value\": 9.225}, \"83.475\": {\"frequency\": 2, \"value\": 83.475}, \"76.2917\": {\"frequency\": 1, \"value\": 76.2917}, \"63.3583\": {\"frequency\": 1, \"value\": 63.3583}, \"9.8417\": {\"frequency\": 1, \"value\": 9.8417}, \"6.8583\": {\"frequency\": 1, \"value\": 6.8583}, \"134.5\": {\"frequency\": 2, \"value\": 134.5}, \"27.9\": {\"frequency\": 6, \"value\": 27.9}, \"59.4\": {\"frequency\": 1, \"value\": 59.4}, \"39.6875\": {\"frequency\": 6, \"value\": 39.6875}, \"211.5\": {\"frequency\": 1, \"value\": 211.5}, \"7.0458\": {\"frequency\": 1, \"value\": 7.0458}, \"77.9583\": {\"frequency\": 3, \"value\": 77.9583}, \"26.2875\": {\"frequency\": 3, \"value\": 26.2875}, \"8.4583\": {\"frequency\": 1, \"value\": 8.4583}, \"227.525\": {\"frequency\": 4, \"value\": 227.525}, \"9.475\": {\"frequency\": 1, \"value\": 9.475}, \"8.4042\": {\"frequency\": 1, \"value\": 8.4042}, \"8.7125\": {\"frequency\": 1, \"value\": 8.7125}, \"7.3125\": {\"frequency\": 1, \"value\": 7.3125}, \"7.8292\": {\"frequency\": 2, \"value\": 7.8292}, \"21.6792\": {\"frequency\": 1, \"value\": 21.6792}, \"24.15\": {\"frequency\": 8, \"value\": 24.15}, \"6.75\": {\"frequency\": 2, \"value\": 6.75}, \"8.6542\": {\"frequency\": 1, \"value\": 8.6542}, \"69.3\": {\"frequency\": 2, \"value\": 69.3}, \"21.075\": {\"frequency\": 4, \"value\": 21.075}, \"6.975\": {\"frequency\": 2, \"value\": 6.975}, \"79.65\": {\"frequency\": 3, \"value\": 79.65}, \"81.8583\": {\"frequency\": 1, \"value\": 81.8583}, \"18.7875\": {\"frequency\": 2, \"value\": 18.7875}, \"34.6542\": {\"frequency\": 1, \"value\": 34.6542}, \"61.175\": {\"frequency\": 1, \"value\": 61.175}, \"7.1417\": {\"frequency\": 1, \"value\": 7.1417}, \"20.525\": {\"frequency\": 3, \"value\": 20.525}, \"9.5875\": {\"frequency\": 2, \"value\": 9.5875}, \"26.25\": {\"frequency\": 6, \"value\": 26.25}, \"6.95\": {\"frequency\": 1, \"value\": 6.95}, \"8.1375\": {\"frequency\": 1, \"value\": 8.1375}, \"9.2167\": {\"frequency\": 1, \"value\": 9.2167}, \"36.75\": {\"frequency\": 2, \"value\": 36.75}, \"113.275\": {\"frequency\": 3, \"value\": 113.275}, \"26.2833\": {\"frequency\": 1, \"value\": 26.2833}, \"11.5\": {\"frequency\": 4, \"value\": 11.5}, \"151.55\": {\"frequency\": 4, \"value\": 151.55}, \"8.5167\": {\"frequency\": 1, \"value\": 8.5167}, \"41.5792\": {\"frequency\": 3, \"value\": 41.5792}, \"29.7\": {\"frequency\": 3, \"value\": 29.7}, \"247.5208\": {\"frequency\": 2, \"value\": 247.5208}, \"9.8375\": {\"frequency\": 1, \"value\": 9.8375}, \"262.375\": {\"frequency\": 2, \"value\": 262.375}, \"18.75\": {\"frequency\": 3, \"value\": 18.75}, \"23.45\": {\"frequency\": 2, \"value\": 23.45}, \"49.5042\": {\"frequency\": 2, \"value\": 49.5042}, \"15.9\": {\"frequency\": 2, \"value\": 15.9}, \"56.4958\": {\"frequency\": 7, \"value\": 56.4958}, \"8.3625\": {\"frequency\": 1, \"value\": 8.3625}, \"15.75\": {\"frequency\": 1, \"value\": 15.75}, \"75.25\": {\"frequency\": 1, \"value\": 75.25}, \"7.8\": {\"frequency\": 1, \"value\": 7.8}, \"7.2292\": {\"frequency\": 15, \"value\": 7.2292}, \"65.0\": {\"frequency\": 2, \"value\": 65.0}, \"11.1333\": {\"frequency\": 3, \"value\": 11.1333}, \"82.1708\": {\"frequency\": 2, \"value\": 82.1708}, \"9.35\": {\"frequency\": 2, \"value\": 9.35}, \"6.2375\": {\"frequency\": 1, \"value\": 6.2375}, \"146.5208\": {\"frequency\": 2, \"value\": 146.5208}, \"17.4\": {\"frequency\": 1, \"value\": 17.4}, \"66.6\": {\"frequency\": 2, \"value\": 66.6}, \"20.2125\": {\"frequency\": 2, \"value\": 20.2125}, \"7.7875\": {\"frequency\": 1, \"value\": 7.7875}, \"14.4542\": {\"frequency\": 7, \"value\": 14.4542}, \"19.9667\": {\"frequency\": 2, \"value\": 19.9667}, \"7.8542\": {\"frequency\": 13, \"value\": 7.8542}, \"7.4958\": {\"frequency\": 3, \"value\": 7.4958}, \"4.0125\": {\"frequency\": 1, \"value\": 4.0125}, \"53.1\": {\"frequency\": 5, \"value\": 53.1}, \"19.5\": {\"frequency\": 2, \"value\": 19.5}, \"10.5167\": {\"frequency\": 1, \"value\": 10.5167}, \"71.0\": {\"frequency\": 2, \"value\": 71.0}, \"12.275\": {\"frequency\": 1, \"value\": 12.275}, \"39.4\": {\"frequency\": 1, \"value\": 39.4}, \"51.4792\": {\"frequency\": 1, \"value\": 51.4792}, \"7.7292\": {\"frequency\": 1, \"value\": 7.7292}, \"47.1\": {\"frequency\": 1, \"value\": 47.1}, \"9.825\": {\"frequency\": 2, \"value\": 9.825}, \"8.6833\": {\"frequency\": 1, \"value\": 8.6833}, \"55.9\": {\"frequency\": 2, \"value\": 55.9}, \"8.3\": {\"frequency\": 1, \"value\": 8.3}, \"23.25\": {\"frequency\": 2, \"value\": 23.25}, \"7.8875\": {\"frequency\": 1, \"value\": 7.8875}, \"10.4625\": {\"frequency\": 2, \"value\": 10.4625}, \"7.05\": {\"frequency\": 7, \"value\": 7.05}, \"16.7\": {\"frequency\": 2, \"value\": 16.7}, \"30.0708\": {\"frequency\": 2, \"value\": 30.0708}, \"12.525\": {\"frequency\": 1, \"value\": 12.525}, \"38.5\": {\"frequency\": 1, \"value\": 38.5}, \"8.6625\": {\"frequency\": 13, \"value\": 8.6625}, \"22.525\": {\"frequency\": 1, \"value\": 22.525}, \"20.25\": {\"frequency\": 2, \"value\": 20.25}, \"211.3375\": {\"frequency\": 3, \"value\": 211.3375}, \"22.025\": {\"frequency\": 1, \"value\": 22.025}, \"12.65\": {\"frequency\": 1, \"value\": 12.65}, \"61.9792\": {\"frequency\": 1, \"value\": 61.9792}, \"27.75\": {\"frequency\": 4, \"value\": 27.75}, \"26.55\": {\"frequency\": 15, \"value\": 26.55}, \"34.375\": {\"frequency\": 4, \"value\": 34.375}, \"6.4958\": {\"frequency\": 2, \"value\": 6.4958}, \"32.3208\": {\"frequency\": 1, \"value\": 32.3208}, \"28.5\": {\"frequency\": 1, \"value\": 28.5}, \"89.1042\": {\"frequency\": 2, \"value\": 89.1042}, \"8.4333\": {\"frequency\": 1, \"value\": 8.4333}, \"12.2875\": {\"frequency\": 1, \"value\": 12.2875}, \"110.8833\": {\"frequency\": 4, \"value\": 110.8833}, \"106.425\": {\"frequency\": 2, \"value\": 106.425}, \"31.275\": {\"frequency\": 7, \"value\": 31.275}, \"135.6333\": {\"frequency\": 3, \"value\": 135.6333}, \"51.8625\": {\"frequency\": 2, \"value\": 51.8625}, \"32.5\": {\"frequency\": 1, \"value\": 32.5}, \"15.2458\": {\"frequency\": 5, \"value\": 15.2458}}, \"mean\": 32.204207968574636}, \"Name\": {\"complete\": true, \"numeric\": false, \"num_unique\": 891, \"num_undefined\": 0, \"progress\": 1.0, \"frequent_items\": {\"Mellors, Mr. William John\": {\"frequency\": 1, \"value\": \"Mellors, Mr. ...\"}, \"Ridsdale, Miss. Lucy\": {\"frequency\": 1, \"value\": \"Ridsdale, Miss. ...\"}, \"Johnson, Mr. Alfred\": {\"frequency\": 1, \"value\": \"Johnson, Mr. ...\"}, \"Svensson, Mr. Olof\": {\"frequency\": 1, \"value\": \"Svensson, Mr. Olof\"}, \"Richards, Mrs. Sidney (Emily Hocking)\": {\"frequency\": 1, \"value\": \"Richards, Mrs. ...\"}, \"Hendekovic, Mr. Ignjac\": {\"frequency\": 1, \"value\": \"Hendekovic, Mr. ...\"}, \"Burke, Mr. Jeremiah\": {\"frequency\": 1, \"value\": \"Burke, Mr. ...\"}, \"Brown, Mr. Thomas William Solomon\": {\"frequency\": 1, \"value\": \"Brown, Mr. Thomas ...\"}, \"Bourke, Mrs. John (Catherine)\": {\"frequency\": 1, \"value\": \"Bourke, Mrs. John ...\"}, \"Hart, Mr. Benjamin\": {\"frequency\": 1, \"value\": \"Hart, Mr. Benjamin\"}, \"Sage, Miss. Dorothy Edith \\\"Dolly\\\"\": {\"frequency\": 1, \"value\": \"Sage, Miss. ...\"}, \"Thorne, Mrs. Gertrude Maybelle\": {\"frequency\": 1, \"value\": \"Thorne, Mrs. ...\"}, \"Skoog, Master. Harald\": {\"frequency\": 1, \"value\": \"Skoog, Master. ...\"}, \"Andreasson, Mr. Paul Edvin\": {\"frequency\": 1, \"value\": \"Andreasson, Mr. ...\"}, \"Klaber, Mr. Herman\": {\"frequency\": 1, \"value\": \"Klaber, Mr. Herman\"}, \"Nye, Mrs. (Elizabeth Ramell)\": {\"frequency\": 1, \"value\": \"Nye, Mrs. ...\"}, \"Mamee, Mr. Hanna\": {\"frequency\": 1, \"value\": \"Mamee, Mr. Hanna\"}, \"Lefebre, Miss. Jeannie\": {\"frequency\": 1, \"value\": \"Lefebre, Miss. ...\"}, \"Thorneycroft, Mr. Percival\": {\"frequency\": 1, \"value\": \"Thorneycroft, Mr. ...\"}, \"Turcin, Mr. Stjepan\": {\"frequency\": 1, \"value\": \"Turcin, Mr. ...\"}, \"Smith, Mr. Thomas\": {\"frequency\": 1, \"value\": \"Smith, Mr. Thomas\"}, \"Appleton, Mrs. Edward Dale (Charlotte Lamson)\": {\"frequency\": 1, \"value\": \"Appleton, Mrs. ...\"}, \"Lovell, Mr. John Hall (\\\"Henry\\\")\": {\"frequency\": 1, \"value\": \"Lovell, Mr. John ...\"}, \"Andersson, Miss. Ellis Anna Maria\": {\"frequency\": 1, \"value\": \"Andersson, Miss. ...\"}, \"Daniel, Mr. Robert Williams\": {\"frequency\": 1, \"value\": \"Daniel, Mr. Robert ...\"}, \"Sivic, Mr. Husein\": {\"frequency\": 1, \"value\": \"Sivic, Mr. Husein\"}, \"Mernagh, Mr. Robert\": {\"frequency\": 1, \"value\": \"Mernagh, Mr. ...\"}, \"Hunt, Mr. George Henry\": {\"frequency\": 1, \"value\": \"Hunt, Mr. George ...\"}, \"Compton, Miss. Sara Rebecca\": {\"frequency\": 1, \"value\": \"Compton, Miss. ...\"}, \"Leader, Dr. Alice (Farnham)\": {\"frequency\": 1, \"value\": \"Leader, Dr. Alice ...\"}, \"Holm, Mr. John Fredrik Alexander\": {\"frequency\": 1, \"value\": \"Holm, Mr. John ...\"}, \"Andersson, Miss. Erna Alexandra\": {\"frequency\": 1, \"value\": \"Andersson, Miss. ...\"}, \"Myhrman, Mr. Pehr Fabian Oliver Malkolm\": {\"frequency\": 1, \"value\": \"Myhrman, Mr. Pehr ...\"}, \"Karlsson, Mr. Nils August\": {\"frequency\": 1, \"value\": \"Karlsson, Mr. Nils ...\"}, \"Strom, Miss. Telma Matilda\": {\"frequency\": 1, \"value\": \"Strom, Miss. Telma ...\"}, \"Allison, Miss. Helen Loraine\": {\"frequency\": 1, \"value\": \"Allison, Miss. ...\"}, \"Ibrahim Shawah, Mr. Yousseff\": {\"frequency\": 1, \"value\": \"Ibrahim Shawah, ...\"}, \"Van der hoef, Mr. Wyckoff\": {\"frequency\": 1, \"value\": \"Van der hoef, Mr. ...\"}, \"Partner, Mr. Austen\": {\"frequency\": 1, \"value\": \"Partner, Mr. ...\"}, \"Ford, Miss. Doolina Margaret \\\"Daisy\\\"\": {\"frequency\": 1, \"value\": \"Ford, Miss. ...\"}, \"Moss, Mr. Albert Johan\": {\"frequency\": 1, \"value\": \"Moss, Mr. Albert ...\"}, \"Mannion, Miss. Margareth\": {\"frequency\": 1, \"value\": \"Mannion, Miss. ...\"}, \"Rice, Master. George Hugh\": {\"frequency\": 1, \"value\": \"Rice, Master. ...\"}, \"Cor, Mr. Liudevit\": {\"frequency\": 1, \"value\": \"Cor, Mr. Liudevit\"}, \"Dowdell, Miss. Elizabeth\": {\"frequency\": 1, \"value\": \"Dowdell, Miss. ...\"}, \"Panula, Master. Juha Niilo\": {\"frequency\": 1, \"value\": \"Panula, Master. ...\"}, \"Crosby, Miss. Harriet R\": {\"frequency\": 1, \"value\": \"Crosby, Miss. ...\"}, \"Sagesser, Mlle. Emma\": {\"frequency\": 1, \"value\": \"Sagesser, Mlle. ...\"}, \"Brown, Mrs. James Joseph (Margaret Tobin)\": {\"frequency\": 1, \"value\": \"Brown, Mrs. James ...\"}, \"Yasbeck, Mr. Antoni\": {\"frequency\": 1, \"value\": \"Yasbeck, Mr. ...\"}, \"Navratil, Master. Edmond Roger\": {\"frequency\": 1, \"value\": \"Navratil, Master. ...\"}, \"Butler, Mr. Reginald Fenton\": {\"frequency\": 1, \"value\": \"Butler, Mr. ...\"}, \"Zimmerman, Mr. Leo\": {\"frequency\": 1, \"value\": \"Zimmerman, Mr. Leo\"}, \"Jenkin, Mr. Stephen Curnow\": {\"frequency\": 1, \"value\": \"Jenkin, Mr. ...\"}, \"Panula, Master. Urho Abraham\": {\"frequency\": 1, \"value\": \"Panula, Master. ...\"}, \"Rice, Master. Eugene\": {\"frequency\": 1, \"value\": \"Rice, Master. ...\"}, \"Silven, Miss. Lyyli Karoliina\": {\"frequency\": 1, \"value\": \"Silven, Miss. ...\"}, \"Flynn, Mr. John Irwin (\\\"Irving\\\")\": {\"frequency\": 1, \"value\": \"Flynn, Mr. John ...\"}, \"Todoroff, Mr. Lalio\": {\"frequency\": 1, \"value\": \"Todoroff, Mr. ...\"}, \"Carbines, Mr. William\": {\"frequency\": 1, \"value\": \"Carbines, Mr. ...\"}, \"Elias, Mr. Dibo\": {\"frequency\": 1, \"value\": \"Elias, Mr. Dibo\"}, \"Crosby, Capt. Edward Gifford\": {\"frequency\": 1, \"value\": \"Crosby, Capt. ...\"}, \"Colley, Mr. Edward Pomeroy\": {\"frequency\": 1, \"value\": \"Colley, Mr. Edward ...\"}, \"Maioni, Miss. Roberta\": {\"frequency\": 1, \"value\": \"Maioni, Miss. ...\"}, \"Denkoff, Mr. Mitto\": {\"frequency\": 1, \"value\": \"Denkoff, Mr. Mitto\"}, \"Kiernan, Mr. Philip\": {\"frequency\": 1, \"value\": \"Kiernan, Mr. ...\"}, \"Lesurer, Mr. Gustave J\": {\"frequency\": 1, \"value\": \"Lesurer, Mr. ...\"}, \"Artagaveytia, Mr. Ramon\": {\"frequency\": 1, \"value\": \"Artagaveytia, Mr. ...\"}, \"Frauenthal, Mrs. Henry William (Clara Heinsheimer)\": {\"frequency\": 1, \"value\": \"Frauenthal, Mrs. ...\"}, \"Skoog, Miss. Mabel\": {\"frequency\": 1, \"value\": \"Skoog, Miss. Mabel\"}, \"Cardeza, Mr. Thomas Drake Martinez\": {\"frequency\": 1, \"value\": \"Cardeza, Mr. ...\"}, \"Laitinen, Miss. Kristina Sofia\": {\"frequency\": 1, \"value\": \"Laitinen, Miss. ...\"}, \"Parrish, Mrs. (Lutie Davis)\": {\"frequency\": 1, \"value\": \"Parrish, Mrs. ...\"}, \"McMahon, Mr. Martin\": {\"frequency\": 1, \"value\": \"McMahon, Mr. ...\"}, \"Jermyn, Miss. Annie\": {\"frequency\": 1, \"value\": \"Jermyn, Miss. ...\"}, \"Lulic, Mr. Nikola\": {\"frequency\": 1, \"value\": \"Lulic, Mr. Nikola\"}, \"Eustis, Miss. Elizabeth Mussey\": {\"frequency\": 1, \"value\": \"Eustis, Miss. ...\"}, \"Carter, Mrs. William Ernest (Lucile Polk)\": {\"frequency\": 1, \"value\": \"Carter, Mrs. ...\"}, \"Carter, Rev. Ernest Courtenay\": {\"frequency\": 1, \"value\": \"Carter, Rev. ...\"}, \"Sdycoff, Mr. Todor\": {\"frequency\": 1, \"value\": \"Sdycoff, Mr. Todor\"}, \"Rice, Mrs. William (Margaret Norton)\": {\"frequency\": 1, \"value\": \"Rice, Mrs. William ...\"}, \"Kantor, Mr. Sinai\": {\"frequency\": 1, \"value\": \"Kantor, Mr. Sinai\"}, \"Troupiansky, Mr. Moses Aaron\": {\"frequency\": 1, \"value\": \"Troupiansky, Mr. ...\"}, \"Penasco y Castellana, Mrs. Victor de Satode (Maria Josefa Perez de Soto y Vallejo)\": {\"frequency\": 1, \"value\": \"Penasco y ...\"}, \"Kirkland, Rev. Charles Leonard\": {\"frequency\": 1, \"value\": \"Kirkland, Rev. ...\"}, \"Otter, Mr. Richard\": {\"frequency\": 1, \"value\": \"Otter, Mr. Richard\"}, \"Glynn, Miss. Mary Agatha\": {\"frequency\": 1, \"value\": \"Glynn, Miss. Mary ...\"}, \"Beckwith, Mrs. Richard Leonard (Sallie Monypeny)\": {\"frequency\": 1, \"value\": \"Beckwith, Mrs. ...\"}, \"Quick, Mrs. Frederick Charles (Jane Richards)\": {\"frequency\": 1, \"value\": \"Quick, Mrs. ...\"}, \"McCarthy, Mr. Timothy J\": {\"frequency\": 1, \"value\": \"McCarthy, Mr. ...\"}, \"Harper, Miss. Annie Jessie \\\"Nina\\\"\": {\"frequency\": 1, \"value\": \"Harper, Miss. ...\"}, \"Plotcharsky, Mr. Vasil\": {\"frequency\": 1, \"value\": \"Plotcharsky, Mr. ...\"}, \"Allison, Mrs. Hudson J C (Bessie Waldo Daniels)\": {\"frequency\": 1, \"value\": \"Allison, Mrs. ...\"}, \"Paulner, Mr. Uscher\": {\"frequency\": 1, \"value\": \"Paulner, Mr. ...\"}, \"Connolly, Miss. Kate\": {\"frequency\": 1, \"value\": \"Connolly, Miss. ...\"}, \"Leeni, Mr. Fahim (\\\"Philip Zenni\\\")\": {\"frequency\": 1, \"value\": \"Leeni, Mr. Fahim ...\"}, \"Swift, Mrs. Frederick Joel (Margaret Welles Barron)\": {\"frequency\": 1, \"value\": \"Swift, Mrs. ...\"}, \"Hassab, Mr. Hammad\": {\"frequency\": 1, \"value\": \"Hassab, Mr. Hammad\"}, \"Sivola, Mr. Antti Wilhelm\": {\"frequency\": 1, \"value\": \"Sivola, Mr. Antti ...\"}, \"Goodwin, Master. Harold Victor\": {\"frequency\": 1, \"value\": \"Goodwin, Master. ...\"}, \"Sandstrom, Mrs. Hjalmar (Agnes Charlotta Bengtsson)\": {\"frequency\": 1, \"value\": \"Sandstrom, Mrs. ...\"}, \"Jussila, Miss. Katriina\": {\"frequency\": 1, \"value\": \"Jussila, Miss. ...\"}, \"Lemore, Mrs. (Amelia Milley)\": {\"frequency\": 1, \"value\": \"Lemore, Mrs. ...\"}, \"Sage, Mr. Frederick\": {\"frequency\": 1, \"value\": \"Sage, Mr. ...\"}, \"Rekic, Mr. Tido\": {\"frequency\": 1, \"value\": \"Rekic, Mr. Tido\"}, \"Williams, Mr. Charles Duane\": {\"frequency\": 1, \"value\": \"Williams, Mr. ...\"}, \"Gillespie, Mr. William Henry\": {\"frequency\": 1, \"value\": \"Gillespie, Mr. ...\"}, \"Panula, Mr. Ernesti Arvid\": {\"frequency\": 1, \"value\": \"Panula, Mr. ...\"}, \"Morley, Mr. William\": {\"frequency\": 1, \"value\": \"Morley, Mr. ...\"}, \"Niskanen, Mr. Juha\": {\"frequency\": 1, \"value\": \"Niskanen, Mr. Juha\"}, \"Sage, Miss. Constance Gladys\": {\"frequency\": 1, \"value\": \"Sage, Miss. ...\"}, \"Christmann, Mr. Emil\": {\"frequency\": 1, \"value\": \"Christmann, Mr. ...\"}, \"Duane, Mr. Frank\": {\"frequency\": 1, \"value\": \"Duane, Mr. Frank\"}, \"Peter, Miss. Anna\": {\"frequency\": 1, \"value\": \"Peter, Miss. Anna\"}, \"McCormack, Mr. Thomas Joseph\": {\"frequency\": 1, \"value\": \"McCormack, Mr. ...\"}, \"Connaghton, Mr. Michael\": {\"frequency\": 1, \"value\": \"Connaghton, Mr. ...\"}, \"Perreault, Miss. Anne\": {\"frequency\": 1, \"value\": \"Perreault, Miss. ...\"}, \"Dahl, Mr. Karl Edwart\": {\"frequency\": 1, \"value\": \"Dahl, Mr. Karl ...\"}, \"Vander Planke, Mr. Leo Edmondus\": {\"frequency\": 1, \"value\": \"Vander Planke, Mr. ...\"}, \"Bailey, Mr. Percy Andrew\": {\"frequency\": 1, \"value\": \"Bailey, Mr. Percy ...\"}, \"Taylor, Mr. Elmer Zebley\": {\"frequency\": 1, \"value\": \"Taylor, Mr. Elmer ...\"}, \"Calderhead, Mr. Edward Pennington\": {\"frequency\": 1, \"value\": \"Calderhead, Mr. ...\"}, \"Potter, Mrs. Thomas Jr (Lily Alexenia Wilson)\": {\"frequency\": 1, \"value\": \"Potter, Mrs. ...\"}, \"Asplund, Master. Clarence Gustaf Hugo\": {\"frequency\": 1, \"value\": \"Asplund, Master. ...\"}, \"Murphy, Miss. Margaret Jane\": {\"frequency\": 1, \"value\": \"Murphy, Miss. ...\"}, \"Moutal, Mr. Rahamin Haim\": {\"frequency\": 1, \"value\": \"Moutal, Mr. ...\"}, \"Albimona, Mr. Nassef Cassem\": {\"frequency\": 1, \"value\": \"Albimona, Mr. ...\"}, \"Honkanen, Miss. Eliina\": {\"frequency\": 1, \"value\": \"Honkanen, Miss. ...\"}, \"Moor, Mrs. (Beila)\": {\"frequency\": 1, \"value\": \"Moor, Mrs. (Beila)\"}, \"Ostby, Mr. Engelhart Cornelius\": {\"frequency\": 1, \"value\": \"Ostby, Mr. ...\"}, \"Thayer, Mr. John Borland Jr\": {\"frequency\": 1, \"value\": \"Thayer, Mr. John ...\"}, \"Brown, Mrs. Thomas William Solomon (Elizabeth Catherine Ford)\": {\"frequency\": 1, \"value\": \"Brown, Mrs. Thomas ...\"}, \"Banfield, Mr. Frederick James\": {\"frequency\": 1, \"value\": \"Banfield, Mr. ...\"}, \"Marvin, Mr. Daniel Warner\": {\"frequency\": 1, \"value\": \"Marvin, Mr. Daniel ...\"}, \"Canavan, Miss. Mary\": {\"frequency\": 1, \"value\": \"Canavan, Miss. ...\"}, \"Bazzani, Miss. Albina\": {\"frequency\": 1, \"value\": \"Bazzani, Miss. ...\"}, \"Tobin, Mr. Roger\": {\"frequency\": 1, \"value\": \"Tobin, Mr. Roger\"}, \"Mitchell, Mr. Henry Michael\": {\"frequency\": 1, \"value\": \"Mitchell, Mr. ...\"}, \"Tornquist, Mr. William Henry\": {\"frequency\": 1, \"value\": \"Tornquist, Mr. ...\"}, \"Davies, Mr. Charles Henry\": {\"frequency\": 1, \"value\": \"Davies, Mr. ...\"}, \"West, Mr. Edwy Arthur\": {\"frequency\": 1, \"value\": \"West, Mr. Edwy ...\"}, \"Icard, Miss. Amelie\": {\"frequency\": 1, \"value\": \"Icard, Miss. ...\"}, \"Fleming, Miss. Margaret\": {\"frequency\": 1, \"value\": \"Fleming, Miss. ...\"}, \"Touma, Mrs. Darwis (Hanne Youssef Razi)\": {\"frequency\": 1, \"value\": \"Touma, Mrs. Darwis ...\"}, \"Patchett, Mr. George\": {\"frequency\": 1, \"value\": \"Patchett, Mr. ...\"}, \"Dennis, Mr. Samuel\": {\"frequency\": 1, \"value\": \"Dennis, Mr. Samuel\"}, \"Rosblom, Mr. Viktor Richard\": {\"frequency\": 1, \"value\": \"Rosblom, Mr. ...\"}, \"Angle, Mrs. William A (Florence \\\"Mary\\\" Agnes Hughes)\": {\"frequency\": 1, \"value\": \"Angle, Mrs. ...\"}, \"Somerton, Mr. Francis William\": {\"frequency\": 1, \"value\": \"Somerton, Mr. ...\"}, \"Abbott, Mrs. Stanton (Rosa Hunt)\": {\"frequency\": 1, \"value\": \"Abbott, Mrs. ...\"}, \"Hansen, Mr. Henry Damsgaard\": {\"frequency\": 1, \"value\": \"Hansen, Mr. Henry ...\"}, \"O'Connor, Mr. Maurice\": {\"frequency\": 1, \"value\": \"O'Connor, Mr. ...\"}, \"Louch, Mrs. Charles Alexander (Alice Adelaide Slow)\": {\"frequency\": 1, \"value\": \"Louch, Mrs. ...\"}, \"Hippach, Mrs. Louis Albert (Ida Sophia Fischer)\": {\"frequency\": 1, \"value\": \"Hippach, Mrs. ...\"}, \"Baumann, Mr. John D\": {\"frequency\": 1, \"value\": \"Baumann, Mr. John ...\"}, \"Coleff, Mr. Satio\": {\"frequency\": 1, \"value\": \"Coleff, Mr. Satio\"}, \"Bjornstrom-Steffansson, Mr. Mauritz Hakan\": {\"frequency\": 1, \"value\": \"Bjornstrom- ...\"}, \"Flynn, Mr. James\": {\"frequency\": 1, \"value\": \"Flynn, Mr. James\"}, \"Minahan, Dr. William Edward\": {\"frequency\": 1, \"value\": \"Minahan, Dr. ...\"}, \"Saundercock, Mr. William Henry\": {\"frequency\": 1, \"value\": \"Saundercock, Mr. ...\"}, \"Hoyt, Mrs. Frederick Maxfield (Jane Anne Forby)\": {\"frequency\": 1, \"value\": \"Hoyt, Mrs. ...\"}, \"Emir, Mr. Farred Chehab\": {\"frequency\": 1, \"value\": \"Emir, Mr. Farred ...\"}, \"Stoytcheff, Mr. Ilia\": {\"frequency\": 1, \"value\": \"Stoytcheff, Mr. ...\"}, \"Nicholson, Mr. Arthur Ernest\": {\"frequency\": 1, \"value\": \"Nicholson, Mr. ...\"}, \"Calic, Mr. Petar\": {\"frequency\": 1, \"value\": \"Calic, Mr. Petar\"}, \"Madsen, Mr. Fridtjof Arne\": {\"frequency\": 1, \"value\": \"Madsen, Mr. ...\"}, \"Knight, Mr. Robert J\": {\"frequency\": 1, \"value\": \"Knight, Mr. Robert ...\"}, \"Hassan, Mr. Houssein G N\": {\"frequency\": 1, \"value\": \"Hassan, Mr. ...\"}, \"West, Mrs. Edwy Arthur (Ada Mary Worth)\": {\"frequency\": 1, \"value\": \"West, Mrs. Edwy ...\"}, \"Skoog, Mr. Wilhelm\": {\"frequency\": 1, \"value\": \"Skoog, Mr. Wilhelm\"}, \"Ross, Mr. John Hugo\": {\"frequency\": 1, \"value\": \"Ross, Mr. John ...\"}, \"Jensen, Mr. Svend Lauritz\": {\"frequency\": 1, \"value\": \"Jensen, Mr. Svend ...\"}, \"Palsson, Miss. Torborg Danira\": {\"frequency\": 1, \"value\": \"Palsson, Miss. ...\"}, \"Vanden Steen, Mr. Leo Peter\": {\"frequency\": 1, \"value\": \"Vanden Steen, Mr. ...\"}, \"Sunderland, Mr. Victor Francis\": {\"frequency\": 1, \"value\": \"Sunderland, Mr. ...\"}, \"Goodwin, Mrs. Frederick (Augusta Tyler)\": {\"frequency\": 1, \"value\": \"Goodwin, Mrs. ...\"}, \"Smith, Mr. Richard William\": {\"frequency\": 1, \"value\": \"Smith, Mr. Richard ...\"}, \"Barkworth, Mr. Algernon Henry Wilson\": {\"frequency\": 1, \"value\": \"Barkworth, Mr. ...\"}, \"Thayer, Mr. John Borland\": {\"frequency\": 1, \"value\": \"Thayer, Mr. John ...\"}, \"Radeff, Mr. Alexander\": {\"frequency\": 1, \"value\": \"Radeff, Mr. ...\"}, \"Coleridge, Mr. Reginald Charles\": {\"frequency\": 1, \"value\": \"Coleridge, Mr. ...\"}, \"Shellard, Mr. Frederick William\": {\"frequency\": 1, \"value\": \"Shellard, Mr. ...\"}, \"Culumovic, Mr. Jeso\": {\"frequency\": 1, \"value\": \"Culumovic, Mr. ...\"}, \"Rouse, Mr. Richard Henry\": {\"frequency\": 1, \"value\": \"Rouse, Mr. Richard ...\"}, \"Hays, Miss. Margaret Bechstein\": {\"frequency\": 1, \"value\": \"Hays, Miss. ...\"}, \"Bourke, Mr. John\": {\"frequency\": 1, \"value\": \"Bourke, Mr. John\"}, \"Montvila, Rev. Juozas\": {\"frequency\": 1, \"value\": \"Montvila, Rev. ...\"}, \"Holverson, Mrs. Alexander Oskar (Mary Aline Towner)\": {\"frequency\": 1, \"value\": \"Holverson, Mrs. ...\"}, \"Moran, Mr. Daniel J\": {\"frequency\": 1, \"value\": \"Moran, Mr. Daniel ...\"}, \"Skoog, Master. Karl Thorsten\": {\"frequency\": 1, \"value\": \"Skoog, Master. ...\"}, \"Ball, Mrs. (Ada E Hall)\": {\"frequency\": 1, \"value\": \"Ball, Mrs. (Ada E ...\"}, \"Sage, Master. Thomas Henry\": {\"frequency\": 1, \"value\": \"Sage, Master. ...\"}, \"Ilett, Miss. Bertha\": {\"frequency\": 1, \"value\": \"Ilett, Miss. ...\"}, \"O'Brien, Mr. Thomas\": {\"frequency\": 1, \"value\": \"O'Brien, Mr. ...\"}, \"Shorney, Mr. Charles Joseph\": {\"frequency\": 1, \"value\": \"Shorney, Mr. ...\"}, \"Ali, Mr. Ahmed\": {\"frequency\": 1, \"value\": \"Ali, Mr. Ahmed\"}, \"Devaney, Miss. Margaret Delia\": {\"frequency\": 1, \"value\": \"Devaney, Miss. ...\"}, \"Moraweck, Dr. Ernest\": {\"frequency\": 1, \"value\": \"Moraweck, Dr. ...\"}, \"Pears, Mrs. Thomas (Edith Wearne)\": {\"frequency\": 1, \"value\": \"Pears, Mrs. Thomas ...\"}, \"Yousif, Mr. Wazli\": {\"frequency\": 1, \"value\": \"Yousif, Mr. Wazli\"}, \"Goodwin, Master. William Frederick\": {\"frequency\": 1, \"value\": \"Goodwin, Master. ...\"}, \"Chapman, Mr. Charles Henry\": {\"frequency\": 1, \"value\": \"Chapman, Mr. ...\"}, \"Webber, Miss. Susan\": {\"frequency\": 1, \"value\": \"Webber, Miss. ...\"}, \"Jansson, Mr. Carl Olof\": {\"frequency\": 1, \"value\": \"Jansson, Mr. Carl ...\"}, \"Lefebre, Miss. Mathilde\": {\"frequency\": 1, \"value\": \"Lefebre, Miss. ...\"}, \"Saalfeld, Mr. Adolphe\": {\"frequency\": 1, \"value\": \"Saalfeld, Mr. ...\"}, \"Van Impe, Miss. Catharina\": {\"frequency\": 1, \"value\": \"Van Impe, Miss. ...\"}, \"Mudd, Mr. Thomas Charles\": {\"frequency\": 1, \"value\": \"Mudd, Mr. Thomas ...\"}, \"Lindahl, Miss. Agda Thorilda Viktoria\": {\"frequency\": 1, \"value\": \"Lindahl, Miss. ...\"}, \"Wick, Miss. Mary Natalie\": {\"frequency\": 1, \"value\": \"Wick, Miss. Mary ...\"}, \"Adams, Mr. John\": {\"frequency\": 1, \"value\": \"Adams, Mr. John\"}, \"Clifford, Mr. George Quincy\": {\"frequency\": 1, \"value\": \"Clifford, Mr. ...\"}, \"Cook, Mr. Jacob\": {\"frequency\": 1, \"value\": \"Cook, Mr. Jacob\"}, \"Madigan, Miss. Margaret \\\"Maggie\\\"\": {\"frequency\": 1, \"value\": \"Madigan, Miss. ...\"}, \"Vander Cruyssen, Mr. Victor\": {\"frequency\": 1, \"value\": \"Vander Cruyssen, ...\"}, \"Jarvis, Mr. John Denzil\": {\"frequency\": 1, \"value\": \"Jarvis, Mr. John ...\"}, \"Sage, Mr. Douglas Bullen\": {\"frequency\": 1, \"value\": \"Sage, Mr. Douglas ...\"}, \"Anderson, Mr. Harry\": {\"frequency\": 1, \"value\": \"Anderson, Mr. ...\"}, \"Kelly, Miss. Anna Katherine \\\"Annie Kate\\\"\": {\"frequency\": 1, \"value\": \"Kelly, Miss. Anna ...\"}, \"Minahan, Miss. Daisy E\": {\"frequency\": 1, \"value\": \"Minahan, Miss. ...\"}, \"Hagland, Mr. Konrad Mathias Reiersen\": {\"frequency\": 1, \"value\": \"Hagland, Mr. ...\"}, \"McDermott, Miss. Brigdet Delia\": {\"frequency\": 1, \"value\": \"McDermott, Miss. ...\"}, \"Hood, Mr. Ambrose Jr\": {\"frequency\": 1, \"value\": \"Hood, Mr. Ambrose ...\"}, \"Greenfield, Mr. William Bertram\": {\"frequency\": 1, \"value\": \"Greenfield, Mr. ...\"}, \"Bostandyeff, Mr. Guentcho\": {\"frequency\": 1, \"value\": \"Bostandyeff, Mr. ...\"}, \"Johannesen-Bratthammer, Mr. Bernt\": {\"frequency\": 1, \"value\": \"Johannesen- ...\"}, \"Markun, Mr. Johann\": {\"frequency\": 1, \"value\": \"Markun, Mr. Johann\"}, \"Turpin, Mr. William John Robert\": {\"frequency\": 1, \"value\": \"Turpin, Mr. ...\"}, \"Andersson, Mr. Anders Johan\": {\"frequency\": 1, \"value\": \"Andersson, Mr. ...\"}, \"Richards, Master. William Rowe\": {\"frequency\": 1, \"value\": \"Richards, Master. ...\"}, \"Cleaver, Miss. Alice\": {\"frequency\": 1, \"value\": \"Cleaver, Miss. ...\"}, \"Andersson, Mr. August Edvard (\\\"Wennerstrom\\\")\": {\"frequency\": 1, \"value\": \"Andersson, Mr. ...\"}, \"Trout, Mrs. William H (Jessie L)\": {\"frequency\": 1, \"value\": \"Trout, Mrs. ...\"}, \"Danbom, Mrs. Ernst Gilbert (Anna Sigrid Maria Brogren)\": {\"frequency\": 1, \"value\": \"Danbom, Mrs. Ernst ...\"}, \"Coleff, Mr. Peju\": {\"frequency\": 1, \"value\": \"Coleff, Mr. Peju\"}, \"Herman, Mrs. Samuel (Jane Laver)\": {\"frequency\": 1, \"value\": \"Herman, Mrs. ...\"}, \"Sandstrom, Miss. Marguerite Rut\": {\"frequency\": 1, \"value\": \"Sandstrom, Miss. ...\"}, \"Eitemiller, Mr. George Floyd\": {\"frequency\": 1, \"value\": \"Eitemiller, Mr. ...\"}, \"Caldwell, Mrs. Albert Francis (Sylvia Mae Harbaugh)\": {\"frequency\": 1, \"value\": \"Caldwell, Mrs. ...\"}, \"Bengtsson, Mr. John Viktor\": {\"frequency\": 1, \"value\": \"Bengtsson, Mr. ...\"}, \"Norman, Mr. Robert Douglas\": {\"frequency\": 1, \"value\": \"Norman, Mr. Robert ...\"}, \"Slayter, Miss. Hilda Mary\": {\"frequency\": 1, \"value\": \"Slayter, Miss. ...\"}, \"Meyer, Mr. Edgar Joseph\": {\"frequency\": 1, \"value\": \"Meyer, Mr. Edgar ...\"}, \"Widener, Mr. Harry Elkins\": {\"frequency\": 1, \"value\": \"Widener, Mr. Harry ...\"}, \"Taussig, Mr. Emil\": {\"frequency\": 1, \"value\": \"Taussig, Mr. Emil\"}, \"Braund, Mr. Owen Harris\": {\"frequency\": 1, \"value\": \"Braund, Mr. Owen ...\"}, \"de Messemaeker, Mrs. Guillaume Joseph (Emma)\": {\"frequency\": 1, \"value\": \"de Messemaeker, ...\"}, \"Fortune, Mr. Mark\": {\"frequency\": 1, \"value\": \"Fortune, Mr. Mark\"}, \"Calic, Mr. Jovo\": {\"frequency\": 1, \"value\": \"Calic, Mr. Jovo\"}, \"Hoyt, Mr. William Fisher\": {\"frequency\": 1, \"value\": \"Hoyt, Mr. William ...\"}, \"Stanley, Mr. Edward Roland\": {\"frequency\": 1, \"value\": \"Stanley, Mr. ...\"}, \"Tikkanen, Mr. Juho\": {\"frequency\": 1, \"value\": \"Tikkanen, Mr. Juho\"}, \"Guggenheim, Mr. Benjamin\": {\"frequency\": 1, \"value\": \"Guggenheim, Mr. ...\"}, \"Johnson, Mr. Malkolm Joackim\": {\"frequency\": 1, \"value\": \"Johnson, Mr. ...\"}, \"White, Mr. Richard Frasar\": {\"frequency\": 1, \"value\": \"White, Mr. Richard ...\"}, \"Young, Miss. Marie Grice\": {\"frequency\": 1, \"value\": \"Young, Miss. Marie ...\"}, \"Moen, Mr. Sigurd Hansen\": {\"frequency\": 1, \"value\": \"Moen, Mr. Sigurd ...\"}, \"Drazenoic, Mr. Jozef\": {\"frequency\": 1, \"value\": \"Drazenoic, Mr. ...\"}, \"Graham, Mrs. William Thompson (Edith Junkins)\": {\"frequency\": 1, \"value\": \"Graham, Mrs. ...\"}, \"Pettersson, Miss. Ellen Natalia\": {\"frequency\": 1, \"value\": \"Pettersson, Miss. ...\"}, \"Asim, Mr. Adola\": {\"frequency\": 1, \"value\": \"Asim, Mr. Adola\"}, \"Thomas, Master. Assad Alexander\": {\"frequency\": 1, \"value\": \"Thomas, Master. ...\"}, \"McKane, Mr. Peter David\": {\"frequency\": 1, \"value\": \"McKane, Mr. Peter ...\"}, \"Woolner, Mr. Hugh\": {\"frequency\": 1, \"value\": \"Woolner, Mr. Hugh\"}, \"Lester, Mr. James\": {\"frequency\": 1, \"value\": \"Lester, Mr. James\"}, \"Bissette, Miss. Amelia\": {\"frequency\": 1, \"value\": \"Bissette, Miss. ...\"}, \"Berriman, Mr. William John\": {\"frequency\": 1, \"value\": \"Berriman, Mr. ...\"}, \"Palsson, Master. Gosta Leonard\": {\"frequency\": 1, \"value\": \"Palsson, Master. ...\"}, \"Celotti, Mr. Francesco\": {\"frequency\": 1, \"value\": \"Celotti, Mr. ...\"}, \"Dodge, Master. Washington\": {\"frequency\": 1, \"value\": \"Dodge, Master. ...\"}, \"Rogers, Mr. William John\": {\"frequency\": 1, \"value\": \"Rogers, Mr. ...\"}, \"Givard, Mr. Hans Kristensen\": {\"frequency\": 1, \"value\": \"Givard, Mr. Hans ...\"}, \"Navratil, Mr. Michel (\\\"Louis M Hoffman\\\")\": {\"frequency\": 1, \"value\": \"Navratil, Mr. ...\"}, \"Nenkoff, Mr. Christo\": {\"frequency\": 1, \"value\": \"Nenkoff, Mr. ...\"}, \"McCoy, Miss. Agnes\": {\"frequency\": 1, \"value\": \"McCoy, Miss. Agnes\"}, \"Haas, Miss. Aloisia\": {\"frequency\": 1, \"value\": \"Haas, Miss. ...\"}, \"Corn, Mr. Harry\": {\"frequency\": 1, \"value\": \"Corn, Mr. Harry\"}, \"Razi, Mr. Raihed\": {\"frequency\": 1, \"value\": \"Razi, Mr. Raihed\"}, \"Frost, Mr. Anthony Wood \\\"Archie\\\"\": {\"frequency\": 1, \"value\": \"Frost, Mr. Anthony ...\"}, \"Elias, Mr. Tannous\": {\"frequency\": 1, \"value\": \"Elias, Mr. Tannous\"}, \"Lahtinen, Mrs. William (Anna Sylfven)\": {\"frequency\": 1, \"value\": \"Lahtinen, Mrs. ...\"}, \"Ali, Mr. William\": {\"frequency\": 1, \"value\": \"Ali, Mr. William\"}, \"Scanlan, Mr. James\": {\"frequency\": 1, \"value\": \"Scanlan, Mr. James\"}, \"Padro y Manent, Mr. Julian\": {\"frequency\": 1, \"value\": \"Padro y Manent, ...\"}, \"Moran, Mr. James\": {\"frequency\": 1, \"value\": \"Moran, Mr. James\"}, \"Aks, Mrs. Sam (Leah Rosen)\": {\"frequency\": 1, \"value\": \"Aks, Mrs. Sam ...\"}, \"Roebling, Mr. Washington Augustus II\": {\"frequency\": 1, \"value\": \"Roebling, Mr. ...\"}, \"Beane, Mrs. Edward (Ethel Clarke)\": {\"frequency\": 1, \"value\": \"Beane, Mrs. Edward ...\"}, \"Buss, Miss. Kate\": {\"frequency\": 1, \"value\": \"Buss, Miss. Kate\"}, \"Olsen, Mr. Henry Margido\": {\"frequency\": 1, \"value\": \"Olsen, Mr. Henry ...\"}, \"Rommetvedt, Mr. Knud Paust\": {\"frequency\": 1, \"value\": \"Rommetvedt, Mr. ...\"}, \"Bourke, Miss. Mary\": {\"frequency\": 1, \"value\": \"Bourke, Miss. Mary\"}, \"Brewe, Dr. Arthur Jackson\": {\"frequency\": 1, \"value\": \"Brewe, Dr. Arthur ...\"}, \"Wheadon, Mr. Edward H\": {\"frequency\": 1, \"value\": \"Wheadon, Mr. ...\"}, \"Petterson, Mr. Johan Emil\": {\"frequency\": 1, \"value\": \"Petterson, Mr. ...\"}, \"Hansen, Mr. Claus Peter\": {\"frequency\": 1, \"value\": \"Hansen, Mr. Claus ...\"}, \"Toufik, Mr. Nakli\": {\"frequency\": 1, \"value\": \"Toufik, Mr. Nakli\"}, \"Watson, Mr. Ennis Hastings\": {\"frequency\": 1, \"value\": \"Watson, Mr. Ennis ...\"}, \"Baxter, Mr. Quigg Edmond\": {\"frequency\": 1, \"value\": \"Baxter, Mr. Quigg ...\"}, \"Newsom, Miss. Helen Monypeny\": {\"frequency\": 1, \"value\": \"Newsom, Miss. ...\"}, \"Cribb, Mr. John Hatfield\": {\"frequency\": 1, \"value\": \"Cribb, Mr. John ...\"}, \"Hocking, Mrs. Elizabeth (Eliza Needs)\": {\"frequency\": 1, \"value\": \"Hocking, Mrs. ...\"}, \"Duff Gordon, Sir. Cosmo Edmund (\\\"Mr Morgan\\\")\": {\"frequency\": 1, \"value\": \"Duff Gordon, Sir. ...\"}, \"Gaskell, Mr. Alfred\": {\"frequency\": 1, \"value\": \"Gaskell, Mr. ...\"}, \"Goldschmidt, Mr. George B\": {\"frequency\": 1, \"value\": \"Goldschmidt, Mr. ...\"}, \"Lam, Mr. Ali\": {\"frequency\": 1, \"value\": \"Lam, Mr. Ali\"}, \"Hays, Mrs. Charles Melville (Clara Jennings Gregg)\": {\"frequency\": 1, \"value\": \"Hays, Mrs. Charles ...\"}, \"Petranec, Miss. Matilda\": {\"frequency\": 1, \"value\": \"Petranec, Miss. ...\"}, \"Boulos, Miss. Nourelain\": {\"frequency\": 1, \"value\": \"Boulos, Miss. ...\"}, \"Johnson, Mrs. Oscar W (Elisabeth Vilhelmina Berg)\": {\"frequency\": 1, \"value\": \"Johnson, Mrs. ...\"}, \"Wright, Mr. George\": {\"frequency\": 1, \"value\": \"Wright, Mr. George\"}, \"Asplund, Master. Edvin Rojj Felix\": {\"frequency\": 1, \"value\": \"Asplund, Master. ...\"}, \"Lobb, Mr. William Arthur\": {\"frequency\": 1, \"value\": \"Lobb, Mr. William ...\"}, \"Ayoub, Miss. Banoura\": {\"frequency\": 1, \"value\": \"Ayoub, Miss. ...\"}, \"Salonen, Mr. Johan Werner\": {\"frequency\": 1, \"value\": \"Salonen, Mr. Johan ...\"}, \"Davison, Mrs. Thomas Henry (Mary E Finck)\": {\"frequency\": 1, \"value\": \"Davison, Mrs. ...\"}, \"Moore, Mr. Leonard Charles\": {\"frequency\": 1, \"value\": \"Moore, Mr. Leonard ...\"}, \"Wiseman, Mr. Phillippe\": {\"frequency\": 1, \"value\": \"Wiseman, Mr. ...\"}, \"Mangan, Miss. Mary\": {\"frequency\": 1, \"value\": \"Mangan, Miss. Mary\"}, \"Stephenson, Mrs. Walter Bertram (Martha Eustis)\": {\"frequency\": 1, \"value\": \"Stephenson, Mrs. ...\"}, \"White, Mr. Percival Wayland\": {\"frequency\": 1, \"value\": \"White, Mr. ...\"}, \"Laroche, Miss. Simonne Marie Anne Andree\": {\"frequency\": 1, \"value\": \"Laroche, Miss. ...\"}, \"Johnston, Mr. Andrew G\": {\"frequency\": 1, \"value\": \"Johnston, Mr. ...\"}, \"Murdlin, Mr. Joseph\": {\"frequency\": 1, \"value\": \"Murdlin, Mr. ...\"}, \"Fischer, Mr. Eberhard Thelander\": {\"frequency\": 1, \"value\": \"Fischer, Mr. ...\"}, \"Kvillner, Mr. Johan Henrik Johannesson\": {\"frequency\": 1, \"value\": \"Kvillner, Mr. ...\"}, \"Wilhelms, Mr. Charles\": {\"frequency\": 1, \"value\": \"Wilhelms, Mr. ...\"}, \"Laleff, Mr. Kristo\": {\"frequency\": 1, \"value\": \"Laleff, Mr. Kristo\"}, \"McNamee, Mr. Neal\": {\"frequency\": 1, \"value\": \"McNamee, Mr. Neal\"}, \"Harper, Rev. John\": {\"frequency\": 1, \"value\": \"Harper, Rev. John\"}, \"Samaan, Mr. Youssef\": {\"frequency\": 1, \"value\": \"Samaan, Mr. ...\"}, \"Davis, Miss. Mary\": {\"frequency\": 1, \"value\": \"Davis, Miss. Mary\"}, \"Collander, Mr. Erik Gustaf\": {\"frequency\": 1, \"value\": \"Collander, Mr. ...\"}, \"Brown, Miss. Amelia \\\"Mildred\\\"\": {\"frequency\": 1, \"value\": \"Brown, Miss. ...\"}, \"Pekoniemi, Mr. Edvard\": {\"frequency\": 1, \"value\": \"Pekoniemi, Mr. ...\"}, \"Andrew, Mr. Edgardo Samuel\": {\"frequency\": 1, \"value\": \"Andrew, Mr. ...\"}, \"Sundman, Mr. Johan Julian\": {\"frequency\": 1, \"value\": \"Sundman, Mr. Johan ...\"}, \"Williams, Mr. Leslie\": {\"frequency\": 1, \"value\": \"Williams, Mr. ...\"}, \"Blackwell, Mr. Stephen Weart\": {\"frequency\": 1, \"value\": \"Blackwell, Mr. ...\"}, \"Smith, Mr. James Clinch\": {\"frequency\": 1, \"value\": \"Smith, Mr. James ...\"}, \"Ringhini, Mr. Sante\": {\"frequency\": 1, \"value\": \"Ringhini, Mr. ...\"}, \"Cacic, Mr. Luka\": {\"frequency\": 1, \"value\": \"Cacic, Mr. Luka\"}, \"Nicola-Yarred, Miss. Jamila\": {\"frequency\": 1, \"value\": \"Nicola-Yarred, ...\"}, \"Goodwin, Mr. Charles Edward\": {\"frequency\": 1, \"value\": \"Goodwin, Mr. ...\"}, \"Sjoblom, Miss. Anna Sofia\": {\"frequency\": 1, \"value\": \"Sjoblom, Miss. ...\"}, \"Osman, Mrs. Mara\": {\"frequency\": 1, \"value\": \"Osman, Mrs. Mara\"}, \"Pavlovic, Mr. Stefo\": {\"frequency\": 1, \"value\": \"Pavlovic, Mr. ...\"}, \"Kallio, Mr. Nikolai Erland\": {\"frequency\": 1, \"value\": \"Kallio, Mr. ...\"}, \"Milling, Mr. Jacob Christian\": {\"frequency\": 1, \"value\": \"Milling, Mr. Jacob ...\"}, \"Adahl, Mr. Mauritz Nils Martin\": {\"frequency\": 1, \"value\": \"Adahl, Mr. Mauritz ...\"}, \"Connors, Mr. Patrick\": {\"frequency\": 1, \"value\": \"Connors, Mr. ...\"}, \"Johanson, Mr. Jakob Alfred\": {\"frequency\": 1, \"value\": \"Johanson, Mr. ...\"}, \"Graham, Mr. George Edward\": {\"frequency\": 1, \"value\": \"Graham, Mr. George ...\"}, \"Allison, Master. Hudson Trevor\": {\"frequency\": 1, \"value\": \"Allison, Master. ...\"}, \"Mayne, Mlle. Berthe Antonine (\\\"Mrs de Villiers\\\")\": {\"frequency\": 1, \"value\": \"Mayne, Mlle. ...\"}, \"Cumings, Mrs. John Bradley (Florence Briggs Thayer)\": {\"frequency\": 1, \"value\": \"Cumings, Mrs. John ...\"}, \"Morley, Mr. Henry Samuel (\\\"Mr Henry Marshall\\\")\": {\"frequency\": 1, \"value\": \"Morley, Mr. Henry ...\"}, \"Perkin, Mr. John Henry\": {\"frequency\": 1, \"value\": \"Perkin, Mr. John ...\"}, \"Bidois, Miss. Rosalie\": {\"frequency\": 1, \"value\": \"Bidois, Miss. ...\"}, \"del Carlo, Mr. Sebastiano\": {\"frequency\": 1, \"value\": \"del Carlo, Mr. ...\"}, \"Yrois, Miss. Henriette (\\\"Mrs Harbeck\\\")\": {\"frequency\": 1, \"value\": \"Yrois, Miss. ...\"}, \"Lindell, Mr. Edvard Bengtsson\": {\"frequency\": 1, \"value\": \"Lindell, Mr. ...\"}, \"Frauenthal, Dr. Henry William\": {\"frequency\": 1, \"value\": \"Frauenthal, Dr. ...\"}, \"Lang, Mr. Fang\": {\"frequency\": 1, \"value\": \"Lang, Mr. Fang\"}, \"Peters, Miss. Katie\": {\"frequency\": 1, \"value\": \"Peters, Miss. ...\"}, \"Lehmann, Miss. Bertha\": {\"frequency\": 1, \"value\": \"Lehmann, Miss. ...\"}, \"Palsson, Miss. Stina Viola\": {\"frequency\": 1, \"value\": \"Palsson, Miss. ...\"}, \"Moubarek, Master. Gerios\": {\"frequency\": 1, \"value\": \"Moubarek, Master. ...\"}, \"Smith, Miss. Marion Elsie\": {\"frequency\": 1, \"value\": \"Smith, Miss. ...\"}, \"Mallet, Mr. Albert\": {\"frequency\": 1, \"value\": \"Mallet, Mr. Albert\"}, \"Ekstrom, Mr. Johan\": {\"frequency\": 1, \"value\": \"Ekstrom, Mr. Johan\"}, \"Marechal, Mr. Pierre\": {\"frequency\": 1, \"value\": \"Marechal, Mr. ...\"}, \"Johansson, Mr. Gustaf Joel\": {\"frequency\": 1, \"value\": \"Johansson, Mr. ...\"}, \"Simonius-Blumer, Col. Oberst Alfons\": {\"frequency\": 1, \"value\": \"Simonius-Blumer, ...\"}, \"Weisz, Mrs. Leopold (Mathilde Francoise Pede)\": {\"frequency\": 1, \"value\": \"Weisz, Mrs. ...\"}, \"Sobey, Mr. Samuel James Hayden\": {\"frequency\": 1, \"value\": \"Sobey, Mr. Samuel ...\"}, \"Lewy, Mr. Ervin G\": {\"frequency\": 1, \"value\": \"Lewy, Mr. Ervin G\"}, \"Watt, Mrs. James (Elizabeth \\\"Bessie\\\" Inglis Milne)\": {\"frequency\": 1, \"value\": \"Watt, Mrs. James ...\"}, \"Carrau, Mr. Francisco M\": {\"frequency\": 1, \"value\": \"Carrau, Mr. ...\"}, \"Newell, Miss. Marjorie\": {\"frequency\": 1, \"value\": \"Newell, Miss. ...\"}, \"Ohman, Miss. Velin\": {\"frequency\": 1, \"value\": \"Ohman, Miss. Velin\"}, \"van Melkebeke, Mr. Philemon\": {\"frequency\": 1, \"value\": \"van Melkebeke, Mr. ...\"}, \"Vande Velde, Mr. Johannes Joseph\": {\"frequency\": 1, \"value\": \"Vande Velde, Mr. ...\"}, \"Allum, Mr. Owen George\": {\"frequency\": 1, \"value\": \"Allum, Mr. Owen ...\"}, \"Jonkoff, Mr. Lalio\": {\"frequency\": 1, \"value\": \"Jonkoff, Mr. Lalio\"}, \"Henry, Miss. Delia\": {\"frequency\": 1, \"value\": \"Henry, Miss. Delia\"}, \"O'Brien, Mr. Timothy\": {\"frequency\": 1, \"value\": \"O'Brien, Mr. ...\"}, \"Peuchen, Major. Arthur Godfrey\": {\"frequency\": 1, \"value\": \"Peuchen, Major. ...\"}, \"Sawyer, Mr. Frederick Charles\": {\"frequency\": 1, \"value\": \"Sawyer, Mr. ...\"}, \"Baclini, Miss. Helene Barbara\": {\"frequency\": 1, \"value\": \"Baclini, Miss. ...\"}, \"Hale, Mr. Reginald\": {\"frequency\": 1, \"value\": \"Hale, Mr. Reginald\"}, \"Byles, Rev. Thomas Roussel Davids\": {\"frequency\": 1, \"value\": \"Byles, Rev. Thomas ...\"}, \"Frolicher, Miss. Hedwig Margaritha\": {\"frequency\": 1, \"value\": \"Frolicher, Miss. ...\"}, \"Hold, Mr. Stephen\": {\"frequency\": 1, \"value\": \"Hold, Mr. Stephen\"}, \"Asplund, Miss. Lillian Gertrud\": {\"frequency\": 1, \"value\": \"Asplund, Miss. ...\"}, \"Thayer, Mrs. John Borland (Marian Longstreth Morris)\": {\"frequency\": 1, \"value\": \"Thayer, Mrs. John ...\"}, \"Longley, Miss. Gretchen Fiske\": {\"frequency\": 1, \"value\": \"Longley, Miss. ...\"}, \"Dick, Mr. Albert Adrian\": {\"frequency\": 1, \"value\": \"Dick, Mr. Albert ...\"}, \"Johansson, Mr. Karl Johan\": {\"frequency\": 1, \"value\": \"Johansson, Mr. ...\"}, \"Baxter, Mrs. James (Helene DeLaudeniere Chaput)\": {\"frequency\": 1, \"value\": \"Baxter, Mrs. James ...\"}, \"Waelens, Mr. Achille\": {\"frequency\": 1, \"value\": \"Waelens, Mr. ...\"}, \"Laroche, Mr. Joseph Philippe Lemercier\": {\"frequency\": 1, \"value\": \"Laroche, Mr. ...\"}, \"Andrews, Miss. Kornelia Theodosia\": {\"frequency\": 1, \"value\": \"Andrews, Miss. ...\"}, \"Parkes, Mr. Francis \\\"Frank\\\"\": {\"frequency\": 1, \"value\": \"Parkes, Mr. ...\"}, \"Nasser, Mr. Nicholas\": {\"frequency\": 1, \"value\": \"Nasser, Mr. ...\"}, \"Hoyt, Mr. Frederick Maxfield\": {\"frequency\": 1, \"value\": \"Hoyt, Mr. ...\"}, \"Dean, Master. Bertram Vere\": {\"frequency\": 1, \"value\": \"Dean, Master. ...\"}, \"Faunthorpe, Mrs. Lizzie (Elizabeth Anne Wilkinson)\": {\"frequency\": 1, \"value\": \"Faunthorpe, Mrs. ...\"}, \"Futrelle, Mr. Jacques Heath\": {\"frequency\": 1, \"value\": \"Futrelle, Mr. ...\"}, \"Bryhl, Mr. Kurt Arnold Gottfrid\": {\"frequency\": 1, \"value\": \"Bryhl, Mr. Kurt ...\"}, \"Jensen, Mr. Hans Peder\": {\"frequency\": 1, \"value\": \"Jensen, Mr. Hans ...\"}, \"Heikkinen, Miss. Laina\": {\"frequency\": 1, \"value\": \"Heikkinen, Miss. ...\"}, \"Ling, Mr. Lee\": {\"frequency\": 1, \"value\": \"Ling, Mr. Lee\"}, \"Daly, Mr. Eugene Patrick\": {\"frequency\": 1, \"value\": \"Daly, Mr. Eugene ...\"}, \"Johansson, Mr. Erik\": {\"frequency\": 1, \"value\": \"Johansson, Mr. ...\"}, \"Kenyon, Mrs. Frederick R (Marion)\": {\"frequency\": 1, \"value\": \"Kenyon, Mrs. ...\"}, \"Webber, Mr. James\": {\"frequency\": 1, \"value\": \"Webber, Mr. James\"}, \"Ivanoff, Mr. Kanio\": {\"frequency\": 1, \"value\": \"Ivanoff, Mr. Kanio\"}, \"Hocking, Mr. Richard George\": {\"frequency\": 1, \"value\": \"Hocking, Mr. ...\"}, \"LeRoy, Miss. Bertha\": {\"frequency\": 1, \"value\": \"LeRoy, Miss. ...\"}, \"Elias, Mr. Joseph Jr\": {\"frequency\": 1, \"value\": \"Elias, Mr. Joseph ...\"}, \"Astor, Mrs. John Jacob (Madeleine Talmadge Force)\": {\"frequency\": 1, \"value\": \"Astor, Mrs. John ...\"}, \"Pain, Dr. Alfred\": {\"frequency\": 1, \"value\": \"Pain, Dr. Alfred\"}, \"McGough, Mr. James Robert\": {\"frequency\": 1, \"value\": \"McGough, Mr. James ...\"}, \"Sutton, Mr. Frederick\": {\"frequency\": 1, \"value\": \"Sutton, Mr. ...\"}, \"Behr, Mr. Karl Howell\": {\"frequency\": 1, \"value\": \"Behr, Mr. Karl ...\"}, \"Parr, Mr. William Henry Marsh\": {\"frequency\": 1, \"value\": \"Parr, Mr. William ...\"}, \"Crease, Mr. Ernest James\": {\"frequency\": 1, \"value\": \"Crease, Mr. Ernest ...\"}, \"Kilgannon, Mr. Thomas J\": {\"frequency\": 1, \"value\": \"Kilgannon, Mr. ...\"}, \"McGowan, Miss. Anna \\\"Annie\\\"\": {\"frequency\": 1, \"value\": \"McGowan, Miss. ...\"}, \"Hawksford, Mr. Walter James\": {\"frequency\": 1, \"value\": \"Hawksford, Mr. ...\"}, \"Warren, Mrs. Frank Manley (Anna Sophia Atkinson)\": {\"frequency\": 1, \"value\": \"Warren, Mrs. Frank ...\"}, \"Pernot, Mr. Rene\": {\"frequency\": 1, \"value\": \"Pernot, Mr. Rene\"}, \"Attalah, Miss. Malake\": {\"frequency\": 1, \"value\": \"Attalah, Miss. ...\"}, \"Fortune, Miss. Alice Elizabeth\": {\"frequency\": 1, \"value\": \"Fortune, Miss. ...\"}, \"Taussig, Miss. Ruth\": {\"frequency\": 1, \"value\": \"Taussig, Miss. ...\"}, \"Lennon, Mr. Denis\": {\"frequency\": 1, \"value\": \"Lennon, Mr. Denis\"}, \"Fortune, Mr. Charles Alexander\": {\"frequency\": 1, \"value\": \"Fortune, Mr. ...\"}, \"Lefebre, Master. Henry Forbes\": {\"frequency\": 1, \"value\": \"Lefebre, Master. ...\"}, \"Harknett, Miss. Alice Phoebe\": {\"frequency\": 1, \"value\": \"Harknett, Miss. ...\"}, \"Gee, Mr. Arthur H\": {\"frequency\": 1, \"value\": \"Gee, Mr. Arthur H\"}, \"Turpin, Mrs. William John Robert (Dorothy Ann Wonnacott)\": {\"frequency\": 1, \"value\": \"Turpin, Mrs. ...\"}, \"Troutt, Miss. Edwina Celia \\\"Winnie\\\"\": {\"frequency\": 1, \"value\": \"Troutt, Miss. ...\"}, \"Berglund, Mr. Karl Ivar Sven\": {\"frequency\": 1, \"value\": \"Berglund, Mr. Karl ...\"}, \"Walker, Mr. William Anderson\": {\"frequency\": 1, \"value\": \"Walker, Mr. ...\"}, \"Hart, Mr. Henry\": {\"frequency\": 1, \"value\": \"Hart, Mr. Henry\"}, \"Karaic, Mr. Milan\": {\"frequency\": 1, \"value\": \"Karaic, Mr. Milan\"}, \"Maenpaa, Mr. Matti Alexanteri\": {\"frequency\": 1, \"value\": \"Maenpaa, Mr. Matti ...\"}, \"Coutts, Master. Eden Leslie \\\"Neville\\\"\": {\"frequency\": 1, \"value\": \"Coutts, Master. ...\"}, \"Campbell, Mr. William\": {\"frequency\": 1, \"value\": \"Campbell, Mr. ...\"}, \"Bishop, Mr. Dickinson H\": {\"frequency\": 1, \"value\": \"Bishop, Mr. ...\"}, \"Kraeff, Mr. Theodor\": {\"frequency\": 1, \"value\": \"Kraeff, Mr. ...\"}, \"Jussila, Miss. Mari Aina\": {\"frequency\": 1, \"value\": \"Jussila, Miss. ...\"}, \"Baclini, Miss. Marie Catherine\": {\"frequency\": 1, \"value\": \"Baclini, Miss. ...\"}, \"Lemberopolous, Mr. Peter L\": {\"frequency\": 1, \"value\": \"Lemberopolous, Mr. ...\"}, \"Sharp, Mr. Percival James R\": {\"frequency\": 1, \"value\": \"Sharp, Mr. ...\"}, \"Sadlier, Mr. Matthew\": {\"frequency\": 1, \"value\": \"Sadlier, Mr. ...\"}, \"Goldsmith, Mr. Frank John\": {\"frequency\": 1, \"value\": \"Goldsmith, Mr. ...\"}, \"West, Miss. Constance Mirium\": {\"frequency\": 1, \"value\": \"West, Miss. ...\"}, \"Mullens, Miss. Katherine \\\"Katie\\\"\": {\"frequency\": 1, \"value\": \"Mullens, Miss. ...\"}, \"Olsvigen, Mr. Thor Anderson\": {\"frequency\": 1, \"value\": \"Olsvigen, Mr. Thor ...\"}, \"O'Brien, Mrs. Thomas (Johanna \\\"Hannah\\\" Godfrey)\": {\"frequency\": 1, \"value\": \"O'Brien, Mrs. ...\"}, \"Yasbeck, Mrs. Antoni (Selini Alexander)\": {\"frequency\": 1, \"value\": \"Yasbeck, Mrs. ...\"}, \"Heininen, Miss. Wendla Maria\": {\"frequency\": 1, \"value\": \"Heininen, Miss. ...\"}, \"Cohen, Mr. Gurshon \\\"Gus\\\"\": {\"frequency\": 1, \"value\": \"Cohen, Mr. Gurshon ...\"}, \"Sjostedt, Mr. Ernst Adolf\": {\"frequency\": 1, \"value\": \"Sjostedt, Mr. ...\"}, \"Robert, Mrs. Edward Scott (Elisabeth Walton McMillan)\": {\"frequency\": 1, \"value\": \"Robert, Mrs. ...\"}, \"Pasic, Mr. Jakob\": {\"frequency\": 1, \"value\": \"Pasic, Mr. Jakob\"}, \"Barah, Mr. Hanna Assi\": {\"frequency\": 1, \"value\": \"Barah, Mr. Hanna ...\"}, \"Renouf, Mr. Peter Henry\": {\"frequency\": 1, \"value\": \"Renouf, Mr. Peter ...\"}, \"Ford, Mrs. Edward (Margaret Ann Watson)\": {\"frequency\": 1, \"value\": \"Ford, Mrs. Edward ...\"}, \"Gallagher, Mr. Martin\": {\"frequency\": 1, \"value\": \"Gallagher, Mr. ...\"}, \"Leitch, Miss. Jessie Wills\": {\"frequency\": 1, \"value\": \"Leitch, Miss. ...\"}, \"Goldenberg, Mrs. Samuel L (Edwiga Grabowska)\": {\"frequency\": 1, \"value\": \"Goldenberg, Mrs. ...\"}, \"Coutts, Master. William Loch \\\"William\\\"\": {\"frequency\": 1, \"value\": \"Coutts, Master. ...\"}, \"Moor, Master. Meier\": {\"frequency\": 1, \"value\": \"Moor, Master. ...\"}, \"Palsson, Mrs. Nils (Alma Cornelia Berglund)\": {\"frequency\": 1, \"value\": \"Palsson, Mrs. Nils ...\"}, \"Gustafsson, Mr. Johan Birger\": {\"frequency\": 1, \"value\": \"Gustafsson, Mr. ...\"}, \"de Mulder, Mr. Theodore\": {\"frequency\": 1, \"value\": \"de Mulder, Mr. ...\"}, \"Allen, Miss. Elisabeth Walton\": {\"frequency\": 1, \"value\": \"Allen, Miss. ...\"}, \"Olsen, Mr. Karl Siegwart Andreas\": {\"frequency\": 1, \"value\": \"Olsen, Mr. Karl ...\"}, \"Asplund, Mrs. Carl Oscar (Selma Augusta Emilia Johansson)\": {\"frequency\": 1, \"value\": \"Asplund, Mrs. Carl ...\"}, \"Gustafsson, Mr. Alfred Ossian\": {\"frequency\": 1, \"value\": \"Gustafsson, Mr. ...\"}, \"Van Impe, Mr. Jean Baptiste\": {\"frequency\": 1, \"value\": \"Van Impe, Mr. Jean ...\"}, \"Abbott, Mr. Rossmore Edward\": {\"frequency\": 1, \"value\": \"Abbott, Mr. ...\"}, \"Boulos, Mrs. Joseph (Sultana)\": {\"frequency\": 1, \"value\": \"Boulos, Mrs. ...\"}, \"Ryan, Mr. Patrick\": {\"frequency\": 1, \"value\": \"Ryan, Mr. Patrick\"}, \"Olsson, Mr. Nils Johan Goransson\": {\"frequency\": 1, \"value\": \"Olsson, Mr. Nils ...\"}, \"Arnold-Franchi, Mr. Josef\": {\"frequency\": 1, \"value\": \"Arnold-Franchi, ...\"}, \"Keane, Miss. Nora A\": {\"frequency\": 1, \"value\": \"Keane, Miss. Nora ...\"}, \"Reuchlin, Jonkheer. John George\": {\"frequency\": 1, \"value\": \"Reuchlin, ...\"}, \"Hanna, Mr. Mansour\": {\"frequency\": 1, \"value\": \"Hanna, Mr. Mansour\"}, \"Carr, Miss. Helen \\\"Ellen\\\"\": {\"frequency\": 1, \"value\": \"Carr, Miss. Helen ...\"}, \"Richard, Mr. Emile\": {\"frequency\": 1, \"value\": \"Richard, Mr. Emile\"}, \"Frolicher-Stehli, Mr. Maxmillian\": {\"frequency\": 1, \"value\": \"Frolicher-Stehli, ...\"}, \"Blank, Mr. Henry\": {\"frequency\": 1, \"value\": \"Blank, Mr. Henry\"}, \"Harper, Mrs. Henry Sleeper (Myna Haxtun)\": {\"frequency\": 1, \"value\": \"Harper, Mrs. Henry ...\"}, \"Cavendish, Mr. Tyrell William\": {\"frequency\": 1, \"value\": \"Cavendish, Mr. ...\"}, \"Turkula, Mrs. (Hedwig)\": {\"frequency\": 1, \"value\": \"Turkula, Mrs. ...\"}, \"Mellinger, Mrs. (Elizabeth Anne Maidment)\": {\"frequency\": 1, \"value\": \"Mellinger, Mrs. ...\"}, \"Gronnestad, Mr. Daniel Danielsen\": {\"frequency\": 1, \"value\": \"Gronnestad, Mr. ...\"}, \"Jardin, Mr. Jose Neto\": {\"frequency\": 1, \"value\": \"Jardin, Mr. Jose ...\"}, \"Andersson, Miss. Sigrid Elisabeth\": {\"frequency\": 1, \"value\": \"Andersson, Miss. ...\"}, \"Rice, Master. Arthur\": {\"frequency\": 1, \"value\": \"Rice, Master. ...\"}, \"Fynney, Mr. Joseph J\": {\"frequency\": 1, \"value\": \"Fynney, Mr. Joseph ...\"}, \"Bracken, Mr. James H\": {\"frequency\": 1, \"value\": \"Bracken, Mr. James ...\"}, \"Lindblom, Miss. Augusta Charlotta\": {\"frequency\": 1, \"value\": \"Lindblom, Miss. ...\"}, \"Williams-Lambert, Mr. Fletcher Fellows\": {\"frequency\": 1, \"value\": \"Williams-Lambert, ...\"}, \"Wick, Mrs. George Dennick (Mary Hitchcock)\": {\"frequency\": 1, \"value\": \"Wick, Mrs. George ...\"}, \"Ryerson, Miss. Susan Parker \\\"Suzette\\\"\": {\"frequency\": 1, \"value\": \"Ryerson, Miss. ...\"}, \"Nakid, Miss. Maria (\\\"Mary\\\")\": {\"frequency\": 1, \"value\": \"Nakid, Miss. Maria ...\"}, \"Lundahl, Mr. Johan Svensson\": {\"frequency\": 1, \"value\": \"Lundahl, Mr. Johan ...\"}, \"Moubarek, Master. Halim Gonios (\\\"William George\\\")\": {\"frequency\": 1, \"value\": \"Moubarek, Master. ...\"}, \"Slocovski, Mr. Selman Francis\": {\"frequency\": 1, \"value\": \"Slocovski, Mr. ...\"}, \"Humblen, Mr. Adolf Mathias Nicolai Olsen\": {\"frequency\": 1, \"value\": \"Humblen, Mr. Adolf ...\"}, \"Danbom, Mr. Ernst Gilbert\": {\"frequency\": 1, \"value\": \"Danbom, Mr. Ernst ...\"}, \"Collyer, Miss. Marjorie \\\"Lottie\\\"\": {\"frequency\": 1, \"value\": \"Collyer, Miss. ...\"}, \"Hansen, Mr. Henrik Juul\": {\"frequency\": 1, \"value\": \"Hansen, Mr. Henrik ...\"}, \"Serepeca, Miss. Augusta\": {\"frequency\": 1, \"value\": \"Serepeca, Miss. ...\"}, \"Karun, Miss. Manca\": {\"frequency\": 1, \"value\": \"Karun, Miss. Manca\"}, \"Barbara, Mrs. (Catherine David)\": {\"frequency\": 1, \"value\": \"Barbara, Mrs. ...\"}, \"Oreskovic, Mr. Luka\": {\"frequency\": 1, \"value\": \"Oreskovic, Mr. ...\"}, \"Johnson, Miss. Eleanor Ileen\": {\"frequency\": 1, \"value\": \"Johnson, Miss. ...\"}, \"Hedman, Mr. Oskar Arvid\": {\"frequency\": 1, \"value\": \"Hedman, Mr. Oskar ...\"}, \"Long, Mr. Milton Clyde\": {\"frequency\": 1, \"value\": \"Long, Mr. Milton ...\"}, \"Chaffee, Mr. Herbert Fuller\": {\"frequency\": 1, \"value\": \"Chaffee, Mr. ...\"}, \"McCoy, Mr. Bernard\": {\"frequency\": 1, \"value\": \"McCoy, Mr. Bernard\"}, \"Meo, Mr. Alfonzo\": {\"frequency\": 1, \"value\": \"Meo, Mr. Alfonzo\"}, \"Harris, Mr. Henry Birkhardt\": {\"frequency\": 1, \"value\": \"Harris, Mr. Henry ...\"}, \"Gilnagh, Miss. Katherine \\\"Katie\\\"\": {\"frequency\": 1, \"value\": \"Gilnagh, Miss. ...\"}, \"Beckwith, Mr. Richard Leonard\": {\"frequency\": 1, \"value\": \"Beckwith, Mr. ...\"}, \"Olsen, Mr. Ole Martin\": {\"frequency\": 1, \"value\": \"Olsen, Mr. Ole ...\"}, \"Hickman, Mr. Lewis\": {\"frequency\": 1, \"value\": \"Hickman, Mr. Lewis\"}, \"Oreskovic, Miss. Marija\": {\"frequency\": 1, \"value\": \"Oreskovic, Miss. ...\"}, \"Homer, Mr. Harry (\\\"Mr E Haven\\\")\": {\"frequency\": 1, \"value\": \"Homer, Mr. Harry ...\"}, \"Johnston, Miss. Catherine Helen \\\"Carrie\\\"\": {\"frequency\": 1, \"value\": \"Johnston, Miss. ...\"}, \"Silvey, Mr. William Baird\": {\"frequency\": 1, \"value\": \"Silvey, Mr. ...\"}, \"Lindqvist, Mr. Eino William\": {\"frequency\": 1, \"value\": \"Lindqvist, Mr. ...\"}, \"Soholt, Mr. Peter Andreas Lauritz Andersen\": {\"frequency\": 1, \"value\": \"Soholt, Mr. Peter ...\"}, \"Carter, Master. William Thornton II\": {\"frequency\": 1, \"value\": \"Carter, Master. ...\"}, \"Collyer, Mr. Harvey\": {\"frequency\": 1, \"value\": \"Collyer, Mr. ...\"}, \"Goodwin, Miss. Lillian Amy\": {\"frequency\": 1, \"value\": \"Goodwin, Miss. ...\"}, \"van Billiard, Mr. Austin Blyler\": {\"frequency\": 1, \"value\": \"van Billiard, Mr. ...\"}, \"Baclini, Miss. Eugenie\": {\"frequency\": 1, \"value\": \"Baclini, Miss. ...\"}, \"Carlsson, Mr. Frans Olof\": {\"frequency\": 1, \"value\": \"Carlsson, Mr. ...\"}, \"Quick, Miss. Phyllis May\": {\"frequency\": 1, \"value\": \"Quick, Miss. ...\"}, \"Garside, Miss. Ethel\": {\"frequency\": 1, \"value\": \"Garside, Miss. ...\"}, \"Johnson, Master. Harold Theodor\": {\"frequency\": 1, \"value\": \"Johnson, Master. ...\"}, \"Stanley, Miss. Amy Zillah Elsie\": {\"frequency\": 1, \"value\": \"Stanley, Miss. Amy ...\"}, \"Hegarty, Miss. Hanora \\\"Nora\\\"\": {\"frequency\": 1, \"value\": \"Hegarty, Miss. ...\"}, \"Nicholls, Mr. Joseph Charles\": {\"frequency\": 1, \"value\": \"Nicholls, Mr. ...\"}, \"Cunningham, Mr. Alfred Fleming\": {\"frequency\": 1, \"value\": \"Cunningham, Mr. ...\"}, \"Nysveen, Mr. Johan Hansen\": {\"frequency\": 1, \"value\": \"Nysveen, Mr. Johan ...\"}, \"Pinsky, Mrs. (Rosa)\": {\"frequency\": 1, \"value\": \"Pinsky, Mrs. ...\"}, \"Garfirth, Mr. John\": {\"frequency\": 1, \"value\": \"Garfirth, Mr. John\"}, \"Lievens, Mr. Rene Aime\": {\"frequency\": 1, \"value\": \"Lievens, Mr. Rene ...\"}, \"Caldwell, Master. Alden Gates\": {\"frequency\": 1, \"value\": \"Caldwell, Master. ...\"}, \"Boulos, Mr. Hanna\": {\"frequency\": 1, \"value\": \"Boulos, Mr. Hanna\"}, \"Penasco y Castellana, Mr. Victor de Satode\": {\"frequency\": 1, \"value\": \"Penasco y ...\"}, \"Newell, Miss. Madeleine\": {\"frequency\": 1, \"value\": \"Newell, Miss. ...\"}, \"Mineff, Mr. Ivan\": {\"frequency\": 1, \"value\": \"Mineff, Mr. Ivan\"}, \"Meyer, Mr. August\": {\"frequency\": 1, \"value\": \"Meyer, Mr. August\"}, \"Leonard, Mr. Lionel\": {\"frequency\": 1, \"value\": \"Leonard, Mr. ...\"}, \"Nankoff, Mr. Minko\": {\"frequency\": 1, \"value\": \"Nankoff, Mr. Minko\"}, \"Douglas, Mr. Walter Donald\": {\"frequency\": 1, \"value\": \"Douglas, Mr. ...\"}, \"Clarke, Mrs. Charles V (Ada Maria Winfield)\": {\"frequency\": 1, \"value\": \"Clarke, Mrs. ...\"}, \"Dantcheff, Mr. Ristiu\": {\"frequency\": 1, \"value\": \"Dantcheff, Mr. ...\"}, \"Becker, Miss. Marion Louise\": {\"frequency\": 1, \"value\": \"Becker, Miss. ...\"}, \"Meyer, Mrs. Edgar Joseph (Leila Saks)\": {\"frequency\": 1, \"value\": \"Meyer, Mrs. Edgar ...\"}, \"Robbins, Mr. Victor\": {\"frequency\": 1, \"value\": \"Robbins, Mr. ...\"}, \"Barber, Miss. Ellen \\\"Nellie\\\"\": {\"frequency\": 1, \"value\": \"Barber, Miss. ...\"}, \"Holverson, Mr. Alexander Oskar\": {\"frequency\": 1, \"value\": \"Holverson, Mr. ...\"}, \"Nilsson, Miss. Helmina Josefina\": {\"frequency\": 1, \"value\": \"Nilsson, Miss. ...\"}, \"Molson, Mr. Harry Markland\": {\"frequency\": 1, \"value\": \"Molson, Mr. Harry ...\"}, \"Peduzzi, Mr. Joseph\": {\"frequency\": 1, \"value\": \"Peduzzi, Mr. ...\"}, \"Kink, Mr. Vincenz\": {\"frequency\": 1, \"value\": \"Kink, Mr. Vincenz\"}, \"Olsson, Miss. Elina\": {\"frequency\": 1, \"value\": \"Olsson, Miss. ...\"}, \"Alhomaki, Mr. Ilmari Rudolf\": {\"frequency\": 1, \"value\": \"Alhomaki, Mr. ...\"}, \"Gill, Mr. John William\": {\"frequency\": 1, \"value\": \"Gill, Mr. John ...\"}, \"Ward, Miss. Anna\": {\"frequency\": 1, \"value\": \"Ward, Miss. Anna\"}, \"Collyer, Mrs. Harvey (Charlotte Annie Tate)\": {\"frequency\": 1, \"value\": \"Collyer, Mrs. ...\"}, \"Danoff, Mr. Yoto\": {\"frequency\": 1, \"value\": \"Danoff, Mr. Yoto\"}, \"Najib, Miss. Adele Kiamie \\\"Jane\\\"\": {\"frequency\": 1, \"value\": \"Najib, Miss. Adele ...\"}, \"Thorneycroft, Mrs. Percival (Florence Kate White)\": {\"frequency\": 1, \"value\": \"Thorneycroft, Mrs. ...\"}, \"Kink-Heilmann, Miss. Luise Gretchen\": {\"frequency\": 1, \"value\": \"Kink-Heilmann, ...\"}, \"Sage, Miss. Stella Anna\": {\"frequency\": 1, \"value\": \"Sage, Miss. Stella ...\"}, \"Harris, Mrs. Henry Birkhardt (Irene Wallach)\": {\"frequency\": 1, \"value\": \"Harris, Mrs. Henry ...\"}, \"Newell, Mr. Arthur Webster\": {\"frequency\": 1, \"value\": \"Newell, Mr. Arthur ...\"}, \"McEvoy, Mr. Michael\": {\"frequency\": 1, \"value\": \"McEvoy, Mr. ...\"}, \"Kantor, Mrs. Sinai (Miriam Sternin)\": {\"frequency\": 1, \"value\": \"Kantor, Mrs. Sinai ...\"}, \"Kelly, Mrs. Florence \\\"Fannie\\\"\": {\"frequency\": 1, \"value\": \"Kelly, Mrs. ...\"}, \"Kimball, Mr. Edwin Nelson Jr\": {\"frequency\": 1, \"value\": \"Kimball, Mr. Edwin ...\"}, \"Morrow, Mr. Thomas Rowan\": {\"frequency\": 1, \"value\": \"Morrow, Mr. Thomas ...\"}, \"Johnson, Mr. William Cahoone Jr\": {\"frequency\": 1, \"value\": \"Johnson, Mr. ...\"}, \"Backstrom, Mrs. Karl Alfred (Maria Mathilda Gustafsson)\": {\"frequency\": 1, \"value\": \"Backstrom, Mrs. ...\"}, \"Lurette, Miss. Elise\": {\"frequency\": 1, \"value\": \"Lurette, Miss. ...\"}, \"Dahlberg, Miss. Gerda Ulrika\": {\"frequency\": 1, \"value\": \"Dahlberg, Miss. ...\"}, \"Lines, Miss. Mary Conover\": {\"frequency\": 1, \"value\": \"Lines, Miss. Mary ...\"}, \"Stankovic, Mr. Ivan\": {\"frequency\": 1, \"value\": \"Stankovic, Mr. ...\"}, \"Bonnell, Miss. Elizabeth\": {\"frequency\": 1, \"value\": \"Bonnell, Miss. ...\"}, \"Gale, Mr. Shadrach\": {\"frequency\": 1, \"value\": \"Gale, Mr. Shadrach\"}, \"Smiljanic, Mr. Mile\": {\"frequency\": 1, \"value\": \"Smiljanic, Mr. ...\"}, \"Shutes, Miss. Elizabeth W\": {\"frequency\": 1, \"value\": \"Shutes, Miss. ...\"}, \"Petroff, Mr. Pastcho (\\\"Pentcho\\\")\": {\"frequency\": 1, \"value\": \"Petroff, Mr. ...\"}, \"Markoff, Mr. Marin\": {\"frequency\": 1, \"value\": \"Markoff, Mr. Marin\"}, \"Yousseff, Mr. Gerious\": {\"frequency\": 1, \"value\": \"Yousseff, Mr. ...\"}, \"Coelho, Mr. Domingos Fernandeo\": {\"frequency\": 1, \"value\": \"Coelho, Mr. ...\"}, \"Doharr, Mr. Tannous\": {\"frequency\": 1, \"value\": \"Doharr, Mr. ...\"}, \"Gustafsson, Mr. Karl Gideon\": {\"frequency\": 1, \"value\": \"Gustafsson, Mr. ...\"}, \"Greenberg, Mr. Samuel\": {\"frequency\": 1, \"value\": \"Greenberg, Mr. ...\"}, \"Beane, Mr. Edward\": {\"frequency\": 1, \"value\": \"Beane, Mr. Edward\"}, \"Landergren, Miss. Aurora Adelia\": {\"frequency\": 1, \"value\": \"Landergren, Miss. ...\"}, \"Hakkarainen, Mr. Pekka Pietari\": {\"frequency\": 1, \"value\": \"Hakkarainen, Mr. ...\"}, \"Rice, Master. Eric\": {\"frequency\": 1, \"value\": \"Rice, Master. Eric\"}, \"Madill, Miss. Georgette Alexandra\": {\"frequency\": 1, \"value\": \"Madill, Miss. ...\"}, \"Staneff, Mr. Ivan\": {\"frequency\": 1, \"value\": \"Staneff, Mr. Ivan\"}, \"Reynaldo, Ms. Encarnacion\": {\"frequency\": 1, \"value\": \"Reynaldo, Ms. ...\"}, \"Sutehall, Mr. Henry Jr\": {\"frequency\": 1, \"value\": \"Sutehall, Mr. ...\"}, \"Strandberg, Miss. Ida Sofia\": {\"frequency\": 1, \"value\": \"Strandberg, Miss. ...\"}, \"Jalsevac, Mr. Ivan\": {\"frequency\": 1, \"value\": \"Jalsevac, Mr. Ivan\"}, \"Hickman, Mr. Stanley George\": {\"frequency\": 1, \"value\": \"Hickman, Mr. ...\"}, \"Robins, Mrs. Alexander A (Grace Charity Laury)\": {\"frequency\": 1, \"value\": \"Robins, Mrs. ...\"}, \"Balkic, Mr. Cerin\": {\"frequency\": 1, \"value\": \"Balkic, Mr. Cerin\"}, \"Hart, Miss. Eva Miriam\": {\"frequency\": 1, \"value\": \"Hart, Miss. Eva ...\"}, \"Ilmakangas, Miss. Pieta Sofia\": {\"frequency\": 1, \"value\": \"Ilmakangas, Miss. ...\"}, \"Horgan, Mr. John\": {\"frequency\": 1, \"value\": \"Horgan, Mr. John\"}, \"Ford, Miss. Robina Maggie \\\"Ruby\\\"\": {\"frequency\": 1, \"value\": \"Ford, Miss. Robina ...\"}, \"Futrelle, Mrs. Jacques Heath (Lily May Peel)\": {\"frequency\": 1, \"value\": \"Futrelle, Mrs. ...\"}, \"O'Sullivan, Miss. Bridget Mary\": {\"frequency\": 1, \"value\": \"O'Sullivan, Miss. ...\"}, \"Strom, Mrs. Wilhelm (Elna Matilda Persson)\": {\"frequency\": 1, \"value\": \"Strom, Mrs. ...\"}, \"Phillips, Miss. Kate Florence (\\\"Mrs Kate Louise Phillips Marshall\\\")\": {\"frequency\": 1, \"value\": \"Phillips, Miss. ...\"}, \"Vande Walle, Mr. Nestor Cyriel\": {\"frequency\": 1, \"value\": \"Vande Walle, Mr. ...\"}, \"Francatelli, Miss. Laura Mabel\": {\"frequency\": 1, \"value\": \"Francatelli, Miss. ...\"}, \"Drew, Mrs. James Vivian (Lulu Thorne Christian)\": {\"frequency\": 1, \"value\": \"Drew, Mrs. James ...\"}, \"Nasser, Mrs. Nicholas (Adele Achem)\": {\"frequency\": 1, \"value\": \"Nasser, Mrs. ...\"}, \"Gavey, Mr. Lawrence\": {\"frequency\": 1, \"value\": \"Gavey, Mr. ...\"}, \"Carter, Miss. Lucile Polk\": {\"frequency\": 1, \"value\": \"Carter, Miss. ...\"}, \"Harmer, Mr. Abraham (David Lishin)\": {\"frequency\": 1, \"value\": \"Harmer, Mr. ...\"}, \"Isham, Miss. Ann Elizabeth\": {\"frequency\": 1, \"value\": \"Isham, Miss. Ann ...\"}, \"Gheorgheff, Mr. Stanio\": {\"frequency\": 1, \"value\": \"Gheorgheff, Mr. ...\"}, \"Goldsmith, Master. Frank John William \\\"Frankie\\\"\": {\"frequency\": 1, \"value\": \"Goldsmith, Master. ...\"}, \"Andersson, Miss. Ebba Iris Alfrida\": {\"frequency\": 1, \"value\": \"Andersson, Miss. ...\"}, \"Abbing, Mr. Anthony\": {\"frequency\": 1, \"value\": \"Abbing, Mr. ...\"}, \"Fox, Mr. Stanley Hubert\": {\"frequency\": 1, \"value\": \"Fox, Mr. Stanley ...\"}, \"Beavan, Mr. William Thomas\": {\"frequency\": 1, \"value\": \"Beavan, Mr. ...\"}, \"O'Driscoll, Miss. Bridget\": {\"frequency\": 1, \"value\": \"O'Driscoll, Miss. ...\"}, \"Svensson, Mr. Johan\": {\"frequency\": 1, \"value\": \"Svensson, Mr. ...\"}, \"Masselmani, Mrs. Fatima\": {\"frequency\": 1, \"value\": \"Masselmani, Mrs. ...\"}, \"Mallet, Master. Andre\": {\"frequency\": 1, \"value\": \"Mallet, Master. ...\"}, \"Vovk, Mr. Janko\": {\"frequency\": 1, \"value\": \"Vovk, Mr. Janko\"}, \"Hampe, Mr. Leon\": {\"frequency\": 1, \"value\": \"Hampe, Mr. Leon\"}, \"Sloper, Mr. William Thompson\": {\"frequency\": 1, \"value\": \"Sloper, Mr. ...\"}, \"Giglio, Mr. Victor\": {\"frequency\": 1, \"value\": \"Giglio, Mr. Victor\"}, \"Giles, Mr. Frederick Edward\": {\"frequency\": 1, \"value\": \"Giles, Mr. ...\"}, \"Jacobsohn, Mr. Sidney Samuel\": {\"frequency\": 1, \"value\": \"Jacobsohn, Mr. ...\"}, \"Andersen-Jensen, Miss. Carla Christine Nielsine\": {\"frequency\": 1, \"value\": \"Andersen-Jensen, ...\"}, \"Wiklund, Mr. Jakob Alfred\": {\"frequency\": 1, \"value\": \"Wiklund, Mr. Jakob ...\"}, \"Coxon, Mr. Daniel\": {\"frequency\": 1, \"value\": \"Coxon, Mr. Daniel\"}, \"Saad, Mr. Khalil\": {\"frequency\": 1, \"value\": \"Saad, Mr. Khalil\"}, \"Goncalves, Mr. Manuel Estanslas\": {\"frequency\": 1, \"value\": \"Goncalves, Mr. ...\"}, \"Pickard, Mr. Berk (Berk Trembisky)\": {\"frequency\": 1, \"value\": \"Pickard, Mr. Berk ...\"}, \"Kent, Mr. Edward Austin\": {\"frequency\": 1, \"value\": \"Kent, Mr. Edward ...\"}, \"Harris, Mr. George\": {\"frequency\": 1, \"value\": \"Harris, Mr. George\"}, \"Daly, Mr. Peter Denis \": {\"frequency\": 1, \"value\": \"Daly, Mr. Peter ...\"}, \"Larsson, Mr. Bengt Edvin\": {\"frequency\": 1, \"value\": \"Larsson, Mr. Bengt ...\"}, \"Weir, Col. John\": {\"frequency\": 1, \"value\": \"Weir, Col. John\"}, \"Elsbury, Mr. William James\": {\"frequency\": 1, \"value\": \"Elsbury, Mr. ...\"}, \"Christy, Miss. Julie Rachel\": {\"frequency\": 1, \"value\": \"Christy, Miss. ...\"}, \"Davidson, Mr. Thornton\": {\"frequency\": 1, \"value\": \"Davidson, Mr. ...\"}, \"Pengelly, Mr. Frederick William\": {\"frequency\": 1, \"value\": \"Pengelly, Mr. ...\"}, \"Barbara, Miss. Saiide\": {\"frequency\": 1, \"value\": \"Barbara, Miss. ...\"}, \"Jensen, Mr. Niels Peder\": {\"frequency\": 1, \"value\": \"Jensen, Mr. Niels ...\"}, \"Bowerman, Miss. Elsie Edith\": {\"frequency\": 1, \"value\": \"Bowerman, Miss. ...\"}, \"Porter, Mr. Walter Chamberlain\": {\"frequency\": 1, \"value\": \"Porter, Mr. Walter ...\"}, \"Arnold-Franchi, Mrs. Josef (Josefine Franchi)\": {\"frequency\": 1, \"value\": \"Arnold-Franchi, ...\"}, \"Jacobsohn, Mrs. Sidney Samuel (Amy Frances Christy)\": {\"frequency\": 1, \"value\": \"Jacobsohn, Mrs. ...\"}, \"Richards, Master. George Sibley\": {\"frequency\": 1, \"value\": \"Richards, Master. ...\"}, \"Williams, Mr. Howard Hugh \\\"Harry\\\"\": {\"frequency\": 1, \"value\": \"Williams, Mr. ...\"}, \"Hirvonen, Miss. Hildur E\": {\"frequency\": 1, \"value\": \"Hirvonen, Miss. ...\"}, \"Mellinger, Miss. Madeleine Violet\": {\"frequency\": 1, \"value\": \"Mellinger, Miss. ...\"}, \"Bystrom, Mrs. (Karolina)\": {\"frequency\": 1, \"value\": \"Bystrom, Mrs. ...\"}, \"Kelly, Miss. Mary\": {\"frequency\": 1, \"value\": \"Kelly, Miss. Mary\"}, \"Novel, Mr. Mansouer\": {\"frequency\": 1, \"value\": \"Novel, Mr. ...\"}, \"Fahlstrom, Mr. Arne Jonas\": {\"frequency\": 1, \"value\": \"Fahlstrom, Mr. ...\"}, \"Abelson, Mr. Samuel\": {\"frequency\": 1, \"value\": \"Abelson, Mr. ...\"}, \"Gilinski, Mr. Eliezer\": {\"frequency\": 1, \"value\": \"Gilinski, Mr. ...\"}, \"Van Impe, Mrs. Jean Baptiste (Rosalie Paula Govaert)\": {\"frequency\": 1, \"value\": \"Van Impe, Mrs. ...\"}, \"Burns, Miss. Elizabeth Margaret\": {\"frequency\": 1, \"value\": \"Burns, Miss. ...\"}, \"Ponesell, Mr. Martin\": {\"frequency\": 1, \"value\": \"Ponesell, Mr. ...\"}, \"Beesley, Mr. Lawrence\": {\"frequency\": 1, \"value\": \"Beesley, Mr. ...\"}, \"Mionoff, Mr. Stoytcho\": {\"frequency\": 1, \"value\": \"Mionoff, Mr. ...\"}, \"Youseff, Mr. Gerious\": {\"frequency\": 1, \"value\": \"Youseff, Mr. ...\"}, \"Kassem, Mr. Fared\": {\"frequency\": 1, \"value\": \"Kassem, Mr. Fared\"}, \"Duran y More, Miss. Asuncion\": {\"frequency\": 1, \"value\": \"Duran y More, ...\"}, \"Levy, Mr. Rene Jacques\": {\"frequency\": 1, \"value\": \"Levy, Mr. Rene ...\"}, \"Wells, Miss. Joan\": {\"frequency\": 1, \"value\": \"Wells, Miss. Joan\"}, \"Saad, Mr. Amin\": {\"frequency\": 1, \"value\": \"Saad, Mr. Amin\"}, \"Bateman, Rev. Robert James\": {\"frequency\": 1, \"value\": \"Bateman, Rev. ...\"}, \"Rush, Mr. Alfred George John\": {\"frequency\": 1, \"value\": \"Rush, Mr. Alfred ...\"}, \"Jonsson, Mr. Carl\": {\"frequency\": 1, \"value\": \"Jonsson, Mr. Carl\"}, \"Matthews, Mr. William John\": {\"frequency\": 1, \"value\": \"Matthews, Mr. ...\"}, \"Hickman, Mr. Leonard Mark\": {\"frequency\": 1, \"value\": \"Hickman, Mr. ...\"}, \"Reeves, Mr. David\": {\"frequency\": 1, \"value\": \"Reeves, Mr. David\"}, \"Cairns, Mr. Alexander\": {\"frequency\": 1, \"value\": \"Cairns, Mr. ...\"}, \"Brocklebank, Mr. William Alfred\": {\"frequency\": 1, \"value\": \"Brocklebank, Mr. ...\"}, \"Edvardsson, Mr. Gustaf Hjalmar\": {\"frequency\": 1, \"value\": \"Edvardsson, Mr. ...\"}, \"Tomlin, Mr. Ernest Portage\": {\"frequency\": 1, \"value\": \"Tomlin, Mr. Ernest ...\"}, \"Goldsmith, Mrs. Frank John (Emily Alice Brown)\": {\"frequency\": 1, \"value\": \"Goldsmith, Mrs. ...\"}, \"Allen, Mr. William Henry\": {\"frequency\": 1, \"value\": \"Allen, Mr. William ...\"}, \"Silverthorne, Mr. Spencer Victor\": {\"frequency\": 1, \"value\": \"Silverthorne, Mr. ...\"}, \"Nirva, Mr. Iisakki Antino Aijo\": {\"frequency\": 1, \"value\": \"Nirva, Mr. Iisakki ...\"}, \"Toomey, Miss. Ellen\": {\"frequency\": 1, \"value\": \"Toomey, Miss. ...\"}, \"Hamalainen, Master. Viljo\": {\"frequency\": 1, \"value\": \"Hamalainen, ...\"}, \"Reed, Mr. James George\": {\"frequency\": 1, \"value\": \"Reed, Mr. James ...\"}, \"Abelson, Mrs. Samuel (Hannah Wizosky)\": {\"frequency\": 1, \"value\": \"Abelson, Mrs. ...\"}, \"Skoog, Mrs. William (Anna Bernhardina Karlsson)\": {\"frequency\": 1, \"value\": \"Skoog, Mrs. ...\"}, \"Taylor, Mrs. Elmer Zebley (Juliet Cummins Wright)\": {\"frequency\": 1, \"value\": \"Taylor, Mrs. Elmer ...\"}, \"Torber, Mr. Ernst William\": {\"frequency\": 1, \"value\": \"Torber, Mr. Ernst ...\"}, \"Stone, Mrs. George Nelson (Martha Evelyn)\": {\"frequency\": 1, \"value\": \"Stone, Mrs. George ...\"}, \"Ford, Mr. William Neal\": {\"frequency\": 1, \"value\": \"Ford, Mr. William ...\"}, \"Pears, Mr. Thomas Clinton\": {\"frequency\": 1, \"value\": \"Pears, Mr. Thomas ...\"}, \"Harris, Mr. Walter\": {\"frequency\": 1, \"value\": \"Harris, Mr. Walter\"}, \"Bishop, Mrs. Dickinson H (Helen Walton)\": {\"frequency\": 1, \"value\": \"Bishop, Mrs. ...\"}, \"Nysten, Miss. Anna Sofia\": {\"frequency\": 1, \"value\": \"Nysten, Miss. Anna ...\"}, \"Lam, Mr. Len\": {\"frequency\": 1, \"value\": \"Lam, Mr. Len\"}, \"Dean, Mr. Bertram Frank\": {\"frequency\": 1, \"value\": \"Dean, Mr. Bertram ...\"}, \"Sirayanian, Mr. Orsen\": {\"frequency\": 1, \"value\": \"Sirayanian, Mr. ...\"}, \"Attalah, Mr. Sleiman\": {\"frequency\": 1, \"value\": \"Attalah, Mr. ...\"}, \"Hart, Mrs. Benjamin (Esther Ada Bloomfield)\": {\"frequency\": 1, \"value\": \"Hart, Mrs. ...\"}, \"Persson, Mr. Ernst Ulrik\": {\"frequency\": 1, \"value\": \"Persson, Mr. Ernst ...\"}, \"Hosono, Mr. Masabumi\": {\"frequency\": 1, \"value\": \"Hosono, Mr. ...\"}, \"Aubart, Mme. Leontine Pauline\": {\"frequency\": 1, \"value\": \"Aubart, Mme. ...\"}, \"Peter, Mrs. Catherine (Catherine Rizk)\": {\"frequency\": 1, \"value\": \"Peter, Mrs. ...\"}, \"Fortune, Miss. Mabel Helen\": {\"frequency\": 1, \"value\": \"Fortune, Miss. ...\"}, \"Shelley, Mrs. William (Imanita Parrish Hall)\": {\"frequency\": 1, \"value\": \"Shelley, Mrs. ...\"}, \"Cherry, Miss. Gladys\": {\"frequency\": 1, \"value\": \"Cherry, Miss. ...\"}, \"Moussa, Mrs. (Mantoura Boulos)\": {\"frequency\": 1, \"value\": \"Moussa, Mrs. ...\"}, \"Funk, Miss. Annie Clemmer\": {\"frequency\": 1, \"value\": \"Funk, Miss. Annie ...\"}, \"Meek, Mrs. Thomas (Annie Louise Rowley)\": {\"frequency\": 1, \"value\": \"Meek, Mrs. Thomas ...\"}, \"Renouf, Mrs. Peter Henry (Lillian Jefferys)\": {\"frequency\": 1, \"value\": \"Renouf, Mrs. Peter ...\"}, \"Bing, Mr. Lee\": {\"frequency\": 1, \"value\": \"Bing, Mr. Lee\"}, \"Hagland, Mr. Ingvald Olai Olsen\": {\"frequency\": 1, \"value\": \"Hagland, Mr. ...\"}, \"Carlsson, Mr. August Sigfrid\": {\"frequency\": 1, \"value\": \"Carlsson, Mr. ...\"}, \"Becker, Master. Richard F\": {\"frequency\": 1, \"value\": \"Becker, Master. ...\"}, \"Mack, Mrs. (Mary)\": {\"frequency\": 1, \"value\": \"Mack, Mrs. (Mary)\"}, \"Doling, Miss. Elsie\": {\"frequency\": 1, \"value\": \"Doling, Miss. ...\"}, \"Backstrom, Mr. Karl Alfred\": {\"frequency\": 1, \"value\": \"Backstrom, Mr. ...\"}, \"Odahl, Mr. Nils Martin\": {\"frequency\": 1, \"value\": \"Odahl, Mr. Nils ...\"}, \"Stead, Mr. William Thomas\": {\"frequency\": 1, \"value\": \"Stead, Mr. William ...\"}, \"Rood, Mr. Hugh Roscoe\": {\"frequency\": 1, \"value\": \"Rood, Mr. Hugh ...\"}, \"Harper, Mr. Henry Sleeper\": {\"frequency\": 1, \"value\": \"Harper, Mr. Henry ...\"}, \"Simmons, Mr. John\": {\"frequency\": 1, \"value\": \"Simmons, Mr. John\"}, \"Vander Planke, Mrs. Julius (Emelia Maria Vandemoortele)\": {\"frequency\": 1, \"value\": \"Vander Planke, ...\"}, \"Uruchurtu, Don. Manuel E\": {\"frequency\": 1, \"value\": \"Uruchurtu, Don. ...\"}, \"Hodges, Mr. Henry Price\": {\"frequency\": 1, \"value\": \"Hodges, Mr. Henry ...\"}, \"Vander Planke, Miss. Augusta Maria\": {\"frequency\": 1, \"value\": \"Vander Planke, ...\"}, \"Keefe, Mr. Arthur\": {\"frequency\": 1, \"value\": \"Keefe, Mr. Arthur\"}, \"Chibnall, Mrs. (Edith Martha Bowerman)\": {\"frequency\": 1, \"value\": \"Chibnall, Mrs. ...\"}, \"Stahelin-Maeglin, Dr. Max\": {\"frequency\": 1, \"value\": \"Stahelin-Maeglin, ...\"}, \"Chip, Mr. Chang\": {\"frequency\": 1, \"value\": \"Chip, Mr. Chang\"}, \"Salkjelsvik, Miss. Anna Kristine\": {\"frequency\": 1, \"value\": \"Salkjelsvik, Miss. ...\"}, \"Kelly, Mr. James\": {\"frequency\": 1, \"value\": \"Kelly, Mr. James\"}, \"Panula, Master. Eino Viljami\": {\"frequency\": 1, \"value\": \"Panula, Master. ...\"}, \"Navratil, Master. Michel M\": {\"frequency\": 1, \"value\": \"Navratil, Master. ...\"}, \"Petroff, Mr. Nedelio\": {\"frequency\": 1, \"value\": \"Petroff, Mr. ...\"}, \"Silvey, Mrs. William Baird (Alice Munger)\": {\"frequency\": 1, \"value\": \"Silvey, Mrs. ...\"}, \"Nicola-Yarred, Master. Elias\": {\"frequency\": 1, \"value\": \"Nicola-Yarred, ...\"}, \"Eklund, Mr. Hans Linus\": {\"frequency\": 1, \"value\": \"Eklund, Mr. Hans ...\"}, \"Leyson, Mr. Robert William Norman\": {\"frequency\": 1, \"value\": \"Leyson, Mr. Robert ...\"}, \"Sinkkonen, Miss. Anna\": {\"frequency\": 1, \"value\": \"Sinkkonen, Miss. ...\"}, \"Willey, Mr. Edward\": {\"frequency\": 1, \"value\": \"Willey, Mr. Edward\"}, \"Cann, Mr. Ernest Charles\": {\"frequency\": 1, \"value\": \"Cann, Mr. Ernest ...\"}, \"O'Connell, Mr. Patrick D\": {\"frequency\": 1, \"value\": \"O'Connell, Mr. ...\"}, \"Rothschild, Mrs. Martin (Elizabeth L. Barrett)\": {\"frequency\": 1, \"value\": \"Rothschild, Mrs. ...\"}, \"Dimic, Mr. Jovan\": {\"frequency\": 1, \"value\": \"Dimic, Mr. Jovan\"}, \"Endres, Miss. Caroline Louise\": {\"frequency\": 1, \"value\": \"Endres, Miss. ...\"}, \"Williams, Mr. Charles Eugene\": {\"frequency\": 1, \"value\": \"Williams, Mr. ...\"}, \"Augustsson, Mr. Albert\": {\"frequency\": 1, \"value\": \"Augustsson, Mr. ...\"}, \"Alexander, Mr. William\": {\"frequency\": 1, \"value\": \"Alexander, Mr. ...\"}, \"Chambers, Mr. Norman Campbell\": {\"frequency\": 1, \"value\": \"Chambers, Mr. ...\"}, \"Baclini, Mrs. Solomon (Latifa Qurban)\": {\"frequency\": 1, \"value\": \"Baclini, Mrs. ...\"}, \"Meanwell, Miss. (Marion Ogden)\": {\"frequency\": 1, \"value\": \"Meanwell, Miss. ...\"}, \"Lobb, Mrs. William Arthur (Cordelia K Stanlick)\": {\"frequency\": 1, \"value\": \"Lobb, Mrs. William ...\"}, \"Badt, Mr. Mohamed\": {\"frequency\": 1, \"value\": \"Badt, Mr. Mohamed\"}, \"Jussila, Mr. Eiriik\": {\"frequency\": 1, \"value\": \"Jussila, Mr. ...\"}, \"Flynn, Mr. John\": {\"frequency\": 1, \"value\": \"Flynn, Mr. John\"}, \"Maisner, Mr. Simon\": {\"frequency\": 1, \"value\": \"Maisner, Mr. Simon\"}, \"Cameron, Miss. Clear Annie\": {\"frequency\": 1, \"value\": \"Cameron, Miss. ...\"}, \"Hewlett, Mrs. (Mary D Kingcome) \": {\"frequency\": 1, \"value\": \"Hewlett, Mrs. ...\"}, \"Sirota, Mr. Maurice\": {\"frequency\": 1, \"value\": \"Sirota, Mr. ...\"}, \"Romaine, Mr. Charles Hallace (\\\"Mr C Rolmane\\\")\": {\"frequency\": 1, \"value\": \"Romaine, Mr. ...\"}, \"Nosworthy, Mr. Richard Cater\": {\"frequency\": 1, \"value\": \"Nosworthy, Mr. ...\"}, \"Caram, Mrs. Joseph (Maria Elias)\": {\"frequency\": 1, \"value\": \"Caram, Mrs. Joseph ...\"}, \"Hogeboom, Mrs. John C (Anna Andrews)\": {\"frequency\": 1, \"value\": \"Hogeboom, Mrs. ...\"}, \"Jerwan, Mrs. Amin S (Marie Marthe Thuillard)\": {\"frequency\": 1, \"value\": \"Jerwan, Mrs. Amin ...\"}, \"Dick, Mrs. Albert Adrian (Vera Gillespie)\": {\"frequency\": 1, \"value\": \"Dick, Mrs. Albert ...\"}, \"Lefebre, Miss. Ida\": {\"frequency\": 1, \"value\": \"Lefebre, Miss. Ida\"}, \"Cacic, Miss. Marija\": {\"frequency\": 1, \"value\": \"Cacic, Miss. ...\"}, \"Zabour, Miss. Thamine\": {\"frequency\": 1, \"value\": \"Zabour, Miss. ...\"}, \"Ryerson, Miss. Emily Borie\": {\"frequency\": 1, \"value\": \"Ryerson, Miss. ...\"}, \"Harder, Mr. George Achilles\": {\"frequency\": 1, \"value\": \"Harder, Mr. George ...\"}, \"Foreman, Mr. Benjamin Laventall\": {\"frequency\": 1, \"value\": \"Foreman, Mr. ...\"}, \"Widegren, Mr. Carl/Charles Peter\": {\"frequency\": 1, \"value\": \"Widegren, Mr. ...\"}, \"Nakid, Mr. Sahid\": {\"frequency\": 1, \"value\": \"Nakid, Mr. Sahid\"}, \"Fry, Mr. Richard\": {\"frequency\": 1, \"value\": \"Fry, Mr. Richard\"}, \"Sedgwick, Mr. Charles Frederick Waddington\": {\"frequency\": 1, \"value\": \"Sedgwick, Mr. ...\"}, \"Bradley, Mr. George (\\\"George Arthur Brayton\\\")\": {\"frequency\": 1, \"value\": \"Bradley, Mr. ...\"}, \"Birkeland, Mr. Hans Martin Monsen\": {\"frequency\": 1, \"value\": \"Birkeland, Mr. ...\"}, \"Stranden, Mr. Juho\": {\"frequency\": 1, \"value\": \"Stranden, Mr. Juho\"}, \"Sheerlinck, Mr. Jan Baptist\": {\"frequency\": 1, \"value\": \"Sheerlinck, Mr. ...\"}, \"Carter, Mrs. Ernest Courtenay (Lilian Hughes)\": {\"frequency\": 1, \"value\": \"Carter, Mrs. ...\"}, \"Natsch, Mr. Charles H\": {\"frequency\": 1, \"value\": \"Natsch, Mr. ...\"}, \"Spencer, Mrs. William Augustus (Marie Eugenie)\": {\"frequency\": 1, \"value\": \"Spencer, Mrs. ...\"}, \"Risien, Mr. Samuel Beard\": {\"frequency\": 1, \"value\": \"Risien, Mr. Samuel ...\"}, \"Emanuel, Miss. Virginia Ethel\": {\"frequency\": 1, \"value\": \"Emanuel, Miss. ...\"}, \"Chambers, Mrs. Norman Campbell (Bertha Griggs)\": {\"frequency\": 1, \"value\": \"Chambers, Mrs. ...\"}, \"O'Dwyer, Miss. Ellen \\\"Nellie\\\"\": {\"frequency\": 1, \"value\": \"O'Dwyer, Miss. ...\"}, \"Dooley, Mr. Patrick\": {\"frequency\": 1, \"value\": \"Dooley, Mr. ...\"}, \"Andrews, Mr. Thomas Jr\": {\"frequency\": 1, \"value\": \"Andrews, Mr. ...\"}, \"Seward, Mr. Frederic Kimber\": {\"frequency\": 1, \"value\": \"Seward, Mr. ...\"}, \"Butt, Major. Archibald Willingham\": {\"frequency\": 1, \"value\": \"Butt, Major. ...\"}, \"Farthing, Mr. John\": {\"frequency\": 1, \"value\": \"Farthing, Mr. John\"}, \"Kalvik, Mr. Johannes Halvorsen\": {\"frequency\": 1, \"value\": \"Kalvik, Mr. ...\"}, \"Carter, Mr. William Ernest\": {\"frequency\": 1, \"value\": \"Carter, Mr. ...\"}, \"Smart, Mr. John Montgomery\": {\"frequency\": 1, \"value\": \"Smart, Mr. John ...\"}, \"Slemen, Mr. Richard James\": {\"frequency\": 1, \"value\": \"Slemen, Mr. ...\"}, \"Betros, Mr. Tannous\": {\"frequency\": 1, \"value\": \"Betros, Mr. ...\"}, \"Laroche, Mrs. Joseph (Juliette Marie Louise Lafargue)\": {\"frequency\": 1, \"value\": \"Laroche, Mrs. ...\"}, \"Ahlin, Mrs. Johan (Johanna Persdotter Larsson)\": {\"frequency\": 1, \"value\": \"Ahlin, Mrs. Johan ...\"}, \"Braund, Mr. Lewis Richard\": {\"frequency\": 1, \"value\": \"Braund, Mr. Lewis ...\"}, \"Murphy, Miss. Katherine \\\"Kate\\\"\": {\"frequency\": 1, \"value\": \"Murphy, Miss. ...\"}, \"Goodwin, Master. Sidney Leonard\": {\"frequency\": 1, \"value\": \"Goodwin, Master. ...\"}, \"Dorking, Mr. Edward Arthur\": {\"frequency\": 1, \"value\": \"Dorking, Mr. ...\"}, \"Chapman, Mr. John Henry\": {\"frequency\": 1, \"value\": \"Chapman, Mr. John ...\"}, \"Spedden, Mrs. Frederic Oakley (Margaretta Corning Stone)\": {\"frequency\": 1, \"value\": \"Spedden, Mrs. ...\"}, \"Taussig, Mrs. Emil (Tillie Mandelbaum)\": {\"frequency\": 1, \"value\": \"Taussig, Mrs. Emil ...\"}, \"Charters, Mr. David\": {\"frequency\": 1, \"value\": \"Charters, Mr. ...\"}, \"Rothes, the Countess. of (Lucy Noel Martha Dyer-Edwards)\": {\"frequency\": 1, \"value\": \"Rothes, the ...\"}, \"de Pelsmaeker, Mr. Alfons\": {\"frequency\": 1, \"value\": \"de Pelsmaeker, Mr. ...\"}, \"Slabenoff, Mr. Petco\": {\"frequency\": 1, \"value\": \"Slabenoff, Mr. ...\"}, \"Sage, Mr. George John Jr\": {\"frequency\": 1, \"value\": \"Sage, Mr. George ...\"}, \"Naidenoff, Mr. Penko\": {\"frequency\": 1, \"value\": \"Naidenoff, Mr. ...\"}, \"Davies, Master. John Morgan Jr\": {\"frequency\": 1, \"value\": \"Davies, Master. ...\"}, \"Rintamaki, Mr. Matti\": {\"frequency\": 1, \"value\": \"Rintamaki, Mr. ...\"}, \"Gustafsson, Mr. Anders Vilhelm\": {\"frequency\": 1, \"value\": \"Gustafsson, Mr. ...\"}, \"Barton, Mr. David John\": {\"frequency\": 1, \"value\": \"Barton, Mr. David ...\"}, \"Chronopoulos, Mr. Apostolos\": {\"frequency\": 1, \"value\": \"Chronopoulos, Mr. ...\"}, \"Harrington, Mr. Charles H\": {\"frequency\": 1, \"value\": \"Harrington, Mr. ...\"}, \"Farrell, Mr. James\": {\"frequency\": 1, \"value\": \"Farrell, Mr. James\"}, \"Mitkoff, Mr. Mito\": {\"frequency\": 1, \"value\": \"Mitkoff, Mr. Mito\"}, \"Harrison, Mr. William\": {\"frequency\": 1, \"value\": \"Harrison, Mr. ...\"}, \"Mockler, Miss. Helen Mary \\\"Ellie\\\"\": {\"frequency\": 1, \"value\": \"Mockler, Miss. ...\"}, \"Theobald, Mr. Thomas Leonard\": {\"frequency\": 1, \"value\": \"Theobald, Mr. ...\"}, \"Foo, Mr. Choong\": {\"frequency\": 1, \"value\": \"Foo, Mr. Choong\"}, \"Turja, Miss. Anna Sofia\": {\"frequency\": 1, \"value\": \"Turja, Miss. Anna ...\"}, \"Stewart, Mr. Albert A\": {\"frequency\": 1, \"value\": \"Stewart, Mr. ...\"}, \"Goldenberg, Mr. Samuel L\": {\"frequency\": 1, \"value\": \"Goldenberg, Mr. ...\"}, \"Vestrom, Miss. Hulda Amanda Adolfina\": {\"frequency\": 1, \"value\": \"Vestrom, Miss. ...\"}, \"McGovern, Miss. Mary\": {\"frequency\": 1, \"value\": \"McGovern, Miss. ...\"}, \"Windelov, Mr. Einar\": {\"frequency\": 1, \"value\": \"Windelov, Mr. ...\"}, \"Doling, Mrs. John T (Ada Julia Bone)\": {\"frequency\": 1, \"value\": \"Doling, Mrs. John ...\"}, \"Klasen, Mr. Klas Albin\": {\"frequency\": 1, \"value\": \"Klasen, Mr. Klas ...\"}, \"O'Leary, Miss. Hanora \\\"Norah\\\"\": {\"frequency\": 1, \"value\": \"O'Leary, Miss. ...\"}, \"Herman, Miss. Alice\": {\"frequency\": 1, \"value\": \"Herman, Miss. ...\"}, \"Rosblom, Mrs. Viktor (Helena Wilhelmina)\": {\"frequency\": 1, \"value\": \"Rosblom, Mrs. ...\"}, \"Davies, Mr. Alfred J\": {\"frequency\": 1, \"value\": \"Davies, Mr. Alfred ...\"}, \"Millet, Mr. Francis Davis\": {\"frequency\": 1, \"value\": \"Millet, Mr. ...\"}, \"Panula, Mr. Jaako Arnold\": {\"frequency\": 1, \"value\": \"Panula, Mr. Jaako ...\"}, \"Hakkarainen, Mrs. Pekka Pietari (Elin Matilda Dolck)\": {\"frequency\": 1, \"value\": \"Hakkarainen, Mrs. ...\"}, \"Panula, Mrs. Juha (Maria Emilia Ojala)\": {\"frequency\": 1, \"value\": \"Panula, Mrs. Juha ...\"}, \"Green, Mr. George Henry\": {\"frequency\": 1, \"value\": \"Green, Mr. George ...\"}, \"Skoog, Miss. Margit Elizabeth\": {\"frequency\": 1, \"value\": \"Skoog, Miss. ...\"}, \"Downton, Mr. William James\": {\"frequency\": 1, \"value\": \"Downton, Mr. ...\"}, \"Leinonen, Mr. Antti Gustaf\": {\"frequency\": 1, \"value\": \"Leinonen, Mr. ...\"}, \"Duff Gordon, Lady. (Lucille Christiana Sutherland) (\\\"Mrs Morgan\\\")\": {\"frequency\": 1, \"value\": \"Duff Gordon, Lady. ...\"}, \"Dakic, Mr. Branko\": {\"frequency\": 1, \"value\": \"Dakic, Mr. Branko\"}, \"Andersson, Mrs. Anders Johan (Alfrida Konstantia Brogren)\": {\"frequency\": 1, \"value\": \"Andersson, Mrs. ...\"}, \"Keane, Mr. Andrew \\\"Andy\\\"\": {\"frequency\": 1, \"value\": \"Keane, Mr. Andrew ...\"}, \"Osen, Mr. Olaf Elon\": {\"frequency\": 1, \"value\": \"Osen, Mr. Olaf ...\"}, \"Moran, Miss. Bertha\": {\"frequency\": 1, \"value\": \"Moran, Miss. ...\"}, \"Bowen, Mr. David John \\\"Dai\\\"\": {\"frequency\": 1, \"value\": \"Bowen, Mr. David ...\"}, \"Hamalainen, Mrs. William (Anna)\": {\"frequency\": 1, \"value\": \"Hamalainen, Mrs. ...\"}, \"Graham, Miss. Margaret Edith\": {\"frequency\": 1, \"value\": \"Graham, Miss. ...\"}, \"Hippach, Miss. Jean Gertrude\": {\"frequency\": 1, \"value\": \"Hippach, Miss. ...\"}, \"Zabour, Miss. Hileni\": {\"frequency\": 1, \"value\": \"Zabour, Miss. ...\"}, \"Larsson, Mr. August Viktor\": {\"frequency\": 1, \"value\": \"Larsson, Mr. ...\"}, \"Andersson, Miss. Ingeborg Constanzia\": {\"frequency\": 1, \"value\": \"Andersson, Miss. ...\"}, \"Lahoud, Mr. Sarkis\": {\"frequency\": 1, \"value\": \"Lahoud, Mr. Sarkis\"}, \"Healy, Miss. Hanora \\\"Nora\\\"\": {\"frequency\": 1, \"value\": \"Healy, Miss. ...\"}, \"Rugg, Miss. Emily\": {\"frequency\": 1, \"value\": \"Rugg, Miss. Emily\"}, \"Andersson, Master. Sigvard Harald Elias\": {\"frequency\": 1, \"value\": \"Andersson, Master. ...\"}}, \"size\": 891}, \"Embarked\": {\"complete\": true, \"numeric\": false, \"num_unique\": 4, \"num_undefined\": 0, \"progress\": 1.0, \"frequent_items\": {\"Q\": {\"frequency\": 77, \"value\": \"Q\"}, \"\": {\"frequency\": 2, \"value\": \"\"}, \"S\": {\"frequency\": 644, \"value\": \"S\"}, \"C\": {\"frequency\": 168, \"value\": \"C\"}}, \"size\": 891}, \"Age\": {\"std\": 14.516321150817316, \"complete\": true, \"min\": 0.42, \"max\": 80.0, \"quantile\": [0.42, 1.0, 2.0, 2.0, 3.0, 4.0, 5.0, 7.0, 9.0, 11.0, 14.0, 15.0, 16.0, 16.0, 16.0, 17.0, 18.0, 18.0, 18.0, 18.0, 19.0, 19.0, 19.0, 20.0, 20.0, 20.0, 21.0, 21.0, 21.0, 22.0, 22.0, 22.0, 22.0, 23.0, 23.0, 24.0, 24.0, 24.0, 24.0, 25.0, 25.0, 25.0, 25.0, 26.0, 26.0, 27.0, 27.0, 27.0, 28.0, 28.0, 28.0, 29.0, 29.0, 29.0, 30.0, 30.0, 30.0, 30.0, 31.0, 31.0, 32.0, 32.0, 32.0, 33.0, 33.0, 34.0, 34.0, 34.5, 35.0, 35.0, 36.0, 36.0, 36.0, 37.0, 38.0, 38.0, 39.0, 39.0, 40.0, 40.5, 41.0, 42.0, 43.0, 44.0, 45.0, 45.0, 46.0, 47.0, 48.0, 49.0, 50.0, 50.0, 51.0, 54.0, 54.0, 56.0, 58.0, 61.0, 63.0, 66.0, 80.0], \"median\": 28.0, \"numeric\": true, \"num_unique\": 88, \"num_undefined\": 177, \"var\": 210.72357975366617, \"progress\": 1.0, \"size\": 891, \"frequent_items\": {\"28.5\": {\"frequency\": 2, \"value\": 28.5}, \"14.5\": {\"frequency\": 1, \"value\": 14.5}, \"2.0\": {\"frequency\": 10, \"value\": 2.0}, \"3.0\": {\"frequency\": 6, \"value\": 3.0}, \"4.0\": {\"frequency\": 10, \"value\": 4.0}, \"5.0\": {\"frequency\": 4, \"value\": 5.0}, \"70.5\": {\"frequency\": 1, \"value\": 70.5}, \"7.0\": {\"frequency\": 3, \"value\": 7.0}, \"8.0\": {\"frequency\": 4, \"value\": 8.0}, \"9.0\": {\"frequency\": 8, \"value\": 9.0}, \"10.0\": {\"frequency\": 2, \"value\": 10.0}, \"11.0\": {\"frequency\": 4, \"value\": 11.0}, \"12.0\": {\"frequency\": 1, \"value\": 12.0}, \"13.0\": {\"frequency\": 2, \"value\": 13.0}, \"14.0\": {\"frequency\": 6, \"value\": 14.0}, \"15.0\": {\"frequency\": 5, \"value\": 15.0}, \"16.0\": {\"frequency\": 17, \"value\": 16.0}, \"17.0\": {\"frequency\": 13, \"value\": 17.0}, \"18.0\": {\"frequency\": 26, \"value\": 18.0}, \"19.0\": {\"frequency\": 25, \"value\": 19.0}, \"20.0\": {\"frequency\": 15, \"value\": 20.0}, \"21.0\": {\"frequency\": 24, \"value\": 21.0}, \"22.0\": {\"frequency\": 27, \"value\": 22.0}, \"23.0\": {\"frequency\": 15, \"value\": 23.0}, \"24.0\": {\"frequency\": 30, \"value\": 24.0}, \"25.0\": {\"frequency\": 23, \"value\": 25.0}, \"26.0\": {\"frequency\": 18, \"value\": 26.0}, \"27.0\": {\"frequency\": 18, \"value\": 27.0}, \"28.0\": {\"frequency\": 25, \"value\": 28.0}, \"29.0\": {\"frequency\": 20, \"value\": 29.0}, \"30.0\": {\"frequency\": 25, \"value\": 30.0}, \"31.0\": {\"frequency\": 17, \"value\": 31.0}, \"32.0\": {\"frequency\": 18, \"value\": 32.0}, \"33.0\": {\"frequency\": 15, \"value\": 33.0}, \"34.0\": {\"frequency\": 15, \"value\": 34.0}, \"35.0\": {\"frequency\": 18, \"value\": 35.0}, \"1.0\": {\"frequency\": 7, \"value\": 1.0}, \"37.0\": {\"frequency\": 6, \"value\": 37.0}, \"38.0\": {\"frequency\": 11, \"value\": 38.0}, \"39.0\": {\"frequency\": 14, \"value\": 39.0}, \"40.0\": {\"frequency\": 13, \"value\": 40.0}, \"41.0\": {\"frequency\": 6, \"value\": 41.0}, \"42.0\": {\"frequency\": 13, \"value\": 42.0}, \"43.0\": {\"frequency\": 5, \"value\": 43.0}, \"44.0\": {\"frequency\": 9, \"value\": 44.0}, \"45.0\": {\"frequency\": 12, \"value\": 45.0}, \"46.0\": {\"frequency\": 3, \"value\": 46.0}, \"47.0\": {\"frequency\": 9, \"value\": 47.0}, \"48.0\": {\"frequency\": 9, \"value\": 48.0}, \"49.0\": {\"frequency\": 6, \"value\": 49.0}, \"50.0\": {\"frequency\": 10, \"value\": 50.0}, \"51.0\": {\"frequency\": 7, \"value\": 51.0}, \"52.0\": {\"frequency\": 6, \"value\": 52.0}, \"53.0\": {\"frequency\": 1, \"value\": 53.0}, \"54.0\": {\"frequency\": 8, \"value\": 54.0}, \"55.0\": {\"frequency\": 2, \"value\": 55.0}, \"56.0\": {\"frequency\": 4, \"value\": 56.0}, \"57.0\": {\"frequency\": 2, \"value\": 57.0}, \"58.0\": {\"frequency\": 5, \"value\": 58.0}, \"59.0\": {\"frequency\": 2, \"value\": 59.0}, \"60.0\": {\"frequency\": 4, \"value\": 60.0}, \"61.0\": {\"frequency\": 3, \"value\": 61.0}, \"62.0\": {\"frequency\": 4, \"value\": 62.0}, \"63.0\": {\"frequency\": 2, \"value\": 63.0}, \"64.0\": {\"frequency\": 2, \"value\": 64.0}, \"65.0\": {\"frequency\": 3, \"value\": 65.0}, \"66.0\": {\"frequency\": 1, \"value\": 66.0}, \"70.0\": {\"frequency\": 2, \"value\": 70.0}, \"71.0\": {\"frequency\": 2, \"value\": 71.0}, \"74.0\": {\"frequency\": 1, \"value\": 74.0}, \"80.0\": {\"frequency\": 1, \"value\": 80.0}, \"0.92\": {\"frequency\": 1, \"value\": 0.92}, \"55.5\": {\"frequency\": 1, \"value\": 55.5}, \"0.75\": {\"frequency\": 2, \"value\": 0.75}, \"0.83\": {\"frequency\": 2, \"value\": 0.83}, \"23.5\": {\"frequency\": 1, \"value\": 23.5}, \"0.42\": {\"frequency\": 1, \"value\": 0.42}, \"6.0\": {\"frequency\": 3, \"value\": 6.0}, \"24.5\": {\"frequency\": 1, \"value\": 24.5}, \"36.0\": {\"frequency\": 22, \"value\": 36.0}, \"36.5\": {\"frequency\": 1, \"value\": 36.5}, \"40.5\": {\"frequency\": 2, \"value\": 40.5}, \"34.5\": {\"frequency\": 1, \"value\": 34.5}, \"0.67\": {\"frequency\": 1, \"value\": 0.67}, \"45.5\": {\"frequency\": 2, \"value\": 45.5}, \"30.5\": {\"frequency\": 2, \"value\": 30.5}, \"20.5\": {\"frequency\": 1, \"value\": 20.5}, \"32.5\": {\"frequency\": 2, \"value\": 32.5}}, \"mean\": 29.699117647058817}, \"Parch\": {\"std\": 0.8056047612452207, \"complete\": true, \"min\": 0.0, \"max\": 6.0, \"quantile\": [0.0, 0.0, 0.0, 0.0, 0.0, 0.0, 0.0, 0.0, 0.0, 0.0, 0.0, 0.0, 0.0, 0.0, 0.0, 0.0, 0.0, 0.0, 0.0, 0.0, 0.0, 0.0, 0.0, 0.0, 0.0, 0.0, 0.0, 0.0, 0.0, 0.0, 0.0, 0.0, 0.0, 0.0, 0.0, 0.0, 0.0, 0.0, 0.0, 0.0, 0.0, 0.0, 0.0, 0.0, 0.0, 0.0, 0.0, 0.0, 0.0, 0.0, 0.0, 0.0, 0.0, 0.0, 0.0, 0.0, 0.0, 0.0, 0.0, 0.0, 0.0, 0.0, 0.0, 0.0, 0.0, 0.0, 0.0, 0.0, 0.0, 0.0, 0.0, 0.0, 0.0, 0.0, 0.0, 0.0, 0.0, 1.0, 1.0, 1.0, 1.0, 1.0, 1.0, 1.0, 1.0, 1.0, 1.0, 1.0, 1.0, 1.0, 2.0, 2.0, 2.0, 2.0, 2.0, 2.0, 2.0, 2.0, 2.0, 4.0, 6.0], \"median\": 0.0, \"numeric\": true, \"num_unique\": 7, \"num_undefined\": 0, \"var\": 0.6489990313409691, \"progress\": 1.0, \"size\": 891, \"frequent_items\": {\"0\": {\"frequency\": 678, \"value\": 0}, \"1\": {\"frequency\": 118, \"value\": 1}, \"2\": {\"frequency\": 80, \"value\": 2}, \"3\": {\"frequency\": 5, \"value\": 3}, \"4\": {\"frequency\": 4, \"value\": 4}, \"5\": {\"frequency\": 5, \"value\": 5}, \"6\": {\"frequency\": 1, \"value\": 6}}, \"mean\": 0.3815937149270483}, \"Pclass\": {\"std\": 0.8356019334795165, \"complete\": true, \"min\": 1.0, \"max\": 3.0, \"quantile\": [1.0, 1.0, 1.0, 1.0, 1.0, 1.0, 1.0, 1.0, 1.0, 1.0, 1.0, 1.0, 1.0, 1.0, 1.0, 1.0, 1.0, 1.0, 1.0, 1.0, 1.0, 1.0, 1.0, 1.0, 1.0, 2.0, 2.0, 2.0, 2.0, 2.0, 2.0, 2.0, 2.0, 2.0, 2.0, 2.0, 2.0, 2.0, 2.0, 2.0, 2.0, 2.0, 2.0, 2.0, 2.0, 3.0, 3.0, 3.0, 3.0, 3.0, 3.0, 3.0, 3.0, 3.0, 3.0, 3.0, 3.0, 3.0, 3.0, 3.0, 3.0, 3.0, 3.0, 3.0, 3.0, 3.0, 3.0, 3.0, 3.0, 3.0, 3.0, 3.0, 3.0, 3.0, 3.0, 3.0, 3.0, 3.0, 3.0, 3.0, 3.0, 3.0, 3.0, 3.0, 3.0, 3.0, 3.0, 3.0, 3.0, 3.0, 3.0, 3.0, 3.0, 3.0, 3.0, 3.0, 3.0, 3.0, 3.0, 3.0, 3.0], \"median\": 3.0, \"numeric\": true, \"num_unique\": 3, \"num_undefined\": 0, \"var\": 0.6982305912347063, \"progress\": 1.0, \"size\": 891, \"frequent_items\": {\"1\": {\"frequency\": 216, \"value\": 1}, \"2\": {\"frequency\": 184, \"value\": 2}, \"3\": {\"frequency\": 491, \"value\": 3}}, \"mean\": 2.3086419753086425}, \"Sex\": {\"complete\": true, \"numeric\": false, \"num_unique\": 2, \"num_undefined\": 0, \"progress\": 1.0, \"frequent_items\": {\"male\": {\"frequency\": 577, \"value\": \"male\"}, \"female\": {\"frequency\": 314, \"value\": \"female\"}}, \"size\": 891}, \"Survived\": {\"std\": 0.4863193178670999, \"complete\": true, \"min\": 0.0, \"max\": 1.0, \"quantile\": [0.0, 0.0, 0.0, 0.0, 0.0, 0.0, 0.0, 0.0, 0.0, 0.0, 0.0, 0.0, 0.0, 0.0, 0.0, 0.0, 0.0, 0.0, 0.0, 0.0, 0.0, 0.0, 0.0, 0.0, 0.0, 0.0, 0.0, 0.0, 0.0, 0.0, 0.0, 0.0, 0.0, 0.0, 0.0, 0.0, 0.0, 0.0, 0.0, 0.0, 0.0, 0.0, 0.0, 0.0, 0.0, 0.0, 0.0, 0.0, 0.0, 0.0, 0.0, 0.0, 0.0, 0.0, 0.0, 0.0, 0.0, 0.0, 0.0, 0.0, 0.0, 0.0, 1.0, 1.0, 1.0, 1.0, 1.0, 1.0, 1.0, 1.0, 1.0, 1.0, 1.0, 1.0, 1.0, 1.0, 1.0, 1.0, 1.0, 1.0, 1.0, 1.0, 1.0, 1.0, 1.0, 1.0, 1.0, 1.0, 1.0, 1.0, 1.0, 1.0, 1.0, 1.0, 1.0, 1.0, 1.0, 1.0, 1.0, 1.0, 1.0], \"median\": 0.0, \"numeric\": true, \"num_unique\": 2, \"num_undefined\": 0, \"var\": 0.23650647893072135, \"progress\": 1.0, \"size\": 891, \"frequent_items\": {\"0\": {\"frequency\": 549, \"value\": 0}, \"1\": {\"frequency\": 342, \"value\": 1}}, \"mean\": 0.3838383838383839}, \"SibSp\": {\"std\": 1.1021244350892878, \"complete\": true, \"min\": 0.0, \"max\": 8.0, \"quantile\": [0.0, 0.0, 0.0, 0.0, 0.0, 0.0, 0.0, 0.0, 0.0, 0.0, 0.0, 0.0, 0.0, 0.0, 0.0, 0.0, 0.0, 0.0, 0.0, 0.0, 0.0, 0.0, 0.0, 0.0, 0.0, 0.0, 0.0, 0.0, 0.0, 0.0, 0.0, 0.0, 0.0, 0.0, 0.0, 0.0, 0.0, 0.0, 0.0, 0.0, 0.0, 0.0, 0.0, 0.0, 0.0, 0.0, 0.0, 0.0, 0.0, 0.0, 0.0, 0.0, 0.0, 0.0, 0.0, 0.0, 0.0, 0.0, 0.0, 0.0, 0.0, 0.0, 0.0, 0.0, 0.0, 0.0, 0.0, 0.0, 0.0, 1.0, 1.0, 1.0, 1.0, 1.0, 1.0, 1.0, 1.0, 1.0, 1.0, 1.0, 1.0, 1.0, 1.0, 1.0, 1.0, 1.0, 1.0, 1.0, 1.0, 1.0, 1.0, 1.0, 2.0, 2.0, 2.0, 3.0, 3.0, 4.0, 4.0, 5.0, 8.0], \"median\": 0.0, \"numeric\": true, \"num_unique\": 7, \"num_undefined\": 0, \"var\": 1.2146782704208818, \"progress\": 1.0, \"size\": 891, \"frequent_items\": {\"0\": {\"frequency\": 608, \"value\": 0}, \"1\": {\"frequency\": 209, \"value\": 1}, \"2\": {\"frequency\": 28, \"value\": 2}, \"3\": {\"frequency\": 16, \"value\": 3}, \"4\": {\"frequency\": 18, \"value\": 4}, \"5\": {\"frequency\": 5, \"value\": 5}, \"8\": {\"frequency\": 7, \"value\": 8}}, \"mean\": 0.5230078563411897}, \"PassengerId\": {\"std\": 257.20938292890224, \"complete\": true, \"min\": 1.0, \"max\": 891.0, \"quantile\": [1.0, 9.0, 18.0, 27.0, 36.0, 45.0, 54.0, 63.0, 72.0, 81.0, 90.0, 99.0, 107.0, 116.0, 125.0, 134.0, 143.0, 152.0, 161.0, 170.0, 179.0, 188.0, 197.0, 205.0, 214.0, 223.0, 232.0, 241.0, 250.0, 259.0, 268.0, 277.0, 286.0, 295.0, 303.0, 312.0, 321.0, 330.0, 339.0, 348.0, 357.0, 366.0, 375.0, 384.0, 393.0, 401.0, 410.0, 419.0, 428.0, 437.0, 446.0, 455.0, 464.0, 473.0, 482.0, 491.0, 499.0, 508.0, 517.0, 526.0, 535.0, 544.0, 553.0, 562.0, 571.0, 580.0, 589.0, 597.0, 606.0, 615.0, 624.0, 633.0, 642.0, 651.0, 660.0, 669.0, 678.0, 687.0, 695.0, 704.0, 713.0, 722.0, 731.0, 740.0, 749.0, 758.0, 767.0, 776.0, 785.0, 793.0, 802.0, 811.0, 820.0, 829.0, 838.0, 847.0, 856.0, 865.0, 874.0, 883.0, 891.0], \"median\": 446.0, \"numeric\": true, \"num_unique\": 885, \"num_undefined\": 0, \"var\": 66156.66666666667, \"progress\": 1.0, \"size\": 891, \"frequent_items\": {\"1\": {\"frequency\": 1, \"value\": 1}, \"2\": {\"frequency\": 1, \"value\": 2}, \"3\": {\"frequency\": 1, \"value\": 3}, \"4\": {\"frequency\": 1, \"value\": 4}, \"5\": {\"frequency\": 1, \"value\": 5}, \"6\": {\"frequency\": 1, \"value\": 6}, \"7\": {\"frequency\": 1, \"value\": 7}, \"8\": {\"frequency\": 1, \"value\": 8}, \"9\": {\"frequency\": 1, \"value\": 9}, \"10\": {\"frequency\": 1, \"value\": 10}, \"11\": {\"frequency\": 1, \"value\": 11}, \"12\": {\"frequency\": 1, \"value\": 12}, \"13\": {\"frequency\": 1, \"value\": 13}, \"14\": {\"frequency\": 1, \"value\": 14}, \"15\": {\"frequency\": 1, \"value\": 15}, \"16\": {\"frequency\": 1, \"value\": 16}, \"17\": {\"frequency\": 1, \"value\": 17}, \"18\": {\"frequency\": 1, \"value\": 18}, \"19\": {\"frequency\": 1, \"value\": 19}, \"20\": {\"frequency\": 1, \"value\": 20}, \"21\": {\"frequency\": 1, \"value\": 21}, \"22\": {\"frequency\": 1, \"value\": 22}, \"23\": {\"frequency\": 1, \"value\": 23}, \"24\": {\"frequency\": 1, \"value\": 24}, \"25\": {\"frequency\": 1, \"value\": 25}, \"26\": {\"frequency\": 1, \"value\": 26}, \"27\": {\"frequency\": 1, \"value\": 27}, \"28\": {\"frequency\": 1, \"value\": 28}, \"29\": {\"frequency\": 1, \"value\": 29}, \"30\": {\"frequency\": 1, \"value\": 30}, \"31\": {\"frequency\": 1, \"value\": 31}, \"32\": {\"frequency\": 1, \"value\": 32}, \"33\": {\"frequency\": 1, \"value\": 33}, \"34\": {\"frequency\": 1, \"value\": 34}, \"35\": {\"frequency\": 1, \"value\": 35}, \"36\": {\"frequency\": 1, \"value\": 36}, \"37\": {\"frequency\": 1, \"value\": 37}, \"38\": {\"frequency\": 1, \"value\": 38}, \"39\": {\"frequency\": 1, \"value\": 39}, \"40\": {\"frequency\": 1, \"value\": 40}, \"41\": {\"frequency\": 1, \"value\": 41}, \"42\": {\"frequency\": 1, \"value\": 42}, \"43\": {\"frequency\": 1, \"value\": 43}, \"44\": {\"frequency\": 1, \"value\": 44}, \"45\": {\"frequency\": 1, \"value\": 45}, \"46\": {\"frequency\": 1, \"value\": 46}, \"47\": {\"frequency\": 1, \"value\": 47}, \"48\": {\"frequency\": 1, \"value\": 48}, \"49\": {\"frequency\": 1, \"value\": 49}, \"50\": {\"frequency\": 1, \"value\": 50}, \"51\": {\"frequency\": 1, \"value\": 51}, \"52\": {\"frequency\": 1, \"value\": 52}, \"53\": {\"frequency\": 1, \"value\": 53}, \"54\": {\"frequency\": 1, \"value\": 54}, \"55\": {\"frequency\": 1, \"value\": 55}, \"56\": {\"frequency\": 1, \"value\": 56}, \"57\": {\"frequency\": 1, \"value\": 57}, \"58\": {\"frequency\": 1, \"value\": 58}, \"59\": {\"frequency\": 1, \"value\": 59}, \"60\": {\"frequency\": 1, \"value\": 60}, \"61\": {\"frequency\": 1, \"value\": 61}, \"62\": {\"frequency\": 1, \"value\": 62}, \"63\": {\"frequency\": 1, \"value\": 63}, \"64\": {\"frequency\": 1, \"value\": 64}, \"65\": {\"frequency\": 1, \"value\": 65}, \"66\": {\"frequency\": 1, \"value\": 66}, \"67\": {\"frequency\": 1, \"value\": 67}, \"68\": {\"frequency\": 1, \"value\": 68}, \"69\": {\"frequency\": 1, \"value\": 69}, \"70\": {\"frequency\": 1, \"value\": 70}, \"71\": {\"frequency\": 1, \"value\": 71}, \"72\": {\"frequency\": 1, \"value\": 72}, \"73\": {\"frequency\": 1, \"value\": 73}, \"74\": {\"frequency\": 1, \"value\": 74}, \"75\": {\"frequency\": 1, \"value\": 75}, \"76\": {\"frequency\": 1, \"value\": 76}, \"77\": {\"frequency\": 1, \"value\": 77}, \"78\": {\"frequency\": 1, \"value\": 78}, \"79\": {\"frequency\": 1, \"value\": 79}, \"80\": {\"frequency\": 1, \"value\": 80}, \"81\": {\"frequency\": 1, \"value\": 81}, \"82\": {\"frequency\": 1, \"value\": 82}, \"83\": {\"frequency\": 1, \"value\": 83}, \"84\": {\"frequency\": 1, \"value\": 84}, \"85\": {\"frequency\": 1, \"value\": 85}, \"86\": {\"frequency\": 1, \"value\": 86}, \"87\": {\"frequency\": 1, \"value\": 87}, \"88\": {\"frequency\": 1, \"value\": 88}, \"89\": {\"frequency\": 1, \"value\": 89}, \"90\": {\"frequency\": 1, \"value\": 90}, \"91\": {\"frequency\": 1, \"value\": 91}, \"92\": {\"frequency\": 1, \"value\": 92}, \"93\": {\"frequency\": 1, \"value\": 93}, \"94\": {\"frequency\": 1, \"value\": 94}, \"95\": {\"frequency\": 1, \"value\": 95}, \"96\": {\"frequency\": 1, \"value\": 96}, \"97\": {\"frequency\": 1, \"value\": 97}, \"98\": {\"frequency\": 1, \"value\": 98}, \"99\": {\"frequency\": 1, \"value\": 99}, \"100\": {\"frequency\": 1, \"value\": 100}, \"101\": {\"frequency\": 1, \"value\": 101}, \"102\": {\"frequency\": 1, \"value\": 102}, \"103\": {\"frequency\": 1, \"value\": 103}, \"104\": {\"frequency\": 1, \"value\": 104}, \"105\": {\"frequency\": 1, \"value\": 105}, \"106\": {\"frequency\": 1, \"value\": 106}, \"107\": {\"frequency\": 1, \"value\": 107}, \"108\": {\"frequency\": 1, \"value\": 108}, \"109\": {\"frequency\": 1, \"value\": 109}, \"110\": {\"frequency\": 1, \"value\": 110}, \"111\": {\"frequency\": 1, \"value\": 111}, \"112\": {\"frequency\": 1, \"value\": 112}, \"113\": {\"frequency\": 1, \"value\": 113}, \"114\": {\"frequency\": 1, \"value\": 114}, \"115\": {\"frequency\": 1, \"value\": 115}, \"116\": {\"frequency\": 1, \"value\": 116}, \"117\": {\"frequency\": 1, \"value\": 117}, \"118\": {\"frequency\": 1, \"value\": 118}, \"119\": {\"frequency\": 1, \"value\": 119}, \"120\": {\"frequency\": 1, \"value\": 120}, \"121\": {\"frequency\": 1, \"value\": 121}, \"122\": {\"frequency\": 1, \"value\": 122}, \"123\": {\"frequency\": 1, \"value\": 123}, \"124\": {\"frequency\": 1, \"value\": 124}, \"125\": {\"frequency\": 1, \"value\": 125}, \"126\": {\"frequency\": 1, \"value\": 126}, \"127\": {\"frequency\": 1, \"value\": 127}, \"128\": {\"frequency\": 1, \"value\": 128}, \"129\": {\"frequency\": 1, \"value\": 129}, \"130\": {\"frequency\": 1, \"value\": 130}, \"131\": {\"frequency\": 1, \"value\": 131}, \"132\": {\"frequency\": 1, \"value\": 132}, \"133\": {\"frequency\": 1, \"value\": 133}, \"134\": {\"frequency\": 1, \"value\": 134}, \"135\": {\"frequency\": 1, \"value\": 135}, \"136\": {\"frequency\": 1, \"value\": 136}, \"137\": {\"frequency\": 1, \"value\": 137}, \"138\": {\"frequency\": 1, \"value\": 138}, \"139\": {\"frequency\": 1, \"value\": 139}, \"140\": {\"frequency\": 1, \"value\": 140}, \"141\": {\"frequency\": 1, \"value\": 141}, \"142\": {\"frequency\": 1, \"value\": 142}, \"143\": {\"frequency\": 1, \"value\": 143}, \"144\": {\"frequency\": 1, \"value\": 144}, \"145\": {\"frequency\": 1, \"value\": 145}, \"146\": {\"frequency\": 1, \"value\": 146}, \"147\": {\"frequency\": 1, \"value\": 147}, \"148\": {\"frequency\": 1, \"value\": 148}, \"149\": {\"frequency\": 1, \"value\": 149}, \"150\": {\"frequency\": 1, \"value\": 150}, \"151\": {\"frequency\": 1, \"value\": 151}, \"152\": {\"frequency\": 1, \"value\": 152}, \"153\": {\"frequency\": 1, \"value\": 153}, \"154\": {\"frequency\": 1, \"value\": 154}, \"155\": {\"frequency\": 1, \"value\": 155}, \"156\": {\"frequency\": 1, \"value\": 156}, \"157\": {\"frequency\": 1, \"value\": 157}, \"158\": {\"frequency\": 1, \"value\": 158}, \"159\": {\"frequency\": 1, \"value\": 159}, \"160\": {\"frequency\": 1, \"value\": 160}, \"161\": {\"frequency\": 1, \"value\": 161}, \"162\": {\"frequency\": 1, \"value\": 162}, \"163\": {\"frequency\": 1, \"value\": 163}, \"164\": {\"frequency\": 1, \"value\": 164}, \"165\": {\"frequency\": 1, \"value\": 165}, \"166\": {\"frequency\": 1, \"value\": 166}, \"167\": {\"frequency\": 1, \"value\": 167}, \"168\": {\"frequency\": 1, \"value\": 168}, \"169\": {\"frequency\": 1, \"value\": 169}, \"170\": {\"frequency\": 1, \"value\": 170}, \"171\": {\"frequency\": 1, \"value\": 171}, \"172\": {\"frequency\": 1, \"value\": 172}, \"173\": {\"frequency\": 1, \"value\": 173}, \"174\": {\"frequency\": 1, \"value\": 174}, \"175\": {\"frequency\": 1, \"value\": 175}, \"176\": {\"frequency\": 1, \"value\": 176}, \"177\": {\"frequency\": 1, \"value\": 177}, \"178\": {\"frequency\": 1, \"value\": 178}, \"179\": {\"frequency\": 1, \"value\": 179}, \"180\": {\"frequency\": 1, \"value\": 180}, \"181\": {\"frequency\": 1, \"value\": 181}, \"182\": {\"frequency\": 1, \"value\": 182}, \"183\": {\"frequency\": 1, \"value\": 183}, \"184\": {\"frequency\": 1, \"value\": 184}, \"185\": {\"frequency\": 1, \"value\": 185}, \"186\": {\"frequency\": 1, \"value\": 186}, \"187\": {\"frequency\": 1, \"value\": 187}, \"188\": {\"frequency\": 1, \"value\": 188}, \"189\": {\"frequency\": 1, \"value\": 189}, \"190\": {\"frequency\": 1, \"value\": 190}, \"191\": {\"frequency\": 1, \"value\": 191}, \"192\": {\"frequency\": 1, \"value\": 192}, \"193\": {\"frequency\": 1, \"value\": 193}, \"194\": {\"frequency\": 1, \"value\": 194}, \"195\": {\"frequency\": 1, \"value\": 195}, \"196\": {\"frequency\": 1, \"value\": 196}, \"197\": {\"frequency\": 1, \"value\": 197}, \"198\": {\"frequency\": 1, \"value\": 198}, \"199\": {\"frequency\": 1, \"value\": 199}, \"200\": {\"frequency\": 1, \"value\": 200}, \"201\": {\"frequency\": 1, \"value\": 201}, \"202\": {\"frequency\": 1, \"value\": 202}, \"203\": {\"frequency\": 1, \"value\": 203}, \"204\": {\"frequency\": 1, \"value\": 204}, \"205\": {\"frequency\": 1, \"value\": 205}, \"206\": {\"frequency\": 1, \"value\": 206}, \"207\": {\"frequency\": 1, \"value\": 207}, \"208\": {\"frequency\": 1, \"value\": 208}, \"209\": {\"frequency\": 1, \"value\": 209}, \"210\": {\"frequency\": 1, \"value\": 210}, \"211\": {\"frequency\": 1, \"value\": 211}, \"212\": {\"frequency\": 1, \"value\": 212}, \"213\": {\"frequency\": 1, \"value\": 213}, \"214\": {\"frequency\": 1, \"value\": 214}, \"215\": {\"frequency\": 1, \"value\": 215}, \"216\": {\"frequency\": 1, \"value\": 216}, \"217\": {\"frequency\": 1, \"value\": 217}, \"218\": {\"frequency\": 1, \"value\": 218}, \"219\": {\"frequency\": 1, \"value\": 219}, \"220\": {\"frequency\": 1, \"value\": 220}, \"221\": {\"frequency\": 1, \"value\": 221}, \"222\": {\"frequency\": 1, \"value\": 222}, \"223\": {\"frequency\": 1, \"value\": 223}, \"224\": {\"frequency\": 1, \"value\": 224}, \"225\": {\"frequency\": 1, \"value\": 225}, \"226\": {\"frequency\": 1, \"value\": 226}, \"227\": {\"frequency\": 1, \"value\": 227}, \"228\": {\"frequency\": 1, \"value\": 228}, \"229\": {\"frequency\": 1, \"value\": 229}, \"230\": {\"frequency\": 1, \"value\": 230}, \"231\": {\"frequency\": 1, \"value\": 231}, \"232\": {\"frequency\": 1, \"value\": 232}, \"233\": {\"frequency\": 1, \"value\": 233}, \"234\": {\"frequency\": 1, \"value\": 234}, \"235\": {\"frequency\": 1, \"value\": 235}, \"236\": {\"frequency\": 1, \"value\": 236}, \"237\": {\"frequency\": 1, \"value\": 237}, \"238\": {\"frequency\": 1, \"value\": 238}, \"239\": {\"frequency\": 1, \"value\": 239}, \"240\": {\"frequency\": 1, \"value\": 240}, \"241\": {\"frequency\": 1, \"value\": 241}, \"242\": {\"frequency\": 1, \"value\": 242}, \"243\": {\"frequency\": 1, \"value\": 243}, \"244\": {\"frequency\": 1, \"value\": 244}, \"245\": {\"frequency\": 1, \"value\": 245}, \"246\": {\"frequency\": 1, \"value\": 246}, \"247\": {\"frequency\": 1, \"value\": 247}, \"248\": {\"frequency\": 1, \"value\": 248}, \"249\": {\"frequency\": 1, \"value\": 249}, \"250\": {\"frequency\": 1, \"value\": 250}, \"251\": {\"frequency\": 1, \"value\": 251}, \"252\": {\"frequency\": 1, \"value\": 252}, \"253\": {\"frequency\": 1, \"value\": 253}, \"254\": {\"frequency\": 1, \"value\": 254}, \"255\": {\"frequency\": 1, \"value\": 255}, \"256\": {\"frequency\": 1, \"value\": 256}, \"257\": {\"frequency\": 1, \"value\": 257}, \"258\": {\"frequency\": 1, \"value\": 258}, \"259\": {\"frequency\": 1, \"value\": 259}, \"260\": {\"frequency\": 1, \"value\": 260}, \"261\": {\"frequency\": 1, \"value\": 261}, \"262\": {\"frequency\": 1, \"value\": 262}, \"263\": {\"frequency\": 1, \"value\": 263}, \"264\": {\"frequency\": 1, \"value\": 264}, \"265\": {\"frequency\": 1, \"value\": 265}, \"266\": {\"frequency\": 1, \"value\": 266}, \"267\": {\"frequency\": 1, \"value\": 267}, \"268\": {\"frequency\": 1, \"value\": 268}, \"269\": {\"frequency\": 1, \"value\": 269}, \"270\": {\"frequency\": 1, \"value\": 270}, \"271\": {\"frequency\": 1, \"value\": 271}, \"272\": {\"frequency\": 1, \"value\": 272}, \"273\": {\"frequency\": 1, \"value\": 273}, \"274\": {\"frequency\": 1, \"value\": 274}, \"275\": {\"frequency\": 1, \"value\": 275}, \"276\": {\"frequency\": 1, \"value\": 276}, \"277\": {\"frequency\": 1, \"value\": 277}, \"278\": {\"frequency\": 1, \"value\": 278}, \"279\": {\"frequency\": 1, \"value\": 279}, \"280\": {\"frequency\": 1, \"value\": 280}, \"281\": {\"frequency\": 1, \"value\": 281}, \"282\": {\"frequency\": 1, \"value\": 282}, \"283\": {\"frequency\": 1, \"value\": 283}, \"284\": {\"frequency\": 1, \"value\": 284}, \"285\": {\"frequency\": 1, \"value\": 285}, \"286\": {\"frequency\": 1, \"value\": 286}, \"287\": {\"frequency\": 1, \"value\": 287}, \"288\": {\"frequency\": 1, \"value\": 288}, \"289\": {\"frequency\": 1, \"value\": 289}, \"290\": {\"frequency\": 1, \"value\": 290}, \"291\": {\"frequency\": 1, \"value\": 291}, \"292\": {\"frequency\": 1, \"value\": 292}, \"293\": {\"frequency\": 1, \"value\": 293}, \"294\": {\"frequency\": 1, \"value\": 294}, \"295\": {\"frequency\": 1, \"value\": 295}, \"296\": {\"frequency\": 1, \"value\": 296}, \"297\": {\"frequency\": 1, \"value\": 297}, \"298\": {\"frequency\": 1, \"value\": 298}, \"299\": {\"frequency\": 1, \"value\": 299}, \"300\": {\"frequency\": 1, \"value\": 300}, \"301\": {\"frequency\": 1, \"value\": 301}, \"302\": {\"frequency\": 1, \"value\": 302}, \"303\": {\"frequency\": 1, \"value\": 303}, \"304\": {\"frequency\": 1, \"value\": 304}, \"305\": {\"frequency\": 1, \"value\": 305}, \"306\": {\"frequency\": 1, \"value\": 306}, \"307\": {\"frequency\": 1, \"value\": 307}, \"308\": {\"frequency\": 1, \"value\": 308}, \"309\": {\"frequency\": 1, \"value\": 309}, \"310\": {\"frequency\": 1, \"value\": 310}, \"311\": {\"frequency\": 1, \"value\": 311}, \"312\": {\"frequency\": 1, \"value\": 312}, \"313\": {\"frequency\": 1, \"value\": 313}, \"314\": {\"frequency\": 1, \"value\": 314}, \"315\": {\"frequency\": 1, \"value\": 315}, \"316\": {\"frequency\": 1, \"value\": 316}, \"317\": {\"frequency\": 1, \"value\": 317}, \"318\": {\"frequency\": 1, \"value\": 318}, \"319\": {\"frequency\": 1, \"value\": 319}, \"320\": {\"frequency\": 1, \"value\": 320}, \"321\": {\"frequency\": 1, \"value\": 321}, \"322\": {\"frequency\": 1, \"value\": 322}, \"323\": {\"frequency\": 1, \"value\": 323}, \"324\": {\"frequency\": 1, \"value\": 324}, \"325\": {\"frequency\": 1, \"value\": 325}, \"326\": {\"frequency\": 1, \"value\": 326}, \"327\": {\"frequency\": 1, \"value\": 327}, \"328\": {\"frequency\": 1, \"value\": 328}, \"329\": {\"frequency\": 1, \"value\": 329}, \"330\": {\"frequency\": 1, \"value\": 330}, \"331\": {\"frequency\": 1, \"value\": 331}, \"332\": {\"frequency\": 1, \"value\": 332}, \"333\": {\"frequency\": 1, \"value\": 333}, \"334\": {\"frequency\": 1, \"value\": 334}, \"335\": {\"frequency\": 1, \"value\": 335}, \"336\": {\"frequency\": 1, \"value\": 336}, \"337\": {\"frequency\": 1, \"value\": 337}, \"338\": {\"frequency\": 1, \"value\": 338}, \"339\": {\"frequency\": 1, \"value\": 339}, \"340\": {\"frequency\": 1, \"value\": 340}, \"341\": {\"frequency\": 1, \"value\": 341}, \"342\": {\"frequency\": 1, \"value\": 342}, \"343\": {\"frequency\": 1, \"value\": 343}, \"344\": {\"frequency\": 1, \"value\": 344}, \"345\": {\"frequency\": 1, \"value\": 345}, \"346\": {\"frequency\": 1, \"value\": 346}, \"347\": {\"frequency\": 1, \"value\": 347}, \"348\": {\"frequency\": 1, \"value\": 348}, \"349\": {\"frequency\": 1, \"value\": 349}, \"350\": {\"frequency\": 1, \"value\": 350}, \"351\": {\"frequency\": 1, \"value\": 351}, \"352\": {\"frequency\": 1, \"value\": 352}, \"353\": {\"frequency\": 1, \"value\": 353}, \"354\": {\"frequency\": 1, \"value\": 354}, \"355\": {\"frequency\": 1, \"value\": 355}, \"356\": {\"frequency\": 1, \"value\": 356}, \"357\": {\"frequency\": 1, \"value\": 357}, \"358\": {\"frequency\": 1, \"value\": 358}, \"359\": {\"frequency\": 1, \"value\": 359}, \"360\": {\"frequency\": 1, \"value\": 360}, \"361\": {\"frequency\": 1, \"value\": 361}, \"362\": {\"frequency\": 1, \"value\": 362}, \"363\": {\"frequency\": 1, \"value\": 363}, \"364\": {\"frequency\": 1, \"value\": 364}, \"365\": {\"frequency\": 1, \"value\": 365}, \"366\": {\"frequency\": 1, \"value\": 366}, \"367\": {\"frequency\": 1, \"value\": 367}, \"368\": {\"frequency\": 1, \"value\": 368}, \"369\": {\"frequency\": 1, \"value\": 369}, \"370\": {\"frequency\": 1, \"value\": 370}, \"371\": {\"frequency\": 1, \"value\": 371}, \"372\": {\"frequency\": 1, \"value\": 372}, \"373\": {\"frequency\": 1, \"value\": 373}, \"374\": {\"frequency\": 1, \"value\": 374}, \"375\": {\"frequency\": 1, \"value\": 375}, \"376\": {\"frequency\": 1, \"value\": 376}, \"377\": {\"frequency\": 1, \"value\": 377}, \"378\": {\"frequency\": 1, \"value\": 378}, \"379\": {\"frequency\": 1, \"value\": 379}, \"380\": {\"frequency\": 1, \"value\": 380}, \"381\": {\"frequency\": 1, \"value\": 381}, \"382\": {\"frequency\": 1, \"value\": 382}, \"383\": {\"frequency\": 1, \"value\": 383}, \"384\": {\"frequency\": 1, \"value\": 384}, \"385\": {\"frequency\": 1, \"value\": 385}, \"386\": {\"frequency\": 1, \"value\": 386}, \"387\": {\"frequency\": 1, \"value\": 387}, \"388\": {\"frequency\": 1, \"value\": 388}, \"389\": {\"frequency\": 1, \"value\": 389}, \"390\": {\"frequency\": 1, \"value\": 390}, \"391\": {\"frequency\": 1, \"value\": 391}, \"392\": {\"frequency\": 1, \"value\": 392}, \"393\": {\"frequency\": 1, \"value\": 393}, \"394\": {\"frequency\": 1, \"value\": 394}, \"395\": {\"frequency\": 1, \"value\": 395}, \"396\": {\"frequency\": 1, \"value\": 396}, \"397\": {\"frequency\": 1, \"value\": 397}, \"398\": {\"frequency\": 1, \"value\": 398}, \"399\": {\"frequency\": 1, \"value\": 399}, \"400\": {\"frequency\": 1, \"value\": 400}, \"401\": {\"frequency\": 1, \"value\": 401}, \"402\": {\"frequency\": 1, \"value\": 402}, \"403\": {\"frequency\": 1, \"value\": 403}, \"404\": {\"frequency\": 1, \"value\": 404}, \"405\": {\"frequency\": 1, \"value\": 405}, \"406\": {\"frequency\": 1, \"value\": 406}, \"407\": {\"frequency\": 1, \"value\": 407}, \"408\": {\"frequency\": 1, \"value\": 408}, \"409\": {\"frequency\": 1, \"value\": 409}, \"410\": {\"frequency\": 1, \"value\": 410}, \"411\": {\"frequency\": 1, \"value\": 411}, \"412\": {\"frequency\": 1, \"value\": 412}, \"413\": {\"frequency\": 1, \"value\": 413}, \"414\": {\"frequency\": 1, \"value\": 414}, \"415\": {\"frequency\": 1, \"value\": 415}, \"416\": {\"frequency\": 1, \"value\": 416}, \"417\": {\"frequency\": 1, \"value\": 417}, \"418\": {\"frequency\": 1, \"value\": 418}, \"419\": {\"frequency\": 1, \"value\": 419}, \"420\": {\"frequency\": 1, \"value\": 420}, \"421\": {\"frequency\": 1, \"value\": 421}, \"422\": {\"frequency\": 1, \"value\": 422}, \"423\": {\"frequency\": 1, \"value\": 423}, \"424\": {\"frequency\": 1, \"value\": 424}, \"425\": {\"frequency\": 1, \"value\": 425}, \"426\": {\"frequency\": 1, \"value\": 426}, \"427\": {\"frequency\": 1, \"value\": 427}, \"428\": {\"frequency\": 1, \"value\": 428}, \"429\": {\"frequency\": 1, \"value\": 429}, \"430\": {\"frequency\": 1, \"value\": 430}, \"431\": {\"frequency\": 1, \"value\": 431}, \"432\": {\"frequency\": 1, \"value\": 432}, \"433\": {\"frequency\": 1, \"value\": 433}, \"434\": {\"frequency\": 1, \"value\": 434}, \"435\": {\"frequency\": 1, \"value\": 435}, \"436\": {\"frequency\": 1, \"value\": 436}, \"437\": {\"frequency\": 1, \"value\": 437}, \"438\": {\"frequency\": 1, \"value\": 438}, \"439\": {\"frequency\": 1, \"value\": 439}, \"440\": {\"frequency\": 1, \"value\": 440}, \"441\": {\"frequency\": 1, \"value\": 441}, \"442\": {\"frequency\": 1, \"value\": 442}, \"443\": {\"frequency\": 1, \"value\": 443}, \"444\": {\"frequency\": 1, \"value\": 444}, \"445\": {\"frequency\": 1, \"value\": 445}, \"446\": {\"frequency\": 1, \"value\": 446}, \"447\": {\"frequency\": 1, \"value\": 447}, \"448\": {\"frequency\": 1, \"value\": 448}, \"449\": {\"frequency\": 1, \"value\": 449}, \"450\": {\"frequency\": 1, \"value\": 450}, \"451\": {\"frequency\": 1, \"value\": 451}, \"452\": {\"frequency\": 1, \"value\": 452}, \"453\": {\"frequency\": 1, \"value\": 453}, \"454\": {\"frequency\": 1, \"value\": 454}, \"455\": {\"frequency\": 1, \"value\": 455}, \"456\": {\"frequency\": 1, \"value\": 456}, \"457\": {\"frequency\": 1, \"value\": 457}, \"458\": {\"frequency\": 1, \"value\": 458}, \"459\": {\"frequency\": 1, \"value\": 459}, \"460\": {\"frequency\": 1, \"value\": 460}, \"461\": {\"frequency\": 1, \"value\": 461}, \"462\": {\"frequency\": 1, \"value\": 462}, \"463\": {\"frequency\": 1, \"value\": 463}, \"464\": {\"frequency\": 1, \"value\": 464}, \"465\": {\"frequency\": 1, \"value\": 465}, \"466\": {\"frequency\": 1, \"value\": 466}, \"467\": {\"frequency\": 1, \"value\": 467}, \"468\": {\"frequency\": 1, \"value\": 468}, \"469\": {\"frequency\": 1, \"value\": 469}, \"470\": {\"frequency\": 1, \"value\": 470}, \"471\": {\"frequency\": 1, \"value\": 471}, \"472\": {\"frequency\": 1, \"value\": 472}, \"473\": {\"frequency\": 1, \"value\": 473}, \"474\": {\"frequency\": 1, \"value\": 474}, \"475\": {\"frequency\": 1, \"value\": 475}, \"476\": {\"frequency\": 1, \"value\": 476}, \"477\": {\"frequency\": 1, \"value\": 477}, \"478\": {\"frequency\": 1, \"value\": 478}, \"479\": {\"frequency\": 1, \"value\": 479}, \"480\": {\"frequency\": 1, \"value\": 480}, \"481\": {\"frequency\": 1, \"value\": 481}, \"482\": {\"frequency\": 1, \"value\": 482}, \"483\": {\"frequency\": 1, \"value\": 483}, \"484\": {\"frequency\": 1, \"value\": 484}, \"485\": {\"frequency\": 1, \"value\": 485}, \"486\": {\"frequency\": 1, \"value\": 486}, \"487\": {\"frequency\": 1, \"value\": 487}, \"488\": {\"frequency\": 1, \"value\": 488}, \"489\": {\"frequency\": 1, \"value\": 489}, \"490\": {\"frequency\": 1, \"value\": 490}, \"491\": {\"frequency\": 1, \"value\": 491}, \"492\": {\"frequency\": 1, \"value\": 492}, \"493\": {\"frequency\": 1, \"value\": 493}, \"494\": {\"frequency\": 1, \"value\": 494}, \"495\": {\"frequency\": 1, \"value\": 495}, \"496\": {\"frequency\": 1, \"value\": 496}, \"497\": {\"frequency\": 1, \"value\": 497}, \"498\": {\"frequency\": 1, \"value\": 498}, \"499\": {\"frequency\": 1, \"value\": 499}, \"500\": {\"frequency\": 1, \"value\": 500}, \"501\": {\"frequency\": 1, \"value\": 501}, \"502\": {\"frequency\": 1, \"value\": 502}, \"503\": {\"frequency\": 1, \"value\": 503}, \"504\": {\"frequency\": 1, \"value\": 504}, \"505\": {\"frequency\": 1, \"value\": 505}, \"506\": {\"frequency\": 1, \"value\": 506}, \"507\": {\"frequency\": 1, \"value\": 507}, \"508\": {\"frequency\": 1, \"value\": 508}, \"509\": {\"frequency\": 1, \"value\": 509}, \"510\": {\"frequency\": 1, \"value\": 510}, \"511\": {\"frequency\": 1, \"value\": 511}, \"512\": {\"frequency\": 1, \"value\": 512}, \"513\": {\"frequency\": 1, \"value\": 513}, \"514\": {\"frequency\": 1, \"value\": 514}, \"515\": {\"frequency\": 1, \"value\": 515}, \"516\": {\"frequency\": 1, \"value\": 516}, \"517\": {\"frequency\": 1, \"value\": 517}, \"518\": {\"frequency\": 1, \"value\": 518}, \"519\": {\"frequency\": 1, \"value\": 519}, \"520\": {\"frequency\": 1, \"value\": 520}, \"521\": {\"frequency\": 1, \"value\": 521}, \"522\": {\"frequency\": 1, \"value\": 522}, \"523\": {\"frequency\": 1, \"value\": 523}, \"524\": {\"frequency\": 1, \"value\": 524}, \"525\": {\"frequency\": 1, \"value\": 525}, \"526\": {\"frequency\": 1, \"value\": 526}, \"527\": {\"frequency\": 1, \"value\": 527}, \"528\": {\"frequency\": 1, \"value\": 528}, \"529\": {\"frequency\": 1, \"value\": 529}, \"530\": {\"frequency\": 1, \"value\": 530}, \"531\": {\"frequency\": 1, \"value\": 531}, \"532\": {\"frequency\": 1, \"value\": 532}, \"533\": {\"frequency\": 1, \"value\": 533}, \"534\": {\"frequency\": 1, \"value\": 534}, \"535\": {\"frequency\": 1, \"value\": 535}, \"536\": {\"frequency\": 1, \"value\": 536}, \"537\": {\"frequency\": 1, \"value\": 537}, \"538\": {\"frequency\": 1, \"value\": 538}, \"539\": {\"frequency\": 1, \"value\": 539}, \"540\": {\"frequency\": 1, \"value\": 540}, \"541\": {\"frequency\": 1, \"value\": 541}, \"542\": {\"frequency\": 1, \"value\": 542}, \"543\": {\"frequency\": 1, \"value\": 543}, \"544\": {\"frequency\": 1, \"value\": 544}, \"545\": {\"frequency\": 1, \"value\": 545}, \"546\": {\"frequency\": 1, \"value\": 546}, \"547\": {\"frequency\": 1, \"value\": 547}, \"548\": {\"frequency\": 1, \"value\": 548}, \"549\": {\"frequency\": 1, \"value\": 549}, \"550\": {\"frequency\": 1, \"value\": 550}, \"551\": {\"frequency\": 1, \"value\": 551}, \"552\": {\"frequency\": 1, \"value\": 552}, \"553\": {\"frequency\": 1, \"value\": 553}, \"554\": {\"frequency\": 1, \"value\": 554}, \"555\": {\"frequency\": 1, \"value\": 555}, \"556\": {\"frequency\": 1, \"value\": 556}, \"557\": {\"frequency\": 1, \"value\": 557}, \"558\": {\"frequency\": 1, \"value\": 558}, \"559\": {\"frequency\": 1, \"value\": 559}, \"560\": {\"frequency\": 1, \"value\": 560}, \"561\": {\"frequency\": 1, \"value\": 561}, \"562\": {\"frequency\": 1, \"value\": 562}, \"563\": {\"frequency\": 1, \"value\": 563}, \"564\": {\"frequency\": 1, \"value\": 564}, \"565\": {\"frequency\": 1, \"value\": 565}, \"566\": {\"frequency\": 1, \"value\": 566}, \"567\": {\"frequency\": 1, \"value\": 567}, \"568\": {\"frequency\": 1, \"value\": 568}, \"569\": {\"frequency\": 1, \"value\": 569}, \"570\": {\"frequency\": 1, \"value\": 570}, \"571\": {\"frequency\": 1, \"value\": 571}, \"572\": {\"frequency\": 1, \"value\": 572}, \"573\": {\"frequency\": 1, \"value\": 573}, \"574\": {\"frequency\": 1, \"value\": 574}, \"575\": {\"frequency\": 1, \"value\": 575}, \"576\": {\"frequency\": 1, \"value\": 576}, \"577\": {\"frequency\": 1, \"value\": 577}, \"578\": {\"frequency\": 1, \"value\": 578}, \"579\": {\"frequency\": 1, \"value\": 579}, \"580\": {\"frequency\": 1, \"value\": 580}, \"581\": {\"frequency\": 1, \"value\": 581}, \"582\": {\"frequency\": 1, \"value\": 582}, \"583\": {\"frequency\": 1, \"value\": 583}, \"584\": {\"frequency\": 1, \"value\": 584}, \"585\": {\"frequency\": 1, \"value\": 585}, \"586\": {\"frequency\": 1, \"value\": 586}, \"587\": {\"frequency\": 1, \"value\": 587}, \"588\": {\"frequency\": 1, \"value\": 588}, \"589\": {\"frequency\": 1, \"value\": 589}, \"590\": {\"frequency\": 1, \"value\": 590}, \"591\": {\"frequency\": 1, \"value\": 591}, \"592\": {\"frequency\": 1, \"value\": 592}, \"593\": {\"frequency\": 1, \"value\": 593}, \"594\": {\"frequency\": 1, \"value\": 594}, \"595\": {\"frequency\": 1, \"value\": 595}, \"596\": {\"frequency\": 1, \"value\": 596}, \"597\": {\"frequency\": 1, \"value\": 597}, \"598\": {\"frequency\": 1, \"value\": 598}, \"599\": {\"frequency\": 1, \"value\": 599}, \"600\": {\"frequency\": 1, \"value\": 600}, \"601\": {\"frequency\": 1, \"value\": 601}, \"602\": {\"frequency\": 1, \"value\": 602}, \"603\": {\"frequency\": 1, \"value\": 603}, \"604\": {\"frequency\": 1, \"value\": 604}, \"605\": {\"frequency\": 1, \"value\": 605}, \"606\": {\"frequency\": 1, \"value\": 606}, \"607\": {\"frequency\": 1, \"value\": 607}, \"608\": {\"frequency\": 1, \"value\": 608}, \"609\": {\"frequency\": 1, \"value\": 609}, \"610\": {\"frequency\": 1, \"value\": 610}, \"611\": {\"frequency\": 1, \"value\": 611}, \"612\": {\"frequency\": 1, \"value\": 612}, \"613\": {\"frequency\": 1, \"value\": 613}, \"614\": {\"frequency\": 1, \"value\": 614}, \"615\": {\"frequency\": 1, \"value\": 615}, \"616\": {\"frequency\": 1, \"value\": 616}, \"617\": {\"frequency\": 1, \"value\": 617}, \"618\": {\"frequency\": 1, \"value\": 618}, \"619\": {\"frequency\": 1, \"value\": 619}, \"620\": {\"frequency\": 1, \"value\": 620}, \"621\": {\"frequency\": 1, \"value\": 621}, \"622\": {\"frequency\": 1, \"value\": 622}, \"623\": {\"frequency\": 1, \"value\": 623}, \"624\": {\"frequency\": 1, \"value\": 624}, \"625\": {\"frequency\": 1, \"value\": 625}, \"626\": {\"frequency\": 1, \"value\": 626}, \"627\": {\"frequency\": 1, \"value\": 627}, \"628\": {\"frequency\": 1, \"value\": 628}, \"629\": {\"frequency\": 1, \"value\": 629}, \"630\": {\"frequency\": 1, \"value\": 630}, \"631\": {\"frequency\": 1, \"value\": 631}, \"632\": {\"frequency\": 1, \"value\": 632}, \"633\": {\"frequency\": 1, \"value\": 633}, \"634\": {\"frequency\": 1, \"value\": 634}, \"635\": {\"frequency\": 1, \"value\": 635}, \"636\": {\"frequency\": 1, \"value\": 636}, \"637\": {\"frequency\": 1, \"value\": 637}, \"638\": {\"frequency\": 1, \"value\": 638}, \"639\": {\"frequency\": 1, \"value\": 639}, \"640\": {\"frequency\": 1, \"value\": 640}, \"641\": {\"frequency\": 1, \"value\": 641}, \"642\": {\"frequency\": 1, \"value\": 642}, \"643\": {\"frequency\": 1, \"value\": 643}, \"644\": {\"frequency\": 1, \"value\": 644}, \"645\": {\"frequency\": 1, \"value\": 645}, \"646\": {\"frequency\": 1, \"value\": 646}, \"647\": {\"frequency\": 1, \"value\": 647}, \"648\": {\"frequency\": 1, \"value\": 648}, \"649\": {\"frequency\": 1, \"value\": 649}, \"650\": {\"frequency\": 1, \"value\": 650}, \"651\": {\"frequency\": 1, \"value\": 651}, \"652\": {\"frequency\": 1, \"value\": 652}, \"653\": {\"frequency\": 1, \"value\": 653}, \"654\": {\"frequency\": 1, \"value\": 654}, \"655\": {\"frequency\": 1, \"value\": 655}, \"656\": {\"frequency\": 1, \"value\": 656}, \"657\": {\"frequency\": 1, \"value\": 657}, \"658\": {\"frequency\": 1, \"value\": 658}, \"659\": {\"frequency\": 1, \"value\": 659}, \"660\": {\"frequency\": 1, \"value\": 660}, \"661\": {\"frequency\": 1, \"value\": 661}, \"662\": {\"frequency\": 1, \"value\": 662}, \"663\": {\"frequency\": 1, \"value\": 663}, \"664\": {\"frequency\": 1, \"value\": 664}, \"665\": {\"frequency\": 1, \"value\": 665}, \"666\": {\"frequency\": 1, \"value\": 666}, \"667\": {\"frequency\": 1, \"value\": 667}, \"668\": {\"frequency\": 1, \"value\": 668}, \"669\": {\"frequency\": 1, \"value\": 669}, \"670\": {\"frequency\": 1, \"value\": 670}, \"671\": {\"frequency\": 1, \"value\": 671}, \"672\": {\"frequency\": 1, \"value\": 672}, \"673\": {\"frequency\": 1, \"value\": 673}, \"674\": {\"frequency\": 1, \"value\": 674}, \"675\": {\"frequency\": 1, \"value\": 675}, \"676\": {\"frequency\": 1, \"value\": 676}, \"677\": {\"frequency\": 1, \"value\": 677}, \"678\": {\"frequency\": 1, \"value\": 678}, \"679\": {\"frequency\": 1, \"value\": 679}, \"680\": {\"frequency\": 1, \"value\": 680}, \"681\": {\"frequency\": 1, \"value\": 681}, \"682\": {\"frequency\": 1, \"value\": 682}, \"683\": {\"frequency\": 1, \"value\": 683}, \"684\": {\"frequency\": 1, \"value\": 684}, \"685\": {\"frequency\": 1, \"value\": 685}, \"686\": {\"frequency\": 1, \"value\": 686}, \"687\": {\"frequency\": 1, \"value\": 687}, \"688\": {\"frequency\": 1, \"value\": 688}, \"689\": {\"frequency\": 1, \"value\": 689}, \"690\": {\"frequency\": 1, \"value\": 690}, \"691\": {\"frequency\": 1, \"value\": 691}, \"692\": {\"frequency\": 1, \"value\": 692}, \"693\": {\"frequency\": 1, \"value\": 693}, \"694\": {\"frequency\": 1, \"value\": 694}, \"695\": {\"frequency\": 1, \"value\": 695}, \"696\": {\"frequency\": 1, \"value\": 696}, \"697\": {\"frequency\": 1, \"value\": 697}, \"698\": {\"frequency\": 1, \"value\": 698}, \"699\": {\"frequency\": 1, \"value\": 699}, \"700\": {\"frequency\": 1, \"value\": 700}, \"701\": {\"frequency\": 1, \"value\": 701}, \"702\": {\"frequency\": 1, \"value\": 702}, \"703\": {\"frequency\": 1, \"value\": 703}, \"704\": {\"frequency\": 1, \"value\": 704}, \"705\": {\"frequency\": 1, \"value\": 705}, \"706\": {\"frequency\": 1, \"value\": 706}, \"707\": {\"frequency\": 1, \"value\": 707}, \"708\": {\"frequency\": 1, \"value\": 708}, \"709\": {\"frequency\": 1, \"value\": 709}, \"710\": {\"frequency\": 1, \"value\": 710}, \"711\": {\"frequency\": 1, \"value\": 711}, \"712\": {\"frequency\": 1, \"value\": 712}, \"713\": {\"frequency\": 1, \"value\": 713}, \"714\": {\"frequency\": 1, \"value\": 714}, \"715\": {\"frequency\": 1, \"value\": 715}, \"716\": {\"frequency\": 1, \"value\": 716}, \"717\": {\"frequency\": 1, \"value\": 717}, \"718\": {\"frequency\": 1, \"value\": 718}, \"719\": {\"frequency\": 1, \"value\": 719}, \"720\": {\"frequency\": 1, \"value\": 720}, \"721\": {\"frequency\": 1, \"value\": 721}, \"722\": {\"frequency\": 1, \"value\": 722}, \"723\": {\"frequency\": 1, \"value\": 723}, \"724\": {\"frequency\": 1, \"value\": 724}, \"725\": {\"frequency\": 1, \"value\": 725}, \"726\": {\"frequency\": 1, \"value\": 726}, \"727\": {\"frequency\": 1, \"value\": 727}, \"728\": {\"frequency\": 1, \"value\": 728}, \"729\": {\"frequency\": 1, \"value\": 729}, \"730\": {\"frequency\": 1, \"value\": 730}, \"731\": {\"frequency\": 1, \"value\": 731}, \"732\": {\"frequency\": 1, \"value\": 732}, \"733\": {\"frequency\": 1, \"value\": 733}, \"734\": {\"frequency\": 1, \"value\": 734}, \"735\": {\"frequency\": 1, \"value\": 735}, \"736\": {\"frequency\": 1, \"value\": 736}, \"737\": {\"frequency\": 1, \"value\": 737}, \"738\": {\"frequency\": 1, \"value\": 738}, \"739\": {\"frequency\": 1, \"value\": 739}, \"740\": {\"frequency\": 1, \"value\": 740}, \"741\": {\"frequency\": 1, \"value\": 741}, \"742\": {\"frequency\": 1, \"value\": 742}, \"743\": {\"frequency\": 1, \"value\": 743}, \"744\": {\"frequency\": 1, \"value\": 744}, \"745\": {\"frequency\": 1, \"value\": 745}, \"746\": {\"frequency\": 1, \"value\": 746}, \"747\": {\"frequency\": 1, \"value\": 747}, \"748\": {\"frequency\": 1, \"value\": 748}, \"749\": {\"frequency\": 1, \"value\": 749}, \"750\": {\"frequency\": 1, \"value\": 750}, \"751\": {\"frequency\": 1, \"value\": 751}, \"752\": {\"frequency\": 1, \"value\": 752}, \"753\": {\"frequency\": 1, \"value\": 753}, \"754\": {\"frequency\": 1, \"value\": 754}, \"755\": {\"frequency\": 1, \"value\": 755}, \"756\": {\"frequency\": 1, \"value\": 756}, \"757\": {\"frequency\": 1, \"value\": 757}, \"758\": {\"frequency\": 1, \"value\": 758}, \"759\": {\"frequency\": 1, \"value\": 759}, \"760\": {\"frequency\": 1, \"value\": 760}, \"761\": {\"frequency\": 1, \"value\": 761}, \"762\": {\"frequency\": 1, \"value\": 762}, \"763\": {\"frequency\": 1, \"value\": 763}, \"764\": {\"frequency\": 1, \"value\": 764}, \"765\": {\"frequency\": 1, \"value\": 765}, \"766\": {\"frequency\": 1, \"value\": 766}, \"767\": {\"frequency\": 1, \"value\": 767}, \"768\": {\"frequency\": 1, \"value\": 768}, \"769\": {\"frequency\": 1, \"value\": 769}, \"770\": {\"frequency\": 1, \"value\": 770}, \"771\": {\"frequency\": 1, \"value\": 771}, \"772\": {\"frequency\": 1, \"value\": 772}, \"773\": {\"frequency\": 1, \"value\": 773}, \"774\": {\"frequency\": 1, \"value\": 774}, \"775\": {\"frequency\": 1, \"value\": 775}, \"776\": {\"frequency\": 1, \"value\": 776}, \"777\": {\"frequency\": 1, \"value\": 777}, \"778\": {\"frequency\": 1, \"value\": 778}, \"779\": {\"frequency\": 1, \"value\": 779}, \"780\": {\"frequency\": 1, \"value\": 780}, \"781\": {\"frequency\": 1, \"value\": 781}, \"782\": {\"frequency\": 1, \"value\": 782}, \"783\": {\"frequency\": 1, \"value\": 783}, \"784\": {\"frequency\": 1, \"value\": 784}, \"785\": {\"frequency\": 1, \"value\": 785}, \"786\": {\"frequency\": 1, \"value\": 786}, \"787\": {\"frequency\": 1, \"value\": 787}, \"788\": {\"frequency\": 1, \"value\": 788}, \"789\": {\"frequency\": 1, \"value\": 789}, \"790\": {\"frequency\": 1, \"value\": 790}, \"791\": {\"frequency\": 1, \"value\": 791}, \"792\": {\"frequency\": 1, \"value\": 792}, \"793\": {\"frequency\": 1, \"value\": 793}, \"794\": {\"frequency\": 1, \"value\": 794}, \"795\": {\"frequency\": 1, \"value\": 795}, \"796\": {\"frequency\": 1, \"value\": 796}, \"797\": {\"frequency\": 1, \"value\": 797}, \"798\": {\"frequency\": 1, \"value\": 798}, \"799\": {\"frequency\": 1, \"value\": 799}, \"800\": {\"frequency\": 1, \"value\": 800}, \"801\": {\"frequency\": 1, \"value\": 801}, \"802\": {\"frequency\": 1, \"value\": 802}, \"803\": {\"frequency\": 1, \"value\": 803}, \"804\": {\"frequency\": 1, \"value\": 804}, \"805\": {\"frequency\": 1, \"value\": 805}, \"806\": {\"frequency\": 1, \"value\": 806}, \"807\": {\"frequency\": 1, \"value\": 807}, \"808\": {\"frequency\": 1, \"value\": 808}, \"809\": {\"frequency\": 1, \"value\": 809}, \"810\": {\"frequency\": 1, \"value\": 810}, \"811\": {\"frequency\": 1, \"value\": 811}, \"812\": {\"frequency\": 1, \"value\": 812}, \"813\": {\"frequency\": 1, \"value\": 813}, \"814\": {\"frequency\": 1, \"value\": 814}, \"815\": {\"frequency\": 1, \"value\": 815}, \"816\": {\"frequency\": 1, \"value\": 816}, \"817\": {\"frequency\": 1, \"value\": 817}, \"818\": {\"frequency\": 1, \"value\": 818}, \"819\": {\"frequency\": 1, \"value\": 819}, \"820\": {\"frequency\": 1, \"value\": 820}, \"821\": {\"frequency\": 1, \"value\": 821}, \"822\": {\"frequency\": 1, \"value\": 822}, \"823\": {\"frequency\": 1, \"value\": 823}, \"824\": {\"frequency\": 1, \"value\": 824}, \"825\": {\"frequency\": 1, \"value\": 825}, \"826\": {\"frequency\": 1, \"value\": 826}, \"827\": {\"frequency\": 1, \"value\": 827}, \"828\": {\"frequency\": 1, \"value\": 828}, \"829\": {\"frequency\": 1, \"value\": 829}, \"830\": {\"frequency\": 1, \"value\": 830}, \"831\": {\"frequency\": 1, \"value\": 831}, \"832\": {\"frequency\": 1, \"value\": 832}, \"833\": {\"frequency\": 1, \"value\": 833}, \"834\": {\"frequency\": 1, \"value\": 834}, \"835\": {\"frequency\": 1, \"value\": 835}, \"836\": {\"frequency\": 1, \"value\": 836}, \"837\": {\"frequency\": 1, \"value\": 837}, \"838\": {\"frequency\": 1, \"value\": 838}, \"839\": {\"frequency\": 1, \"value\": 839}, \"840\": {\"frequency\": 1, \"value\": 840}, \"841\": {\"frequency\": 1, \"value\": 841}, \"842\": {\"frequency\": 1, \"value\": 842}, \"843\": {\"frequency\": 1, \"value\": 843}, \"844\": {\"frequency\": 1, \"value\": 844}, \"845\": {\"frequency\": 1, \"value\": 845}, \"846\": {\"frequency\": 1, \"value\": 846}, \"847\": {\"frequency\": 1, \"value\": 847}, \"848\": {\"frequency\": 1, \"value\": 848}, \"849\": {\"frequency\": 1, \"value\": 849}, \"850\": {\"frequency\": 1, \"value\": 850}, \"851\": {\"frequency\": 1, \"value\": 851}, \"852\": {\"frequency\": 1, \"value\": 852}, \"853\": {\"frequency\": 1, \"value\": 853}, \"854\": {\"frequency\": 1, \"value\": 854}, \"855\": {\"frequency\": 1, \"value\": 855}, \"856\": {\"frequency\": 1, \"value\": 856}, \"857\": {\"frequency\": 1, \"value\": 857}, \"858\": {\"frequency\": 1, \"value\": 858}, \"859\": {\"frequency\": 1, \"value\": 859}, \"860\": {\"frequency\": 1, \"value\": 860}, \"861\": {\"frequency\": 1, \"value\": 861}, \"862\": {\"frequency\": 1, \"value\": 862}, \"863\": {\"frequency\": 1, \"value\": 863}, \"864\": {\"frequency\": 1, \"value\": 864}, \"865\": {\"frequency\": 1, \"value\": 865}, \"866\": {\"frequency\": 1, \"value\": 866}, \"867\": {\"frequency\": 1, \"value\": 867}, \"868\": {\"frequency\": 1, \"value\": 868}, \"869\": {\"frequency\": 1, \"value\": 869}, \"870\": {\"frequency\": 1, \"value\": 870}, \"871\": {\"frequency\": 1, \"value\": 871}, \"872\": {\"frequency\": 1, \"value\": 872}, \"873\": {\"frequency\": 1, \"value\": 873}, \"874\": {\"frequency\": 1, \"value\": 874}, \"875\": {\"frequency\": 1, \"value\": 875}, \"876\": {\"frequency\": 1, \"value\": 876}, \"877\": {\"frequency\": 1, \"value\": 877}, \"878\": {\"frequency\": 1, \"value\": 878}, \"879\": {\"frequency\": 1, \"value\": 879}, \"880\": {\"frequency\": 1, \"value\": 880}, \"881\": {\"frequency\": 1, \"value\": 881}, \"882\": {\"frequency\": 1, \"value\": 882}, \"883\": {\"frequency\": 1, \"value\": 883}, \"884\": {\"frequency\": 1, \"value\": 884}, \"885\": {\"frequency\": 1, \"value\": 885}, \"886\": {\"frequency\": 1, \"value\": 886}, \"887\": {\"frequency\": 1, \"value\": 887}, \"888\": {\"frequency\": 1, \"value\": 888}, \"889\": {\"frequency\": 1, \"value\": 889}, \"890\": {\"frequency\": 1, \"value\": 890}, \"891\": {\"frequency\": 1, \"value\": 891}}, \"mean\": 446.00000000000006}, \"Ticket\": {\"complete\": true, \"numeric\": false, \"num_unique\": 681, \"num_undefined\": 0, \"progress\": 1.0, \"frequent_items\": {\"367226\": {\"frequency\": 2, \"value\": \"367226\"}, \"SOTON/OQ 392090\": {\"frequency\": 1, \"value\": \"SOTON/OQ 392090\"}, \"C.A. 29566\": {\"frequency\": 1, \"value\": \"C.A. 29566\"}, \"110413\": {\"frequency\": 3, \"value\": \"110413\"}, \"367229\": {\"frequency\": 1, \"value\": \"367229\"}, \"A/5 3902\": {\"frequency\": 1, \"value\": \"A/5 3902\"}, \"C.A. 33111\": {\"frequency\": 1, \"value\": \"C.A. 33111\"}, \"C.A. 33112\": {\"frequency\": 2, \"value\": \"C.A. 33112\"}, \"W./C. 6607\": {\"frequency\": 2, \"value\": \"W./C. 6607\"}, \"W./C. 6609\": {\"frequency\": 1, \"value\": \"W./C. 6609\"}, \"W./C. 6608\": {\"frequency\": 4, \"value\": \"W./C. 6608\"}, \"350029\": {\"frequency\": 1, \"value\": \"350029\"}, \"A/5 3536\": {\"frequency\": 1, \"value\": \"A/5 3536\"}, \"219533\": {\"frequency\": 1, \"value\": \"219533\"}, \"A/5 21174\": {\"frequency\": 1, \"value\": \"A/5 21174\"}, \"C.A. 24580\": {\"frequency\": 1, \"value\": \"C.A. 24580\"}, \"A/5 21171\": {\"frequency\": 1, \"value\": \"A/5 21171\"}, \"A/5 21173\": {\"frequency\": 1, \"value\": \"A/5 21173\"}, \"A/5 21172\": {\"frequency\": 1, \"value\": \"A/5 21172\"}, \"367228\": {\"frequency\": 1, \"value\": \"367228\"}, \"348121\": {\"frequency\": 1, \"value\": \"348121\"}, \"STON/O2. 3101279\": {\"frequency\": 2, \"value\": \"STON/O2. 3101279\"}, \"350060\": {\"frequency\": 1, \"value\": \"350060\"}, \"29750\": {\"frequency\": 2, \"value\": \"29750\"}, \"29751\": {\"frequency\": 1, \"value\": \"29751\"}, \"330979\": {\"frequency\": 1, \"value\": \"330979\"}, \"237565\": {\"frequency\": 1, \"value\": \"237565\"}, \"A/4. 34244\": {\"frequency\": 1, \"value\": \"A/4. 34244\"}, \"SOTON/O2 3101272\": {\"frequency\": 1, \"value\": \"SOTON/O2 3101272\"}, \"33638\": {\"frequency\": 1, \"value\": \"33638\"}, \"C.A. 6212\": {\"frequency\": 1, \"value\": \"C.A. 6212\"}, \"323592\": {\"frequency\": 1, \"value\": \"323592\"}, \"PC 17608\": {\"frequency\": 2, \"value\": \"PC 17608\"}, \"PC 17605\": {\"frequency\": 1, \"value\": \"PC 17605\"}, \"PC 17604\": {\"frequency\": 2, \"value\": \"PC 17604\"}, \"PC 17601\": {\"frequency\": 1, \"value\": \"PC 17601\"}, \"347054\": {\"frequency\": 2, \"value\": \"347054\"}, \"PC 17603\": {\"frequency\": 1, \"value\": \"PC 17603\"}, \"19972\": {\"frequency\": 1, \"value\": \"19972\"}, \"36209\": {\"frequency\": 1, \"value\": \"36209\"}, \"19877\": {\"frequency\": 2, \"value\": \"19877\"}, \"248747\": {\"frequency\": 1, \"value\": \"248747\"}, \"250652\": {\"frequency\": 1, \"value\": \"250652\"}, \"248740\": {\"frequency\": 1, \"value\": \"248740\"}, \"243880\": {\"frequency\": 1, \"value\": \"243880\"}, \"11769\": {\"frequency\": 1, \"value\": \"11769\"}, \"240929\": {\"frequency\": 1, \"value\": \"240929\"}, \"386525\": {\"frequency\": 1, \"value\": \"386525\"}, \"11767\": {\"frequency\": 2, \"value\": \"11767\"}, \"11765\": {\"frequency\": 1, \"value\": \"11765\"}, \"349228\": {\"frequency\": 1, \"value\": \"349228\"}, \"31418\": {\"frequency\": 1, \"value\": \"31418\"}, \"A4. 54510\": {\"frequency\": 1, \"value\": \"A4. 54510\"}, \"349221\": {\"frequency\": 1, \"value\": \"349221\"}, \"349222\": {\"frequency\": 1, \"value\": \"349222\"}, \"349223\": {\"frequency\": 1, \"value\": \"349223\"}, \"349224\": {\"frequency\": 1, \"value\": \"349224\"}, \"349225\": {\"frequency\": 1, \"value\": \"349225\"}, \"349227\": {\"frequency\": 1, \"value\": \"349227\"}, \"113028\": {\"frequency\": 1, \"value\": \"113028\"}, \"17421\": {\"frequency\": 4, \"value\": \"17421\"}, \"231945\": {\"frequency\": 1, \"value\": \"231945\"}, \"330919\": {\"frequency\": 1, \"value\": \"330919\"}, \"A/5 2817\": {\"frequency\": 1, \"value\": \"A/5 2817\"}, \"13567\": {\"frequency\": 1, \"value\": \"13567\"}, \"234604\": {\"frequency\": 1, \"value\": \"234604\"}, \"A/5. 3337\": {\"frequency\": 1, \"value\": \"A/5. 3337\"}, \"A/5. 3336\": {\"frequency\": 2, \"value\": \"A/5. 3336\"}, \"367655\": {\"frequency\": 1, \"value\": \"367655\"}, \"35273\": {\"frequency\": 3, \"value\": \"35273\"}, \"A/S 2816\": {\"frequency\": 1, \"value\": \"A/S 2816\"}, \"368703\": {\"frequency\": 1, \"value\": \"368703\"}, \"21440\": {\"frequency\": 1, \"value\": \"21440\"}, \"349909\": {\"frequency\": 4, \"value\": \"349909\"}, \"C.A. 29178\": {\"frequency\": 1, \"value\": \"C.A. 29178\"}, \"7267\": {\"frequency\": 1, \"value\": \"7267\"}, \"SC 1748\": {\"frequency\": 1, \"value\": \"SC 1748\"}, \"C.A. 34651\": {\"frequency\": 3, \"value\": \"C.A. 34651\"}, \"330980\": {\"frequency\": 1, \"value\": \"330980\"}, \"28665\": {\"frequency\": 1, \"value\": \"28665\"}, \"36928\": {\"frequency\": 2, \"value\": \"36928\"}, \"7553\": {\"frequency\": 1, \"value\": \"7553\"}, \"2685\": {\"frequency\": 1, \"value\": \"2685\"}, \"2686\": {\"frequency\": 1, \"value\": \"2686\"}, \"2687\": {\"frequency\": 1, \"value\": \"2687\"}, \"2680\": {\"frequency\": 1, \"value\": \"2680\"}, \"113776\": {\"frequency\": 2, \"value\": \"113776\"}, \"2683\": {\"frequency\": 1, \"value\": \"2683\"}, \"11755\": {\"frequency\": 1, \"value\": \"11755\"}, \"C 7077\": {\"frequency\": 1, \"value\": \"C 7077\"}, \"C 7076\": {\"frequency\": 1, \"value\": \"C 7076\"}, \"C 7075\": {\"frequency\": 1, \"value\": \"C 7075\"}, \"113796\": {\"frequency\": 1, \"value\": \"113796\"}, \"315098\": {\"frequency\": 1, \"value\": \"315098\"}, \"113792\": {\"frequency\": 1, \"value\": \"113792\"}, \"244367\": {\"frequency\": 2, \"value\": \"244367\"}, \"244361\": {\"frequency\": 1, \"value\": \"244361\"}, \"113798\": {\"frequency\": 2, \"value\": \"113798\"}, \"11752\": {\"frequency\": 1, \"value\": \"11752\"}, \"A.5. 11206\": {\"frequency\": 1, \"value\": \"A.5. 11206\"}, \"11751\": {\"frequency\": 2, \"value\": \"11751\"}, \"347470\": {\"frequency\": 1, \"value\": \"347470\"}, \"3460\": {\"frequency\": 1, \"value\": \"3460\"}, \"24160\": {\"frequency\": 3, \"value\": \"24160\"}, \"PC 17482\": {\"frequency\": 1, \"value\": \"PC 17482\"}, \"65303\": {\"frequency\": 1, \"value\": \"65303\"}, \"C.A./SOTON 34068\": {\"frequency\": 1, \"value\": \"C.A./SOTON 34068\"}, \"65306\": {\"frequency\": 1, \"value\": \"65306\"}, \"65304\": {\"frequency\": 1, \"value\": \"65304\"}, \"C.A. 31026\": {\"frequency\": 1, \"value\": \"C.A. 31026\"}, \"SOTON/O.Q. 3101312\": {\"frequency\": 1, \"value\": \"SOTON/O.Q. 3101312\"}, \"SOTON/O.Q. 3101311\": {\"frequency\": 1, \"value\": \"SOTON/O.Q. 3101311\"}, \"SOTON/O.Q. 3101310\": {\"frequency\": 1, \"value\": \"SOTON/O.Q. 3101310\"}, \"13509\": {\"frequency\": 1, \"value\": \"13509\"}, \"PC 17485\": {\"frequency\": 2, \"value\": \"PC 17485\"}, \"S.O./P.P. 751\": {\"frequency\": 1, \"value\": \"S.O./P.P. 751\"}, \"PC 17483\": {\"frequency\": 1, \"value\": \"PC 17483\"}, \"248706\": {\"frequency\": 1, \"value\": \"248706\"}, \"13502\": {\"frequency\": 3, \"value\": \"13502\"}, \"S.O.P. 1166\": {\"frequency\": 1, \"value\": \"S.O.P. 1166\"}, \"13507\": {\"frequency\": 2, \"value\": \"13507\"}, \"234818\": {\"frequency\": 1, \"value\": \"234818\"}, \"2671\": {\"frequency\": 1, \"value\": \"2671\"}, \"315094\": {\"frequency\": 1, \"value\": \"315094\"}, \"2223\": {\"frequency\": 1, \"value\": \"2223\"}, \"C.A. 37671\": {\"frequency\": 2, \"value\": \"C.A. 37671\"}, \"36866\": {\"frequency\": 1, \"value\": \"36866\"}, \"112050\": {\"frequency\": 1, \"value\": \"112050\"}, \"C 17369\": {\"frequency\": 1, \"value\": \"C 17369\"}, \"SOTON/O2 3101287\": {\"frequency\": 1, \"value\": \"SOTON/O2 3101287\"}, \"248698\": {\"frequency\": 1, \"value\": \"248698\"}, \"19988\": {\"frequency\": 1, \"value\": \"19988\"}, \"C.A. 29395\": {\"frequency\": 1, \"value\": \"C.A. 29395\"}, \"PC 17558\": {\"frequency\": 2, \"value\": \"PC 17558\"}, \"36865\": {\"frequency\": 1, \"value\": \"36865\"}, \"341826\": {\"frequency\": 1, \"value\": \"341826\"}, \"17466\": {\"frequency\": 1, \"value\": \"17466\"}, \"A/4. 20589\": {\"frequency\": 1, \"value\": \"A/4. 20589\"}, \"17464\": {\"frequency\": 1, \"value\": \"17464\"}, \"229236\": {\"frequency\": 1, \"value\": \"229236\"}, \"F.C.C. 13531\": {\"frequency\": 1, \"value\": \"F.C.C. 13531\"}, \"349203\": {\"frequency\": 1, \"value\": \"349203\"}, \"348123\": {\"frequency\": 1, \"value\": \"348123\"}, \"330958\": {\"frequency\": 1, \"value\": \"330958\"}, \"330959\": {\"frequency\": 1, \"value\": \"330959\"}, \"383121\": {\"frequency\": 1, \"value\": \"383121\"}, \"STON/O2. 3101290\": {\"frequency\": 1, \"value\": \"STON/O2. 3101290\"}, \"345572\": {\"frequency\": 1, \"value\": \"345572\"}, \"392096\": {\"frequency\": 2, \"value\": \"392096\"}, \"392092\": {\"frequency\": 1, \"value\": \"392092\"}, \"392091\": {\"frequency\": 1, \"value\": \"392091\"}, \"29103\": {\"frequency\": 1, \"value\": \"29103\"}, \"29105\": {\"frequency\": 1, \"value\": \"29105\"}, \"SC/Paris 2163\": {\"frequency\": 1, \"value\": \"SC/Paris 2163\"}, \"29106\": {\"frequency\": 3, \"value\": \"29106\"}, \"2659\": {\"frequency\": 2, \"value\": \"2659\"}, \"17764\": {\"frequency\": 1, \"value\": \"17764\"}, \"2653\": {\"frequency\": 2, \"value\": \"2653\"}, \"2651\": {\"frequency\": 2, \"value\": \"2651\"}, \"2650\": {\"frequency\": 1, \"value\": \"2650\"}, \"237671\": {\"frequency\": 1, \"value\": \"237671\"}, \"S.O.C. 14879\": {\"frequency\": 5, \"value\": \"S.O.C. 14879\"}, \"3411\": {\"frequency\": 1, \"value\": \"3411\"}, \"LINE\": {\"frequency\": 4, \"value\": \"LINE\"}, \"7598\": {\"frequency\": 1, \"value\": \"7598\"}, \"16966\": {\"frequency\": 2, \"value\": \"16966\"}, \"347087\": {\"frequency\": 1, \"value\": \"347087\"}, \"349246\": {\"frequency\": 1, \"value\": \"349246\"}, \"28213\": {\"frequency\": 1, \"value\": \"28213\"}, \"3101265\": {\"frequency\": 1, \"value\": \"3101265\"}, \"367232\": {\"frequency\": 1, \"value\": \"367232\"}, \"367231\": {\"frequency\": 1, \"value\": \"367231\"}, \"367230\": {\"frequency\": 2, \"value\": \"367230\"}, \"349912\": {\"frequency\": 1, \"value\": \"349912\"}, \"364500\": {\"frequency\": 1, \"value\": \"364500\"}, \"349245\": {\"frequency\": 1, \"value\": \"349245\"}, \"364506\": {\"frequency\": 1, \"value\": \"364506\"}, \"110465\": {\"frequency\": 2, \"value\": \"110465\"}, \"315153\": {\"frequency\": 1, \"value\": \"315153\"}, \"315151\": {\"frequency\": 1, \"value\": \"315151\"}, \"111426\": {\"frequency\": 1, \"value\": \"111426\"}, \"26360\": {\"frequency\": 2, \"value\": \"26360\"}, \"2926\": {\"frequency\": 1, \"value\": \"2926\"}, \"111428\": {\"frequency\": 1, \"value\": \"111428\"}, \"4138\": {\"frequency\": 1, \"value\": \"4138\"}, \"113786\": {\"frequency\": 1, \"value\": \"113786\"}, \"SOTON/O.Q. 392087\": {\"frequency\": 1, \"value\": \"SOTON/O.Q. 392087\"}, \"SOTON/OQ 3101317\": {\"frequency\": 1, \"value\": \"SOTON/OQ 3101317\"}, \"SOTON/OQ 3101316\": {\"frequency\": 1, \"value\": \"SOTON/OQ 3101316\"}, \"312993\": {\"frequency\": 1, \"value\": \"312993\"}, \"4133\": {\"frequency\": 4, \"value\": \"4133\"}, \"4134\": {\"frequency\": 1, \"value\": \"4134\"}, \"4135\": {\"frequency\": 1, \"value\": \"4135\"}, \"4136\": {\"frequency\": 1, \"value\": \"4136\"}, \"4137\": {\"frequency\": 1, \"value\": \"4137\"}, \"236852\": {\"frequency\": 1, \"value\": \"236852\"}, \"236853\": {\"frequency\": 1, \"value\": \"236853\"}, \"330877\": {\"frequency\": 1, \"value\": \"330877\"}, \"312991\": {\"frequency\": 1, \"value\": \"312991\"}, \"36973\": {\"frequency\": 2, \"value\": \"36973\"}, \"2908\": {\"frequency\": 2, \"value\": \"2908\"}, \"349218\": {\"frequency\": 1, \"value\": \"349218\"}, \"111369\": {\"frequency\": 1, \"value\": \"111369\"}, \"244252\": {\"frequency\": 2, \"value\": \"244252\"}, \"STON/O 2. 3101275\": {\"frequency\": 1, \"value\": \"STON/O 2. 3101275\"}, \"STON/O 2. 3101274\": {\"frequency\": 1, \"value\": \"STON/O 2. 3101274\"}, \"STON/O 2. 3101273\": {\"frequency\": 1, \"value\": \"STON/O 2. 3101273\"}, \"SC/AH 3085\": {\"frequency\": 1, \"value\": \"SC/AH 3085\"}, \"343120\": {\"frequency\": 1, \"value\": \"343120\"}, \"A./5. 2152\": {\"frequency\": 1, \"value\": \"A./5. 2152\"}, \"54636\": {\"frequency\": 2, \"value\": \"54636\"}, \"A/4 45380\": {\"frequency\": 1, \"value\": \"A/4 45380\"}, \"349233\": {\"frequency\": 1, \"value\": \"349233\"}, \"27267\": {\"frequency\": 1, \"value\": \"27267\"}, \"C 4001\": {\"frequency\": 1, \"value\": \"C 4001\"}, \"17463\": {\"frequency\": 1, \"value\": \"17463\"}, \"PP 4348\": {\"frequency\": 1, \"value\": \"PP 4348\"}, \"234686\": {\"frequency\": 1, \"value\": \"234686\"}, \"248738\": {\"frequency\": 2, \"value\": \"248738\"}, \"113055\": {\"frequency\": 1, \"value\": \"113055\"}, \"11753\": {\"frequency\": 1, \"value\": \"11753\"}, \"371110\": {\"frequency\": 3, \"value\": \"371110\"}, \"SO/C 14885\": {\"frequency\": 1, \"value\": \"SO/C 14885\"}, \"248733\": {\"frequency\": 1, \"value\": \"248733\"}, \"248731\": {\"frequency\": 1, \"value\": \"248731\"}, \"28551\": {\"frequency\": 1, \"value\": \"28551\"}, \"SC/Paris 2123\": {\"frequency\": 3, \"value\": \"SC/Paris 2123\"}, \"223596\": {\"frequency\": 1, \"value\": \"223596\"}, \"PC 17569\": {\"frequency\": 2, \"value\": \"PC 17569\"}, \"347743\": {\"frequency\": 1, \"value\": \"347743\"}, \"347742\": {\"frequency\": 3, \"value\": \"347742\"}, \"113051\": {\"frequency\": 1, \"value\": \"113051\"}, \"A/4 48871\": {\"frequency\": 2, \"value\": \"A/4 48871\"}, \"394140\": {\"frequency\": 1, \"value\": \"394140\"}, \"PC 17609\": {\"frequency\": 1, \"value\": \"PC 17609\"}, \"237736\": {\"frequency\": 2, \"value\": \"237736\"}, \"SC/PARIS 2131\": {\"frequency\": 1, \"value\": \"SC/PARIS 2131\"}, \"330909\": {\"frequency\": 1, \"value\": \"330909\"}, \"335097\": {\"frequency\": 1, \"value\": \"335097\"}, \"347064\": {\"frequency\": 1, \"value\": \"347064\"}, \"2648\": {\"frequency\": 1, \"value\": \"2648\"}, \"347067\": {\"frequency\": 1, \"value\": \"347067\"}, \"A/5. 13032\": {\"frequency\": 1, \"value\": \"A/5. 13032\"}, \"347061\": {\"frequency\": 1, \"value\": \"347061\"}, \"347062\": {\"frequency\": 1, \"value\": \"347062\"}, \"347063\": {\"frequency\": 1, \"value\": \"347063\"}, \"347060\": {\"frequency\": 1, \"value\": \"347060\"}, \"112379\": {\"frequency\": 1, \"value\": \"112379\"}, \"347068\": {\"frequency\": 1, \"value\": \"347068\"}, \"347069\": {\"frequency\": 1, \"value\": \"347069\"}, \"A.5. 18509\": {\"frequency\": 1, \"value\": \"A.5. 18509\"}, \"2623\": {\"frequency\": 1, \"value\": \"2623\"}, \"2620\": {\"frequency\": 1, \"value\": \"2620\"}, \"343275\": {\"frequency\": 1, \"value\": \"343275\"}, \"2627\": {\"frequency\": 2, \"value\": \"2627\"}, \"S.W./PP 752\": {\"frequency\": 1, \"value\": \"S.W./PP 752\"}, \"343276\": {\"frequency\": 1, \"value\": \"343276\"}, \"374746\": {\"frequency\": 1, \"value\": \"374746\"}, \"2628\": {\"frequency\": 1, \"value\": \"2628\"}, \"2629\": {\"frequency\": 1, \"value\": \"2629\"}, \"PC 17600\": {\"frequency\": 1, \"value\": \"PC 17600\"}, \"9234\": {\"frequency\": 1, \"value\": \"9234\"}, \"8471\": {\"frequency\": 1, \"value\": \"8471\"}, \"13213\": {\"frequency\": 1, \"value\": \"13213\"}, \"13214\": {\"frequency\": 1, \"value\": \"13214\"}, \"349237\": {\"frequency\": 2, \"value\": \"349237\"}, \"349236\": {\"frequency\": 1, \"value\": \"349236\"}, \"347085\": {\"frequency\": 1, \"value\": \"347085\"}, \"349234\": {\"frequency\": 1, \"value\": \"349234\"}, \"3101277\": {\"frequency\": 1, \"value\": \"3101277\"}, \"3101276\": {\"frequency\": 1, \"value\": \"3101276\"}, \"2699\": {\"frequency\": 2, \"value\": \"2699\"}, \"2697\": {\"frequency\": 1, \"value\": \"2697\"}, \"3101295\": {\"frequency\": 6, \"value\": \"3101295\"}, \"2695\": {\"frequency\": 1, \"value\": \"2695\"}, \"2694\": {\"frequency\": 1, \"value\": \"2694\"}, \"2693\": {\"frequency\": 1, \"value\": \"2693\"}, \"349239\": {\"frequency\": 1, \"value\": \"349239\"}, \"2690\": {\"frequency\": 1, \"value\": \"2690\"}, \"3101296\": {\"frequency\": 1, \"value\": \"3101296\"}, \"14973\": {\"frequency\": 1, \"value\": \"14973\"}, \"244358\": {\"frequency\": 1, \"value\": \"244358\"}, \"364498\": {\"frequency\": 1, \"value\": \"364498\"}, \"364851\": {\"frequency\": 1, \"value\": \"364851\"}, \"C.A. 2315\": {\"frequency\": 2, \"value\": \"C.A. 2315\"}, \"350036\": {\"frequency\": 1, \"value\": \"350036\"}, \"350035\": {\"frequency\": 1, \"value\": \"350035\"}, \"350034\": {\"frequency\": 1, \"value\": \"350034\"}, \"2626\": {\"frequency\": 1, \"value\": \"2626\"}, \"F.C.C. 13529\": {\"frequency\": 3, \"value\": \"F.C.C. 13529\"}, \"F.C.C. 13528\": {\"frequency\": 1, \"value\": \"F.C.C. 13528\"}, \"113804\": {\"frequency\": 1, \"value\": \"113804\"}, \"374910\": {\"frequency\": 1, \"value\": \"374910\"}, \"113806\": {\"frequency\": 2, \"value\": \"113806\"}, \"2624\": {\"frequency\": 1, \"value\": \"2624\"}, \"29108\": {\"frequency\": 1, \"value\": \"29108\"}, \"2625\": {\"frequency\": 1, \"value\": \"2625\"}, \"C.A. 34260\": {\"frequency\": 1, \"value\": \"C.A. 34260\"}, \"228414\": {\"frequency\": 1, \"value\": \"228414\"}, \"211536\": {\"frequency\": 1, \"value\": \"211536\"}, \"36947\": {\"frequency\": 2, \"value\": \"36947\"}, \"P/PP 3381\": {\"frequency\": 2, \"value\": \"P/PP 3381\"}, \"365222\": {\"frequency\": 1, \"value\": \"365222\"}, \"STON/O 2. 3101294\": {\"frequency\": 1, \"value\": \"STON/O 2. 3101294\"}, \"STON/O 2. 3101293\": {\"frequency\": 1, \"value\": \"STON/O 2. 3101293\"}, \"STON/O 2. 3101292\": {\"frequency\": 1, \"value\": \"STON/O 2. 3101292\"}, \"112053\": {\"frequency\": 1, \"value\": \"112053\"}, \"112052\": {\"frequency\": 1, \"value\": \"112052\"}, \"19928\": {\"frequency\": 2, \"value\": \"19928\"}, \"112059\": {\"frequency\": 1, \"value\": \"112059\"}, \"112058\": {\"frequency\": 1, \"value\": \"112058\"}, \"WE/P 5735\": {\"frequency\": 2, \"value\": \"WE/P 5735\"}, \"368323\": {\"frequency\": 1, \"value\": \"368323\"}, \"336439\": {\"frequency\": 1, \"value\": \"336439\"}, \"350046\": {\"frequency\": 1, \"value\": \"350046\"}, \"350047\": {\"frequency\": 1, \"value\": \"350047\"}, \"350042\": {\"frequency\": 1, \"value\": \"350042\"}, \"350043\": {\"frequency\": 1, \"value\": \"350043\"}, \"350048\": {\"frequency\": 1, \"value\": \"350048\"}, \"29104\": {\"frequency\": 1, \"value\": \"29104\"}, \"28403\": {\"frequency\": 2, \"value\": \"28403\"}, \"PP 9549\": {\"frequency\": 2, \"value\": \"PP 9549\"}, \"220367\": {\"frequency\": 1, \"value\": \"220367\"}, \"17474\": {\"frequency\": 2, \"value\": \"17474\"}, \"C.A. 33595\": {\"frequency\": 1, \"value\": \"C.A. 33595\"}, \"8475\": {\"frequency\": 1, \"value\": \"8475\"}, \"19950\": {\"frequency\": 4, \"value\": \"19950\"}, \"C.A. 31921\": {\"frequency\": 3, \"value\": \"C.A. 31921\"}, \"19952\": {\"frequency\": 1, \"value\": \"19952\"}, \"384461\": {\"frequency\": 1, \"value\": \"384461\"}, \"4579\": {\"frequency\": 1, \"value\": \"4579\"}, \"PC 17585\": {\"frequency\": 1, \"value\": \"PC 17585\"}, \"PC 17582\": {\"frequency\": 3, \"value\": \"PC 17582\"}, \"693\": {\"frequency\": 1, \"value\": \"693\"}, \"220845\": {\"frequency\": 2, \"value\": \"220845\"}, \"SCO/W 1585\": {\"frequency\": 1, \"value\": \"SCO/W 1585\"}, \"13568\": {\"frequency\": 1, \"value\": \"13568\"}, \"695\": {\"frequency\": 1, \"value\": \"695\"}, \"28425\": {\"frequency\": 1, \"value\": \"28425\"}, \"28424\": {\"frequency\": 1, \"value\": \"28424\"}, \"26707\": {\"frequency\": 1, \"value\": \"26707\"}, \"11668\": {\"frequency\": 2, \"value\": \"11668\"}, \"A./5. 3235\": {\"frequency\": 1, \"value\": \"A./5. 3235\"}, \"345364\": {\"frequency\": 1, \"value\": \"345364\"}, \"STON/O2. 3101283\": {\"frequency\": 1, \"value\": \"STON/O2. 3101283\"}, \"STON/O2. 3101282\": {\"frequency\": 1, \"value\": \"STON/O2. 3101282\"}, \"315093\": {\"frequency\": 1, \"value\": \"315093\"}, \"315090\": {\"frequency\": 1, \"value\": \"315090\"}, \"315096\": {\"frequency\": 1, \"value\": \"315096\"}, \"315097\": {\"frequency\": 1, \"value\": \"315097\"}, \"349208\": {\"frequency\": 1, \"value\": \"349208\"}, \"349209\": {\"frequency\": 1, \"value\": \"349209\"}, \"349206\": {\"frequency\": 1, \"value\": \"349206\"}, \"349207\": {\"frequency\": 1, \"value\": \"349207\"}, \"36864\": {\"frequency\": 1, \"value\": \"36864\"}, \"349205\": {\"frequency\": 1, \"value\": \"349205\"}, \"2700\": {\"frequency\": 1, \"value\": \"2700\"}, \"349201\": {\"frequency\": 1, \"value\": \"349201\"}, \"PC 17759\": {\"frequency\": 1, \"value\": \"PC 17759\"}, \"PC 17758\": {\"frequency\": 2, \"value\": \"PC 17758\"}, \"PC 17757\": {\"frequency\": 4, \"value\": \"PC 17757\"}, \"PC 17756\": {\"frequency\": 1, \"value\": \"PC 17756\"}, \"PC 17755\": {\"frequency\": 3, \"value\": \"PC 17755\"}, \"PC 17754\": {\"frequency\": 1, \"value\": \"PC 17754\"}, \"27042\": {\"frequency\": 1, \"value\": \"27042\"}, \"S.P. 3464\": {\"frequency\": 1, \"value\": \"S.P. 3464\"}, \"6563\": {\"frequency\": 1, \"value\": \"6563\"}, \"28228\": {\"frequency\": 1, \"value\": \"28228\"}, \"113509\": {\"frequency\": 1, \"value\": \"113509\"}, \"Fa 265302\": {\"frequency\": 1, \"value\": \"Fa 265302\"}, \"113059\": {\"frequency\": 1, \"value\": \"113059\"}, \"113056\": {\"frequency\": 1, \"value\": \"113056\"}, \"113505\": {\"frequency\": 2, \"value\": \"113505\"}, \"28220\": {\"frequency\": 1, \"value\": \"28220\"}, \"113501\": {\"frequency\": 1, \"value\": \"113501\"}, \"113050\": {\"frequency\": 1, \"value\": \"113050\"}, \"113503\": {\"frequency\": 1, \"value\": \"113503\"}, \"17465\": {\"frequency\": 1, \"value\": \"17465\"}, \"CA. 2314\": {\"frequency\": 1, \"value\": \"CA. 2314\"}, \"2666\": {\"frequency\": 4, \"value\": \"2666\"}, \"244310\": {\"frequency\": 1, \"value\": \"244310\"}, \"370376\": {\"frequency\": 1, \"value\": \"370376\"}, \"370377\": {\"frequency\": 1, \"value\": \"370377\"}, \"370375\": {\"frequency\": 1, \"value\": \"370375\"}, \"370372\": {\"frequency\": 1, \"value\": \"370372\"}, \"370373\": {\"frequency\": 1, \"value\": \"370373\"}, \"370370\": {\"frequency\": 1, \"value\": \"370370\"}, \"370371\": {\"frequency\": 1, \"value\": \"370371\"}, \"3101298\": {\"frequency\": 1, \"value\": \"3101298\"}, \"3474\": {\"frequency\": 1, \"value\": \"3474\"}, \"112277\": {\"frequency\": 1, \"value\": \"112277\"}, \"C.A. 18723\": {\"frequency\": 1, \"value\": \"C.A. 18723\"}, \"110152\": {\"frequency\": 3, \"value\": \"110152\"}, \"2667\": {\"frequency\": 1, \"value\": \"2667\"}, \"237798\": {\"frequency\": 1, \"value\": \"237798\"}, \"2665\": {\"frequency\": 2, \"value\": \"2665\"}, \"2662\": {\"frequency\": 1, \"value\": \"2662\"}, \"2663\": {\"frequency\": 1, \"value\": \"2663\"}, \"35851\": {\"frequency\": 1, \"value\": \"35851\"}, \"7534\": {\"frequency\": 2, \"value\": \"7534\"}, \"35281\": {\"frequency\": 2, \"value\": \"35281\"}, \"2668\": {\"frequency\": 2, \"value\": \"2668\"}, \"2669\": {\"frequency\": 1, \"value\": \"2669\"}, \"PC 17476\": {\"frequency\": 1, \"value\": \"PC 17476\"}, \"PC 17477\": {\"frequency\": 2, \"value\": \"PC 17477\"}, \"PC 17474\": {\"frequency\": 1, \"value\": \"PC 17474\"}, \"PC 17475\": {\"frequency\": 1, \"value\": \"PC 17475\"}, \"PC 17473\": {\"frequency\": 1, \"value\": \"PC 17473\"}, \"2664\": {\"frequency\": 1, \"value\": \"2664\"}, \"34218\": {\"frequency\": 1, \"value\": \"34218\"}, \"372622\": {\"frequency\": 1, \"value\": \"372622\"}, \"SC/AH 29037\": {\"frequency\": 1, \"value\": \"SC/AH 29037\"}, \"C.A. 2673\": {\"frequency\": 2, \"value\": \"C.A. 2673\"}, \"113572\": {\"frequency\": 2, \"value\": \"113572\"}, \"323951\": {\"frequency\": 1, \"value\": \"323951\"}, \"3101278\": {\"frequency\": 2, \"value\": \"3101278\"}, \"C.A. 24579\": {\"frequency\": 1, \"value\": \"C.A. 24579\"}, \"STON/O 2. 3101269\": {\"frequency\": 1, \"value\": \"STON/O 2. 3101269\"}, \"364516\": {\"frequency\": 2, \"value\": \"364516\"}, \"SC/PARIS 2146\": {\"frequency\": 1, \"value\": \"SC/PARIS 2146\"}, \"2691\": {\"frequency\": 2, \"value\": \"2691\"}, \"364511\": {\"frequency\": 1, \"value\": \"364511\"}, \"SC/PARIS 2167\": {\"frequency\": 1, \"value\": \"SC/PARIS 2167\"}, \"SC/PARIS 2149\": {\"frequency\": 1, \"value\": \"SC/PARIS 2149\"}, \"A/4. 39886\": {\"frequency\": 1, \"value\": \"A/4. 39886\"}, \"29011\": {\"frequency\": 1, \"value\": \"29011\"}, \"CA 2144\": {\"frequency\": 6, \"value\": \"CA 2144\"}, \"248723\": {\"frequency\": 1, \"value\": \"248723\"}, \"349231\": {\"frequency\": 1, \"value\": \"349231\"}, \"248727\": {\"frequency\": 3, \"value\": \"248727\"}, \"PC 17572\": {\"frequency\": 3, \"value\": \"PC 17572\"}, \"31028\": {\"frequency\": 1, \"value\": \"31028\"}, \"31027\": {\"frequency\": 2, \"value\": \"31027\"}, \"243847\": {\"frequency\": 2, \"value\": \"243847\"}, \"230136\": {\"frequency\": 2, \"value\": \"230136\"}, \"382651\": {\"frequency\": 1, \"value\": \"382651\"}, \"382652\": {\"frequency\": 5, \"value\": \"382652\"}, \"364499\": {\"frequency\": 1, \"value\": \"364499\"}, \"2661\": {\"frequency\": 2, \"value\": \"2661\"}, \"362316\": {\"frequency\": 1, \"value\": \"362316\"}, \"233866\": {\"frequency\": 1, \"value\": \"233866\"}, \"330931\": {\"frequency\": 1, \"value\": \"330931\"}, \"330932\": {\"frequency\": 1, \"value\": \"330932\"}, \"330935\": {\"frequency\": 1, \"value\": \"330935\"}, \"347073\": {\"frequency\": 1, \"value\": \"347073\"}, \"250651\": {\"frequency\": 1, \"value\": \"250651\"}, \"347071\": {\"frequency\": 1, \"value\": \"347071\"}, \"250653\": {\"frequency\": 1, \"value\": \"250653\"}, \"347077\": {\"frequency\": 4, \"value\": \"347077\"}, \"250655\": {\"frequency\": 2, \"value\": \"250655\"}, \"347074\": {\"frequency\": 1, \"value\": \"347074\"}, \"347078\": {\"frequency\": 1, \"value\": \"347078\"}, \"345778\": {\"frequency\": 1, \"value\": \"345778\"}, \"345779\": {\"frequency\": 1, \"value\": \"345779\"}, \"111320\": {\"frequency\": 1, \"value\": \"111320\"}, \"345773\": {\"frequency\": 3, \"value\": \"345773\"}, \"345770\": {\"frequency\": 1, \"value\": \"345770\"}, \"28134\": {\"frequency\": 1, \"value\": \"28134\"}, \"2631\": {\"frequency\": 1, \"value\": \"2631\"}, \"345777\": {\"frequency\": 1, \"value\": \"345777\"}, \"345774\": {\"frequency\": 1, \"value\": \"345774\"}, \"349204\": {\"frequency\": 1, \"value\": \"349204\"}, \"113800\": {\"frequency\": 1, \"value\": \"113800\"}, \"113803\": {\"frequency\": 2, \"value\": \"113803\"}, \"13049\": {\"frequency\": 1, \"value\": \"13049\"}, \"SW/PP 751\": {\"frequency\": 1, \"value\": \"SW/PP 751\"}, \"A/5. 2151\": {\"frequency\": 1, \"value\": \"A/5. 2151\"}, \"345783\": {\"frequency\": 1, \"value\": \"345783\"}, \"342826\": {\"frequency\": 1, \"value\": \"342826\"}, \"345781\": {\"frequency\": 1, \"value\": \"345781\"}, \"345780\": {\"frequency\": 1, \"value\": \"345780\"}, \"350406\": {\"frequency\": 1, \"value\": \"350406\"}, \"350407\": {\"frequency\": 1, \"value\": \"350407\"}, \"350404\": {\"frequency\": 1, \"value\": \"350404\"}, \"12460\": {\"frequency\": 1, \"value\": \"12460\"}, \"5727\": {\"frequency\": 1, \"value\": \"5727\"}, \"349242\": {\"frequency\": 1, \"value\": \"349242\"}, \"349243\": {\"frequency\": 1, \"value\": \"349243\"}, \"349240\": {\"frequency\": 1, \"value\": \"349240\"}, \"349241\": {\"frequency\": 1, \"value\": \"349241\"}, \"3101264\": {\"frequency\": 1, \"value\": \"3101264\"}, \"349247\": {\"frequency\": 1, \"value\": \"349247\"}, \"349244\": {\"frequency\": 1, \"value\": \"349244\"}, \"3101267\": {\"frequency\": 1, \"value\": \"3101267\"}, \"349248\": {\"frequency\": 1, \"value\": \"349248\"}, \"349249\": {\"frequency\": 1, \"value\": \"349249\"}, \"348124\": {\"frequency\": 1, \"value\": \"348124\"}, \"STON/O2. 3101271\": {\"frequency\": 1, \"value\": \"STON/O2. 3101271\"}, \"364512\": {\"frequency\": 1, \"value\": \"364512\"}, \"SOTON/OQ 392089\": {\"frequency\": 1, \"value\": \"SOTON/OQ 392089\"}, \"374887\": {\"frequency\": 1, \"value\": \"374887\"}, \"343095\": {\"frequency\": 1, \"value\": \"343095\"}, \"SOTON/O.Q. 392078\": {\"frequency\": 1, \"value\": \"SOTON/O.Q. 392078\"}, \"SOTON/OQ 392082\": {\"frequency\": 1, \"value\": \"SOTON/OQ 392082\"}, \"SOTON/OQ 392086\": {\"frequency\": 1, \"value\": \"SOTON/OQ 392086\"}, \"CA. 2343\": {\"frequency\": 7, \"value\": \"CA. 2343\"}, \"364846\": {\"frequency\": 1, \"value\": \"364846\"}, \"364849\": {\"frequency\": 2, \"value\": \"364849\"}, \"364848\": {\"frequency\": 1, \"value\": \"364848\"}, \"PC 17590\": {\"frequency\": 1, \"value\": \"PC 17590\"}, \"1601\": {\"frequency\": 7, \"value\": \"1601\"}, \"111427\": {\"frequency\": 1, \"value\": \"111427\"}, \"11967\": {\"frequency\": 2, \"value\": \"11967\"}, \"A/5 3594\": {\"frequency\": 1, \"value\": \"A/5 3594\"}, \"113807\": {\"frequency\": 1, \"value\": \"113807\"}, \"226875\": {\"frequency\": 1, \"value\": \"226875\"}, \"A/5. 851\": {\"frequency\": 1, \"value\": \"A/5. 851\"}, \"STON/O 2. 3101288\": {\"frequency\": 1, \"value\": \"STON/O 2. 3101288\"}, \"STON/O 2. 3101289\": {\"frequency\": 1, \"value\": \"STON/O 2. 3101289\"}, \"F.C. 12750\": {\"frequency\": 1, \"value\": \"F.C. 12750\"}, \"347076\": {\"frequency\": 1, \"value\": \"347076\"}, \"STON/O 2. 3101280\": {\"frequency\": 1, \"value\": \"STON/O 2. 3101280\"}, \"230080\": {\"frequency\": 3, \"value\": \"230080\"}, \"STON/O 2. 3101285\": {\"frequency\": 1, \"value\": \"STON/O 2. 3101285\"}, \"STON/O 2. 3101286\": {\"frequency\": 1, \"value\": \"STON/O 2. 3101286\"}, \"363294\": {\"frequency\": 1, \"value\": \"363294\"}, \"363291\": {\"frequency\": 3, \"value\": \"363291\"}, \"371362\": {\"frequency\": 1, \"value\": \"371362\"}, \"350050\": {\"frequency\": 1, \"value\": \"350050\"}, \"350052\": {\"frequency\": 1, \"value\": \"350052\"}, \"230434\": {\"frequency\": 1, \"value\": \"230434\"}, \"230433\": {\"frequency\": 2, \"value\": \"230433\"}, \"347088\": {\"frequency\": 6, \"value\": \"347088\"}, \"C.A. 17248\": {\"frequency\": 1, \"value\": \"C.A. 17248\"}, \"PC 17612\": {\"frequency\": 1, \"value\": \"PC 17612\"}, \"PC 17610\": {\"frequency\": 1, \"value\": \"PC 17610\"}, \"PC 17611\": {\"frequency\": 2, \"value\": \"PC 17611\"}, \"350025\": {\"frequency\": 1, \"value\": \"350025\"}, \"315084\": {\"frequency\": 1, \"value\": \"315084\"}, \"19947\": {\"frequency\": 1, \"value\": \"19947\"}, \"PC 17593\": {\"frequency\": 2, \"value\": \"PC 17593\"}, \"PC 17592\": {\"frequency\": 1, \"value\": \"PC 17592\"}, \"PC 17595\": {\"frequency\": 1, \"value\": \"PC 17595\"}, \"19943\": {\"frequency\": 2, \"value\": \"19943\"}, \"PC 17597\": {\"frequency\": 1, \"value\": \"PC 17597\"}, \"PC 17596\": {\"frequency\": 1, \"value\": \"PC 17596\"}, \"PC 17599\": {\"frequency\": 1, \"value\": \"PC 17599\"}, \"239856\": {\"frequency\": 1, \"value\": \"239856\"}, \"239855\": {\"frequency\": 1, \"value\": \"239855\"}, \"239854\": {\"frequency\": 1, \"value\": \"239854\"}, \"239853\": {\"frequency\": 3, \"value\": \"239853\"}, \"110813\": {\"frequency\": 1, \"value\": \"110813\"}, \"250643\": {\"frequency\": 1, \"value\": \"250643\"}, \"W./C. 14258\": {\"frequency\": 1, \"value\": \"W./C. 14258\"}, \"226593\": {\"frequency\": 1, \"value\": \"226593\"}, \"11771\": {\"frequency\": 1, \"value\": \"11771\"}, \"218629\": {\"frequency\": 1, \"value\": \"218629\"}, \"11774\": {\"frequency\": 1, \"value\": \"11774\"}, \"364850\": {\"frequency\": 1, \"value\": \"364850\"}, \"345769\": {\"frequency\": 1, \"value\": \"345769\"}, \"315082\": {\"frequency\": 1, \"value\": \"315082\"}, \"349219\": {\"frequency\": 1, \"value\": \"349219\"}, \"111240\": {\"frequency\": 1, \"value\": \"111240\"}, \"315086\": {\"frequency\": 1, \"value\": \"315086\"}, \"349215\": {\"frequency\": 1, \"value\": \"349215\"}, \"349214\": {\"frequency\": 1, \"value\": \"349214\"}, \"349217\": {\"frequency\": 1, \"value\": \"349217\"}, \"349216\": {\"frequency\": 1, \"value\": \"349216\"}, \"349210\": {\"frequency\": 1, \"value\": \"349210\"}, \"349213\": {\"frequency\": 1, \"value\": \"349213\"}, \"349212\": {\"frequency\": 1, \"value\": \"349212\"}, \"365226\": {\"frequency\": 1, \"value\": \"365226\"}, \"PC 17760\": {\"frequency\": 3, \"value\": \"PC 17760\"}, \"PC 17761\": {\"frequency\": 2, \"value\": \"PC 17761\"}, \"231919\": {\"frequency\": 2, \"value\": \"231919\"}, \"363592\": {\"frequency\": 1, \"value\": \"363592\"}, \"334912\": {\"frequency\": 1, \"value\": \"334912\"}, \"113510\": {\"frequency\": 1, \"value\": \"113510\"}, \"236171\": {\"frequency\": 1, \"value\": \"236171\"}, \"113043\": {\"frequency\": 1, \"value\": \"113043\"}, \"113514\": {\"frequency\": 1, \"value\": \"113514\"}, \"A/5 3540\": {\"frequency\": 1, \"value\": \"A/5 3540\"}, \"315088\": {\"frequency\": 1, \"value\": \"315088\"}, \"345765\": {\"frequency\": 1, \"value\": \"345765\"}, \"W.E.P. 5734\": {\"frequency\": 1, \"value\": \"W.E.P. 5734\"}, \"110564\": {\"frequency\": 1, \"value\": \"110564\"}, \"S.O./P.P. 3\": {\"frequency\": 2, \"value\": \"S.O./P.P. 3\"}, \"370365\": {\"frequency\": 2, \"value\": \"370365\"}, \"315037\": {\"frequency\": 1, \"value\": \"315037\"}, \"373450\": {\"frequency\": 1, \"value\": \"373450\"}, \"370369\": {\"frequency\": 1, \"value\": \"370369\"}, \"347089\": {\"frequency\": 1, \"value\": \"347089\"}, \"349910\": {\"frequency\": 1, \"value\": \"349910\"}, \"3101281\": {\"frequency\": 1, \"value\": \"3101281\"}, \"335677\": {\"frequency\": 1, \"value\": \"335677\"}, \"376564\": {\"frequency\": 2, \"value\": \"376564\"}, \"SOTON/OQ 392076\": {\"frequency\": 1, \"value\": \"SOTON/OQ 392076\"}, \"376566\": {\"frequency\": 1, \"value\": \"376566\"}, \"237789\": {\"frequency\": 1, \"value\": \"237789\"}, \"2672\": {\"frequency\": 1, \"value\": \"2672\"}, \"2674\": {\"frequency\": 1, \"value\": \"2674\"}, \"2677\": {\"frequency\": 1, \"value\": \"2677\"}, \"7540\": {\"frequency\": 1, \"value\": \"7540\"}, \"2678\": {\"frequency\": 2, \"value\": \"2678\"}, \"113767\": {\"frequency\": 1, \"value\": \"113767\"}, \"113760\": {\"frequency\": 4, \"value\": \"113760\"}, \"7545\": {\"frequency\": 1, \"value\": \"7545\"}, \"7546\": {\"frequency\": 1, \"value\": \"7546\"}, \"370129\": {\"frequency\": 2, \"value\": \"370129\"}, \"244270\": {\"frequency\": 1, \"value\": \"244270\"}, \"S.C./PARIS 2079\": {\"frequency\": 2, \"value\": \"S.C./PARIS 2079\"}, \"244278\": {\"frequency\": 1, \"value\": \"244278\"}, \"312992\": {\"frequency\": 1, \"value\": \"312992\"}, \"113787\": {\"frequency\": 1, \"value\": \"113787\"}, \"113784\": {\"frequency\": 1, \"value\": \"113784\"}, \"27849\": {\"frequency\": 1, \"value\": \"27849\"}, \"113783\": {\"frequency\": 1, \"value\": \"113783\"}, \"113781\": {\"frequency\": 4, \"value\": \"113781\"}, \"324669\": {\"frequency\": 1, \"value\": \"324669\"}, \"244373\": {\"frequency\": 1, \"value\": \"244373\"}, \"113788\": {\"frequency\": 1, \"value\": \"113788\"}, \"113789\": {\"frequency\": 2, \"value\": \"113789\"}, \"239865\": {\"frequency\": 2, \"value\": \"239865\"}, \"347468\": {\"frequency\": 1, \"value\": \"347468\"}, \"315089\": {\"frequency\": 1, \"value\": \"315089\"}, \"SC/PARIS 2133\": {\"frequency\": 1, \"value\": \"SC/PARIS 2133\"}, \"11813\": {\"frequency\": 1, \"value\": \"11813\"}, \"347464\": {\"frequency\": 1, \"value\": \"347464\"}, \"347466\": {\"frequency\": 1, \"value\": \"347466\"}, \"2689\": {\"frequency\": 1, \"value\": \"2689\"}, \"233639\": {\"frequency\": 1, \"value\": \"233639\"}, \"111361\": {\"frequency\": 2, \"value\": \"111361\"}, \"12233\": {\"frequency\": 1, \"value\": \"12233\"}, \"28664\": {\"frequency\": 1, \"value\": \"28664\"}, \"SOTON/O.Q. 3101305\": {\"frequency\": 1, \"value\": \"SOTON/O.Q. 3101305\"}, \"SOTON/O.Q. 3101306\": {\"frequency\": 1, \"value\": \"SOTON/O.Q. 3101306\"}, \"SOTON/O.Q. 3101307\": {\"frequency\": 1, \"value\": \"SOTON/O.Q. 3101307\"}, \"113773\": {\"frequency\": 1, \"value\": \"113773\"}, \"7552\": {\"frequency\": 1, \"value\": \"7552\"}, \"358585\": {\"frequency\": 2, \"value\": \"358585\"}, \"14311\": {\"frequency\": 1, \"value\": \"14311\"}, \"14312\": {\"frequency\": 1, \"value\": \"14312\"}, \"14313\": {\"frequency\": 1, \"value\": \"14313\"}, \"12749\": {\"frequency\": 2, \"value\": \"12749\"}, \"36568\": {\"frequency\": 1, \"value\": \"36568\"}, \"237442\": {\"frequency\": 1, \"value\": \"237442\"}, \"19996\": {\"frequency\": 2, \"value\": \"19996\"}, \"W/C 14208\": {\"frequency\": 1, \"value\": \"W/C 14208\"}, \"17453\": {\"frequency\": 2, \"value\": \"17453\"}, \"A/5 2466\": {\"frequency\": 1, \"value\": \"A/5 2466\"}, \"382649\": {\"frequency\": 1, \"value\": \"382649\"}, \"C.A. 5547\": {\"frequency\": 1, \"value\": \"C.A. 5547\"}, \"16988\": {\"frequency\": 1, \"value\": \"16988\"}, \"330923\": {\"frequency\": 1, \"value\": \"330923\"}, \"PC 17318\": {\"frequency\": 1, \"value\": \"PC 17318\"}, \"W./C. 14263\": {\"frequency\": 1, \"value\": \"W./C. 14263\"}, \"SC/AH Basle 541\": {\"frequency\": 1, \"value\": \"SC/AH Basle 541\"}, \"250649\": {\"frequency\": 2, \"value\": \"250649\"}, \"250648\": {\"frequency\": 1, \"value\": \"250648\"}, \"250647\": {\"frequency\": 2, \"value\": \"250647\"}, \"250646\": {\"frequency\": 1, \"value\": \"250646\"}, \"250644\": {\"frequency\": 2, \"value\": \"250644\"}, \"347082\": {\"frequency\": 7, \"value\": \"347082\"}, \"347083\": {\"frequency\": 1, \"value\": \"347083\"}, \"347080\": {\"frequency\": 2, \"value\": \"347080\"}, \"347081\": {\"frequency\": 1, \"value\": \"347081\"}, \"A/5. 10482\": {\"frequency\": 1, \"value\": \"A/5. 10482\"}, \"2649\": {\"frequency\": 1, \"value\": \"2649\"}, \"234360\": {\"frequency\": 1, \"value\": \"234360\"}, \"36963\": {\"frequency\": 1, \"value\": \"36963\"}, \"2641\": {\"frequency\": 1, \"value\": \"2641\"}, \"345763\": {\"frequency\": 1, \"value\": \"345763\"}, \"349256\": {\"frequency\": 1, \"value\": \"349256\"}, \"36967\": {\"frequency\": 1, \"value\": \"36967\"}, \"345764\": {\"frequency\": 2, \"value\": \"345764\"}, \"345767\": {\"frequency\": 1, \"value\": \"345767\"}, \"2647\": {\"frequency\": 1, \"value\": \"2647\"}, \"237668\": {\"frequency\": 1, \"value\": \"237668\"}, \"113794\": {\"frequency\": 1, \"value\": \"113794\"}, \"35852\": {\"frequency\": 1, \"value\": \"35852\"}, \"350417\": {\"frequency\": 1, \"value\": \"350417\"}, \"350026\": {\"frequency\": 1, \"value\": \"350026\"}, \"349251\": {\"frequency\": 1, \"value\": \"349251\"}, \"2003\": {\"frequency\": 1, \"value\": \"2003\"}, \"349253\": {\"frequency\": 1, \"value\": \"349253\"}, \"349252\": {\"frequency\": 1, \"value\": \"349252\"}, \"S.C./A.4. 23567\": {\"frequency\": 1, \"value\": \"S.C./A.4. 23567\"}, \"349254\": {\"frequency\": 1, \"value\": \"349254\"}, \"349257\": {\"frequency\": 1, \"value\": \"349257\"}, \"371060\": {\"frequency\": 1, \"value\": \"371060\"}, \"28206\": {\"frequency\": 1, \"value\": \"28206\"}}, \"size\": 891}, \"Cabin\": {\"complete\": true, \"numeric\": false, \"num_unique\": 148, \"num_undefined\": 0, \"progress\": 1.0, \"frequent_items\": {\"\": {\"frequency\": 687, \"value\": \"\"}, \"E36\": {\"frequency\": 1, \"value\": \"E36\"}, \"D17\": {\"frequency\": 2, \"value\": \"D17\"}, \"D50\": {\"frequency\": 1, \"value\": \"D50\"}, \"E77\": {\"frequency\": 1, \"value\": \"E77\"}, \"C30\": {\"frequency\": 1, \"value\": \"C30\"}, \"D56\": {\"frequency\": 1, \"value\": \"D56\"}, \"C32\": {\"frequency\": 1, \"value\": \"C32\"}, \"G6\": {\"frequency\": 4, \"value\": \"G6\"}, \"B50\": {\"frequency\": 1, \"value\": \"B50\"}, \"C62 C64\": {\"frequency\": 1, \"value\": \"C62 C64\"}, \"D\": {\"frequency\": 3, \"value\": \"D\"}, \"B102\": {\"frequency\": 1, \"value\": \"B102\"}, \"B101\": {\"frequency\": 1, \"value\": \"B101\"}, \"E68\": {\"frequency\": 1, \"value\": \"E68\"}, \"F33\": {\"frequency\": 3, \"value\": \"F33\"}, \"T\": {\"frequency\": 1, \"value\": \"T\"}, \"F38\": {\"frequency\": 1, \"value\": \"F38\"}, \"A24\": {\"frequency\": 1, \"value\": \"A24\"}, \"E63\": {\"frequency\": 1, \"value\": \"E63\"}, \"E67\": {\"frequency\": 2, \"value\": \"E67\"}, \"B28\": {\"frequency\": 2, \"value\": \"B28\"}, \"B22\": {\"frequency\": 2, \"value\": \"B22\"}, \"B20\": {\"frequency\": 2, \"value\": \"B20\"}, \"B4\": {\"frequency\": 1, \"value\": \"B4\"}, \"B5\": {\"frequency\": 2, \"value\": \"B5\"}, \"B58 B60\": {\"frequency\": 2, \"value\": \"B58 B60\"}, \"B3\": {\"frequency\": 1, \"value\": \"B3\"}, \"F G73\": {\"frequency\": 2, \"value\": \"F G73\"}, \"C54\": {\"frequency\": 1, \"value\": \"C54\"}, \"C52\": {\"frequency\": 2, \"value\": \"C52\"}, \"C50\": {\"frequency\": 1, \"value\": \"C50\"}, \"C46\": {\"frequency\": 1, \"value\": \"C46\"}, \"F E69\": {\"frequency\": 1, \"value\": \"F E69\"}, \"E58\": {\"frequency\": 1, \"value\": \"E58\"}, \"E50\": {\"frequency\": 1, \"value\": \"E50\"}, \"A14\": {\"frequency\": 1, \"value\": \"A14\"}, \"B38\": {\"frequency\": 1, \"value\": \"B38\"}, \"B39\": {\"frequency\": 1, \"value\": \"B39\"}, \"B35\": {\"frequency\": 2, \"value\": \"B35\"}, \"B37\": {\"frequency\": 1, \"value\": \"B37\"}, \"B30\": {\"frequency\": 1, \"value\": \"B30\"}, \"E121\": {\"frequency\": 2, \"value\": \"E121\"}, \"E25\": {\"frequency\": 2, \"value\": \"E25\"}, \"E8\": {\"frequency\": 2, \"value\": \"E8\"}, \"F G63\": {\"frequency\": 1, \"value\": \"F G63\"}, \"C45\": {\"frequency\": 1, \"value\": \"C45\"}, \"E40\": {\"frequency\": 1, \"value\": \"E40\"}, \"C47\": {\"frequency\": 1, \"value\": \"C47\"}, \"E46\": {\"frequency\": 1, \"value\": \"E46\"}, \"E44\": {\"frequency\": 2, \"value\": \"E44\"}, \"B80\": {\"frequency\": 1, \"value\": \"B80\"}, \"E49\": {\"frequency\": 1, \"value\": \"E49\"}, \"C49\": {\"frequency\": 1, \"value\": \"C49\"}, \"B86\": {\"frequency\": 1, \"value\": \"B86\"}, \"B82 B84\": {\"frequency\": 1, \"value\": \"B82 B84\"}, \"C23 C25 C27\": {\"frequency\": 4, \"value\": \"C23 C25 C27\"}, \"D48\": {\"frequency\": 1, \"value\": \"D48\"}, \"C104\": {\"frequency\": 1, \"value\": \"C104\"}, \"C106\": {\"frequency\": 1, \"value\": \"C106\"}, \"C78\": {\"frequency\": 2, \"value\": \"C78\"}, \"C101\": {\"frequency\": 1, \"value\": \"C101\"}, \"C103\": {\"frequency\": 1, \"value\": \"C103\"}, \"D15\": {\"frequency\": 1, \"value\": \"D15\"}, \"E34\": {\"frequency\": 1, \"value\": \"E34\"}, \"E33\": {\"frequency\": 2, \"value\": \"E33\"}, \"D11\": {\"frequency\": 1, \"value\": \"D11\"}, \"E31\": {\"frequency\": 1, \"value\": \"E31\"}, \"C70\": {\"frequency\": 1, \"value\": \"C70\"}, \"B94\": {\"frequency\": 1, \"value\": \"B94\"}, \"D19\": {\"frequency\": 1, \"value\": \"D19\"}, \"E38\": {\"frequency\": 1, \"value\": \"E38\"}, \"B18\": {\"frequency\": 2, \"value\": \"B18\"}, \"B19\": {\"frequency\": 1, \"value\": \"B19\"}, \"D37\": {\"frequency\": 1, \"value\": \"D37\"}, \"A32\": {\"frequency\": 1, \"value\": \"A32\"}, \"A31\": {\"frequency\": 1, \"value\": \"A31\"}, \"A36\": {\"frequency\": 1, \"value\": \"A36\"}, \"A34\": {\"frequency\": 1, \"value\": \"A34\"}, \"E101\": {\"frequency\": 3, \"value\": \"E101\"}, \"C118\": {\"frequency\": 1, \"value\": \"C118\"}, \"C2\": {\"frequency\": 2, \"value\": \"C2\"}, \"C7\": {\"frequency\": 1, \"value\": \"C7\"}, \"C111\": {\"frequency\": 1, \"value\": \"C111\"}, \"C110\": {\"frequency\": 1, \"value\": \"C110\"}, \"E24\": {\"frequency\": 2, \"value\": \"E24\"}, \"B51 B53 B55\": {\"frequency\": 2, \"value\": \"B51 B53 B55\"}, \"E12\": {\"frequency\": 1, \"value\": \"E12\"}, \"B57 B59 B63 B66\": {\"frequency\": 2, \"value\": \"B57 B59 B63 B66\"}, \"C68\": {\"frequency\": 2, \"value\": \"C68\"}, \"D21\": {\"frequency\": 1, \"value\": \"D21\"}, \"D20\": {\"frequency\": 2, \"value\": \"D20\"}, \"C65\": {\"frequency\": 2, \"value\": \"C65\"}, \"D26\": {\"frequency\": 2, \"value\": \"D26\"}, \"E17\": {\"frequency\": 1, \"value\": \"E17\"}, \"A20\": {\"frequency\": 1, \"value\": \"A20\"}, \"F2\": {\"frequency\": 3, \"value\": \"F2\"}, \"A23\": {\"frequency\": 1, \"value\": \"A23\"}, \"F4\": {\"frequency\": 2, \"value\": \"F4\"}, \"A26\": {\"frequency\": 1, \"value\": \"A26\"}, \"B69\": {\"frequency\": 1, \"value\": \"B69\"}, \"B42\": {\"frequency\": 1, \"value\": \"B42\"}, \"C128\": {\"frequency\": 1, \"value\": \"C128\"}, \"C123\": {\"frequency\": 2, \"value\": \"C123\"}, \"C126\": {\"frequency\": 2, \"value\": \"C126\"}, \"C124\": {\"frequency\": 2, \"value\": \"C124\"}, \"C125\": {\"frequency\": 2, \"value\": \"C125\"}, \"D28\": {\"frequency\": 1, \"value\": \"D28\"}, \"D36\": {\"frequency\": 2, \"value\": \"D36\"}, \"E10\": {\"frequency\": 1, \"value\": \"E10\"}, \"D35\": {\"frequency\": 2, \"value\": \"D35\"}, \"D33\": {\"frequency\": 2, \"value\": \"D33\"}, \"D30\": {\"frequency\": 1, \"value\": \"D30\"}, \"B96 B98\": {\"frequency\": 4, \"value\": \"B96 B98\"}, \"D10 D12\": {\"frequency\": 1, \"value\": \"D10 D12\"}, \"C93\": {\"frequency\": 2, \"value\": \"C93\"}, \"C92\": {\"frequency\": 2, \"value\": \"C92\"}, \"C91\": {\"frequency\": 1, \"value\": \"C91\"}, \"A16\": {\"frequency\": 1, \"value\": \"A16\"}, \"A10\": {\"frequency\": 1, \"value\": \"A10\"}, \"C95\": {\"frequency\": 1, \"value\": \"C95\"}, \"B77\": {\"frequency\": 2, \"value\": \"B77\"}, \"B78\": {\"frequency\": 1, \"value\": \"B78\"}, \"B79\": {\"frequency\": 1, \"value\": \"B79\"}, \"C99\": {\"frequency\": 1, \"value\": \"C99\"}, \"A19\": {\"frequency\": 1, \"value\": \"A19\"}, \"C90\": {\"frequency\": 1, \"value\": \"C90\"}, \"A5\": {\"frequency\": 1, \"value\": \"A5\"}, \"A7\": {\"frequency\": 1, \"value\": \"A7\"}, \"A6\": {\"frequency\": 1, \"value\": \"A6\"}, \"C22 C26\": {\"frequency\": 3, \"value\": \"C22 C26\"}, \"B71\": {\"frequency\": 1, \"value\": \"B71\"}, \"D49\": {\"frequency\": 1, \"value\": \"D49\"}, \"B73\": {\"frequency\": 1, \"value\": \"B73\"}, \"D47\": {\"frequency\": 1, \"value\": \"D47\"}, \"D46\": {\"frequency\": 1, \"value\": \"D46\"}, \"D45\": {\"frequency\": 1, \"value\": \"D45\"}, \"C82\": {\"frequency\": 1, \"value\": \"C82\"}, \"C83\": {\"frequency\": 2, \"value\": \"C83\"}, \"B41\": {\"frequency\": 1, \"value\": \"B41\"}, \"C85\": {\"frequency\": 1, \"value\": \"C85\"}, \"C86\": {\"frequency\": 1, \"value\": \"C86\"}, \"C87\": {\"frequency\": 1, \"value\": \"C87\"}, \"C148\": {\"frequency\": 1, \"value\": \"C148\"}, \"B49\": {\"frequency\": 2, \"value\": \"B49\"}, \"D9\": {\"frequency\": 1, \"value\": \"D9\"}, \"D6\": {\"frequency\": 1, \"value\": \"D6\"}, \"D7\": {\"frequency\": 1, \"value\": \"D7\"}}, \"size\": 891}}, \"selected_variable\": {\"name\": [\"data_raw\"], \"descriptives\": {\"rows\": 891, \"columns\": 12}, \"view_component\": \"Summary\", \"view_file\": \"sframe\", \"view_params\": {\"y\": null, \"x\": null, \"columns\": [\"PassengerId\", \"Survived\", \"Pclass\", \"Name\", \"Sex\", \"Age\", \"SibSp\", \"Parch\", \"Ticket\", \"Fare\", \"Cabin\", \"Embarked\"], \"view\": null}, \"view_components\": [\"Summary\", \"Table\", \"Bar Chart\", \"BoxWhisker Plot\", \"Line Chart\", \"Scatter Plot\", \"Heat Map\", \"Plots\"], \"type\": \"SFrame\", \"columns\": [{\"dtype\": \"int\", \"name\": \"PassengerId\"}, {\"dtype\": \"int\", \"name\": \"Survived\"}, {\"dtype\": \"int\", \"name\": \"Pclass\"}, {\"dtype\": \"str\", \"name\": \"Name\"}, {\"dtype\": \"str\", \"name\": \"Sex\"}, {\"dtype\": \"float\", \"name\": \"Age\"}, {\"dtype\": \"int\", \"name\": \"SibSp\"}, {\"dtype\": \"int\", \"name\": \"Parch\"}, {\"dtype\": \"str\", \"name\": \"Ticket\"}, {\"dtype\": \"float\", \"name\": \"Fare\"}, {\"dtype\": \"str\", \"name\": \"Cabin\"}, {\"dtype\": \"str\", \"name\": \"Embarked\"}], \"column_identifiers\": [\"Fare\", \"Name\", \"Embarked\", \"Age\", \"Parch\", \"Pclass\", \"Sex\", \"Survived\", \"SibSp\", \"PassengerId\", \"Ticket\", \"Cabin\"]}, \"columns\": [{\"dtype\": \"int\", \"name\": \"PassengerId\"}, {\"dtype\": \"int\", \"name\": \"Survived\"}, {\"dtype\": \"int\", \"name\": \"Pclass\"}, {\"dtype\": \"str\", \"name\": \"Name\"}, {\"dtype\": \"str\", \"name\": \"Sex\"}, {\"dtype\": \"float\", \"name\": \"Age\"}, {\"dtype\": \"int\", \"name\": \"SibSp\"}, {\"dtype\": \"int\", \"name\": \"Parch\"}, {\"dtype\": \"str\", \"name\": \"Ticket\"}, {\"dtype\": \"float\", \"name\": \"Fare\"}, {\"dtype\": \"str\", \"name\": \"Cabin\"}, {\"dtype\": \"str\", \"name\": \"Embarked\"}]}, e);\n",
       "                });\n",
       "            })();\n",
       "        "
      ]
     },
     "metadata": {},
     "output_type": "display_data"
    }
   ],
   "source": [
    "data_raw.show()"
   ]
  },
  {
   "cell_type": "code",
   "execution_count": 14,
   "metadata": {
    "collapsed": false
   },
   "outputs": [
    {
     "data": {
      "application/javascript": [
       "$(\"head\").append($(\"<link/>\").attr({\n",
       "  rel:  \"stylesheet\",\n",
       "  type: \"text/css\",\n",
       "  href: \"//cdnjs.cloudflare.com/ajax/libs/font-awesome/4.1.0/css/font-awesome.min.css\"\n",
       "}));\n",
       "$(\"head\").append($(\"<link/>\").attr({\n",
       "  rel:  \"stylesheet\",\n",
       "  type: \"text/css\",\n",
       "  href: \"https://static.turi.com/products/graphlab-create/2.1/canvas/css/canvas.css\"\n",
       "}));\n",
       "\n",
       "            (function(){\n",
       "\n",
       "                var e = null;\n",
       "                if (typeof element == 'undefined') {\n",
       "                    var scripts = document.getElementsByTagName('script');\n",
       "                    var thisScriptTag = scripts[scripts.length-1];\n",
       "                    var parentDiv = thisScriptTag.parentNode;\n",
       "                    e = document.createElement('div');\n",
       "                    parentDiv.appendChild(e);\n",
       "                } else {\n",
       "                    e = element[0];\n",
       "                }\n",
       "\n",
       "                if (typeof requirejs !== 'undefined') {\n",
       "                    // disable load timeout; ipython_app.js is large and can take a while to load.\n",
       "                    requirejs.config({waitSeconds: 0});\n",
       "                }\n",
       "\n",
       "                require(['https://static.turi.com/products/graphlab-create/2.1/canvas/js/ipython_app.js'], function(IPythonApp){\n",
       "                    var app = new IPythonApp();\n",
       "                    app.attachView('sarray','Categorical', {\"ipython\": true, \"sketch\": {\"std\": 0.8356019334795165, \"complete\": true, \"min\": 1.0, \"max\": 3.0, \"quantile\": [1.0, 1.0, 1.0, 1.0, 1.0, 1.0, 1.0, 1.0, 1.0, 1.0, 1.0, 1.0, 1.0, 1.0, 1.0, 1.0, 1.0, 1.0, 1.0, 1.0, 1.0, 1.0, 1.0, 1.0, 1.0, 2.0, 2.0, 2.0, 2.0, 2.0, 2.0, 2.0, 2.0, 2.0, 2.0, 2.0, 2.0, 2.0, 2.0, 2.0, 2.0, 2.0, 2.0, 2.0, 2.0, 3.0, 3.0, 3.0, 3.0, 3.0, 3.0, 3.0, 3.0, 3.0, 3.0, 3.0, 3.0, 3.0, 3.0, 3.0, 3.0, 3.0, 3.0, 3.0, 3.0, 3.0, 3.0, 3.0, 3.0, 3.0, 3.0, 3.0, 3.0, 3.0, 3.0, 3.0, 3.0, 3.0, 3.0, 3.0, 3.0, 3.0, 3.0, 3.0, 3.0, 3.0, 3.0, 3.0, 3.0, 3.0, 3.0, 3.0, 3.0, 3.0, 3.0, 3.0, 3.0, 3.0, 3.0, 3.0, 3.0], \"median\": 3.0, \"numeric\": true, \"num_unique\": 3, \"num_undefined\": 0, \"var\": 0.6982305912347063, \"progress\": 1.0, \"size\": 891, \"frequent_items\": {\"1\": {\"frequency\": 216, \"value\": 1}, \"2\": {\"frequency\": 184, \"value\": 2}, \"3\": {\"frequency\": 491, \"value\": 3}}, \"mean\": 2.3086419753086425}, \"selected_variable\": {\"name\": [\"<SArray>\"], \"dtype\": \"int\", \"view_component\": \"Categorical\", \"view_file\": \"sarray\", \"descriptives\": {\"rows\": 891}, \"type\": \"SArray\", \"view_components\": [\"Numeric\", \"Categorical\"]}, \"histogram\": {\"progress\": 1.0, \"histogram\": {\"max\": 3.0, \"bins\": [216, 0, 0, 0, 0, 0, 184, 0, 0, 0, 0, 491], \"min\": 1.0}, \"min\": 1, \"complete\": 1, \"max\": 3}}, e);\n",
       "                });\n",
       "            })();\n",
       "        "
      ]
     },
     "metadata": {},
     "output_type": "display_data"
    }
   ],
   "source": [
    "data_raw[\"Pclass\"].show(view = \"Categorical\")"
   ]
  },
  {
   "cell_type": "code",
   "execution_count": 15,
   "metadata": {
    "collapsed": false
   },
   "outputs": [
    {
     "data": {
      "application/javascript": [
       "$(\"head\").append($(\"<link/>\").attr({\n",
       "  rel:  \"stylesheet\",\n",
       "  type: \"text/css\",\n",
       "  href: \"//cdnjs.cloudflare.com/ajax/libs/font-awesome/4.1.0/css/font-awesome.min.css\"\n",
       "}));\n",
       "$(\"head\").append($(\"<link/>\").attr({\n",
       "  rel:  \"stylesheet\",\n",
       "  type: \"text/css\",\n",
       "  href: \"https://static.turi.com/products/graphlab-create/2.1/canvas/css/canvas.css\"\n",
       "}));\n",
       "\n",
       "            (function(){\n",
       "\n",
       "                var e = null;\n",
       "                if (typeof element == 'undefined') {\n",
       "                    var scripts = document.getElementsByTagName('script');\n",
       "                    var thisScriptTag = scripts[scripts.length-1];\n",
       "                    var parentDiv = thisScriptTag.parentNode;\n",
       "                    e = document.createElement('div');\n",
       "                    parentDiv.appendChild(e);\n",
       "                } else {\n",
       "                    e = element[0];\n",
       "                }\n",
       "\n",
       "                if (typeof requirejs !== 'undefined') {\n",
       "                    // disable load timeout; ipython_app.js is large and can take a while to load.\n",
       "                    requirejs.config({waitSeconds: 0});\n",
       "                }\n",
       "\n",
       "                require(['https://static.turi.com/products/graphlab-create/2.1/canvas/js/ipython_app.js'], function(IPythonApp){\n",
       "                    var app = new IPythonApp();\n",
       "                    app.attachView('sarray','Categorical', {\"ipython\": true, \"sketch\": {\"complete\": true, \"numeric\": false, \"num_unique\": 2, \"num_undefined\": 0, \"progress\": 1.0, \"frequent_items\": {\"male\": {\"frequency\": 577, \"value\": \"male\"}, \"female\": {\"frequency\": 314, \"value\": \"female\"}}, \"size\": 891}, \"selected_variable\": {\"name\": [\"<SArray>\"], \"dtype\": \"str\", \"view_component\": \"Categorical\", \"view_file\": \"sarray\", \"descriptives\": {\"rows\": 891}, \"type\": \"SArray\", \"view_components\": [\"Categorical\"]}, \"histogram\": null}, e);\n",
       "                });\n",
       "            })();\n",
       "        "
      ]
     },
     "metadata": {},
     "output_type": "display_data"
    }
   ],
   "source": [
    "data_raw[\"Sex\"].show()"
   ]
  },
  {
   "cell_type": "code",
   "execution_count": 16,
   "metadata": {
    "collapsed": false
   },
   "outputs": [
    {
     "ename": "SyntaxError",
     "evalue": "invalid syntax (<ipython-input-16-2e430d9452a5>, line 1)",
     "output_type": "error",
     "traceback": [
      "\u001b[1;36m  File \u001b[1;32m\"<ipython-input-16-2e430d9452a5>\"\u001b[1;36m, line \u001b[1;32m1\u001b[0m\n\u001b[1;33m    Similar operations are done on the validation set\u001b[0m\n\u001b[1;37m                     ^\u001b[0m\n\u001b[1;31mSyntaxError\u001b[0m\u001b[1;31m:\u001b[0m invalid syntax\n"
     ]
    }
   ],
   "source": [
    "Similar operations are done on the validation set"
   ]
  },
  {
   "cell_type": "code",
   "execution_count": 17,
   "metadata": {
    "collapsed": false
   },
   "outputs": [
    {
     "data": {
      "image/png": "[encoded data removed]",
      "text/plain": [
       "<matplotlib.figure.Figure at 0x1d223d30>"
      ]
     },
     "metadata": {},
     "output_type": "display_data"
    }
   ],
   "source": [
    "plot_categories( df_data , cat = 'Pclass' , target = 'Survived' )"
   ]
  },
  {
   "cell_type": "code",
   "execution_count": 18,
   "metadata": {
    "collapsed": false
   },
   "outputs": [
    {
     "data": {
      "image/png": "[encoded data removed]",
      "text/plain": [
       "<matplotlib.figure.Figure at 0x1d5b10f0>"
      ]
     },
     "metadata": {},
     "output_type": "display_data"
    }
   ],
   "source": [
    "plot_categories(df_data, cat='Sex', target=\"Survived\")"
   ]
  },
  {
   "cell_type": "markdown",
   "metadata": {},
   "source": [
    "# Performing some data manipulation"
   ]
  },
  {
   "cell_type": "code",
   "execution_count": 19,
   "metadata": {
    "collapsed": true
   },
   "outputs": [],
   "source": [
    "#Let's remove unused columns for clarity (not necessary)\n",
    "del df_data[\"Name\"]\n",
    "#del df_data[\"SibSp\"]\n",
    "#del df_data['Parch']\n",
    "del df_data[\"Ticket\"]\n",
    "del df_data[\"Cabin\"]\n",
    "del df_data[\"Embarked\"]\n",
    "del df_data_validation[\"Name\"]\n",
    "#del df_data_validation[\"SibSp\"]\n",
    "#del df_data_validation['Parch']\n",
    "del df_data_validation[\"Ticket\"]\n",
    "del df_data_validation[\"Cabin\"]\n",
    "del df_data_validation[\"Embarked\"]"
   ]
  },
  {
   "cell_type": "markdown",
   "metadata": {},
   "source": [
    "### Let's examine the feature \"Age\" for which we have to fill in the missing values"
   ]
  },
  {
   "cell_type": "markdown",
   "metadata": {},
   "source": [
    "Age is not defined for all data points, we have to find a way to deal with this feature.\n",
    "### Let's try a simple aproach\n",
    "* if fare is 0 and age is not defined then probably we have a baby and age=0\n",
    "* if age is <1 then age = 0 (baby)\n",
    "\n",
    "Do we still have Nan values ?"
   ]
  },
  {
   "cell_type": "code",
   "execution_count": 20,
   "metadata": {
    "collapsed": true
   },
   "outputs": [],
   "source": [
    "df_data[\"Age\"] = df_data[\"Age\"].apply(age_change)\n",
    "df_data_validation[\"Age\"] = df_data_validation[\"Age\"].apply(age_change)"
   ]
  },
  {
   "cell_type": "markdown",
   "metadata": {},
   "source": [
    "Some passenger did not pay for the travel (Fare==0) and age is not defined, they probably are babies so let's change their age to 0."
   ]
  },
  {
   "cell_type": "code",
   "execution_count": 21,
   "metadata": {
    "collapsed": false
   },
   "outputs": [
    {
     "data": {
      "text/html": [
       "<div>\n",
       "<table border=\"1\" class=\"dataframe\">\n",
       "  <thead>\n",
       "    <tr style=\"text-align: right;\">\n",
       "      <th></th>\n",
       "      <th>PassengerId</th>\n",
       "      <th>Pclass</th>\n",
       "      <th>Sex</th>\n",
       "      <th>Age</th>\n",
       "      <th>SibSp</th>\n",
       "      <th>Parch</th>\n",
       "      <th>Fare</th>\n",
       "    </tr>\n",
       "  </thead>\n",
       "  <tbody>\n",
       "    <tr>\n",
       "      <th>266</th>\n",
       "      <td>1158</td>\n",
       "      <td>1</td>\n",
       "      <td>male</td>\n",
       "      <td>NaN</td>\n",
       "      <td>0</td>\n",
       "      <td>0</td>\n",
       "      <td>0.0</td>\n",
       "    </tr>\n",
       "  </tbody>\n",
       "</table>\n",
       "</div>"
      ],
      "text/plain": [
       "     PassengerId  Pclass   Sex  Age  SibSp  Parch  Fare\n",
       "266         1158       1  male  NaN      0      0   0.0"
      ]
     },
     "execution_count": 21,
     "metadata": {},
     "output_type": "execute_result"
    }
   ],
   "source": [
    "df_data_validation[df_data_validation[\"Age\"].isnull() & (df_data_validation[\"Fare\"]==0)]"
   ]
  },
  {
   "cell_type": "code",
   "execution_count": 22,
   "metadata": {
    "collapsed": false
   },
   "outputs": [
    {
     "data": {
      "text/html": [
       "<div>\n",
       "<table border=\"1\" class=\"dataframe\">\n",
       "  <thead>\n",
       "    <tr style=\"text-align: right;\">\n",
       "      <th></th>\n",
       "      <th>PassengerId</th>\n",
       "      <th>Survived</th>\n",
       "      <th>Pclass</th>\n",
       "      <th>Sex</th>\n",
       "      <th>Age</th>\n",
       "      <th>SibSp</th>\n",
       "      <th>Parch</th>\n",
       "      <th>Fare</th>\n",
       "    </tr>\n",
       "  </thead>\n",
       "  <tbody>\n",
       "    <tr>\n",
       "      <th>277</th>\n",
       "      <td>278</td>\n",
       "      <td>0</td>\n",
       "      <td>2</td>\n",
       "      <td>male</td>\n",
       "      <td>NaN</td>\n",
       "      <td>0</td>\n",
       "      <td>0</td>\n",
       "      <td>0.0</td>\n",
       "    </tr>\n",
       "    <tr>\n",
       "      <th>413</th>\n",
       "      <td>414</td>\n",
       "      <td>0</td>\n",
       "      <td>2</td>\n",
       "      <td>male</td>\n",
       "      <td>NaN</td>\n",
       "      <td>0</td>\n",
       "      <td>0</td>\n",
       "      <td>0.0</td>\n",
       "    </tr>\n",
       "    <tr>\n",
       "      <th>466</th>\n",
       "      <td>467</td>\n",
       "      <td>0</td>\n",
       "      <td>2</td>\n",
       "      <td>male</td>\n",
       "      <td>NaN</td>\n",
       "      <td>0</td>\n",
       "      <td>0</td>\n",
       "      <td>0.0</td>\n",
       "    </tr>\n",
       "    <tr>\n",
       "      <th>481</th>\n",
       "      <td>482</td>\n",
       "      <td>0</td>\n",
       "      <td>2</td>\n",
       "      <td>male</td>\n",
       "      <td>NaN</td>\n",
       "      <td>0</td>\n",
       "      <td>0</td>\n",
       "      <td>0.0</td>\n",
       "    </tr>\n",
       "    <tr>\n",
       "      <th>633</th>\n",
       "      <td>634</td>\n",
       "      <td>0</td>\n",
       "      <td>1</td>\n",
       "      <td>male</td>\n",
       "      <td>NaN</td>\n",
       "      <td>0</td>\n",
       "      <td>0</td>\n",
       "      <td>0.0</td>\n",
       "    </tr>\n",
       "    <tr>\n",
       "      <th>674</th>\n",
       "      <td>675</td>\n",
       "      <td>0</td>\n",
       "      <td>2</td>\n",
       "      <td>male</td>\n",
       "      <td>NaN</td>\n",
       "      <td>0</td>\n",
       "      <td>0</td>\n",
       "      <td>0.0</td>\n",
       "    </tr>\n",
       "    <tr>\n",
       "      <th>732</th>\n",
       "      <td>733</td>\n",
       "      <td>0</td>\n",
       "      <td>2</td>\n",
       "      <td>male</td>\n",
       "      <td>NaN</td>\n",
       "      <td>0</td>\n",
       "      <td>0</td>\n",
       "      <td>0.0</td>\n",
       "    </tr>\n",
       "    <tr>\n",
       "      <th>815</th>\n",
       "      <td>816</td>\n",
       "      <td>0</td>\n",
       "      <td>1</td>\n",
       "      <td>male</td>\n",
       "      <td>NaN</td>\n",
       "      <td>0</td>\n",
       "      <td>0</td>\n",
       "      <td>0.0</td>\n",
       "    </tr>\n",
       "  </tbody>\n",
       "</table>\n",
       "</div>"
      ],
      "text/plain": [
       "     PassengerId  Survived  Pclass   Sex  Age  SibSp  Parch  Fare\n",
       "277          278         0       2  male  NaN      0      0   0.0\n",
       "413          414         0       2  male  NaN      0      0   0.0\n",
       "466          467         0       2  male  NaN      0      0   0.0\n",
       "481          482         0       2  male  NaN      0      0   0.0\n",
       "633          634         0       1  male  NaN      0      0   0.0\n",
       "674          675         0       2  male  NaN      0      0   0.0\n",
       "732          733         0       2  male  NaN      0      0   0.0\n",
       "815          816         0       1  male  NaN      0      0   0.0"
      ]
     },
     "execution_count": 22,
     "metadata": {},
     "output_type": "execute_result"
    }
   ],
   "source": [
    "df_data[df_data[\"Age\"].isnull() & (df_data[\"Fare\"]==0)]"
   ]
  },
  {
   "cell_type": "code",
   "execution_count": 23,
   "metadata": {
    "collapsed": true
   },
   "outputs": [],
   "source": [
    "df_data.loc[(df_data.Age.isnull()) & (df_data[\"Fare\"] == 0), \"Age\"] = 0"
   ]
  },
  {
   "cell_type": "code",
   "execution_count": 24,
   "metadata": {
    "collapsed": true
   },
   "outputs": [],
   "source": [
    "df_data_validation.loc[(df_data_validation.Age.isnull()) & (df_data_validation[\"Fare\"] == 0), \"Age\"] = 0"
   ]
  },
  {
   "cell_type": "markdown",
   "metadata": {},
   "source": [
    "Then we will fill the remaining missing values with the mean of the age. BUT, I make the assumption that the mean age will depend on the class (rich people in 1st class will probably be older)"
   ]
  },
  {
   "cell_type": "code",
   "execution_count": 25,
   "metadata": {
    "collapsed": false
   },
   "outputs": [],
   "source": [
    "mean_age_Class1 = round(df_data[\"Age\"][df_data[\"Pclass\"]==1].mean()) #38 \n",
    "mean_age_Class2 = round(df_data[\"Age\"][df_data[\"Pclass\"]==2].mean()) #30\n",
    "mean_age_Class3 = round(df_data[\"Age\"][df_data[\"Pclass\"]==3].mean()) #25"
   ]
  },
  {
   "cell_type": "code",
   "execution_count": 26,
   "metadata": {
    "collapsed": false
   },
   "outputs": [],
   "source": [
    "df_data.loc[(df_data.Age.isnull()) & (df_data[\"Pclass\"] == 1), \"Age\"] = mean_age_Class1\n",
    "df_data.loc[(df_data.Age.isnull()) & (df_data[\"Pclass\"] == 2), \"Age\"] = mean_age_Class2\n",
    "df_data.loc[(df_data.Age.isnull()) & (df_data[\"Pclass\"] == 3), \"Age\"] = mean_age_Class3\n",
    "\n",
    "df_data[\"Is_baby\"] = 0\n",
    "\n",
    "df_data.loc[(df_data.Age < 4), \"Is_baby\"] = 1"
   ]
  },
  {
   "cell_type": "markdown",
   "metadata": {},
   "source": [
    "What are the mean ages for the validation set ?"
   ]
  },
  {
   "cell_type": "code",
   "execution_count": 27,
   "metadata": {
    "collapsed": true
   },
   "outputs": [],
   "source": [
    "mean_age_Class1_valid = round(df_data_validation[\"Age\"][df_data_validation[\"Pclass\"]==1].mean()) #41 \n",
    "mean_age_Class2_valid = round(df_data_validation[\"Age\"][df_data_validation[\"Pclass\"]==2].mean()) #29\n",
    "mean_age_Class3_valid = round(df_data_validation[\"Age\"][df_data_validation[\"Pclass\"]==3].mean()) #24"
   ]
  },
  {
   "cell_type": "code",
   "execution_count": 28,
   "metadata": {
    "collapsed": false
   },
   "outputs": [],
   "source": [
    "df_data_validation.loc[(df_data_validation.Age.isnull()) & (df_data_validation[\"Pclass\"] == 1), \"Age\"] = mean_age_Class1_valid\n",
    "df_data_validation.loc[(df_data_validation.Age.isnull()) & (df_data_validation[\"Pclass\"] == 2), \"Age\"] = mean_age_Class2_valid\n",
    "df_data_validation.loc[(df_data_validation.Age.isnull()) & (df_data_validation[\"Pclass\"] == 3), \"Age\"] = mean_age_Class3_valid\n",
    "\n",
    "df_data_validation[\"Is_baby\"] = 0\n",
    "\n",
    "df_data_validation.loc[(df_data.Age < 4), \"Is_baby\"] = 1"
   ]
  },
  {
   "cell_type": "markdown",
   "metadata": {},
   "source": [
    "Let's create some categorical features"
   ]
  },
  {
   "cell_type": "code",
   "execution_count": 29,
   "metadata": {
    "collapsed": false
   },
   "outputs": [],
   "source": [
    "df_data.loc[(df_data.Pclass == 1), \"Pclass1\"] = 1\n",
    "df_data.loc[(df_data.Pclass == 2), \"Pclass2\"] = 1\n",
    "df_data.loc[(df_data.Pclass == 3), \"Pclass3\"] = 1\n",
    "df_data = df_data.fillna(0)"
   ]
  },
  {
   "cell_type": "markdown",
   "metadata": {},
   "source": [
    "Plot of the correlation matrix"
   ]
  },
  {
   "cell_type": "code",
   "execution_count": 30,
   "metadata": {
    "collapsed": true
   },
   "outputs": [],
   "source": [
    "df_data_viz = pd.DataFrame(df_data)\n",
    "del df_data_viz[\"Sex\"]\n",
    "del df_data_viz[\"Is_baby\"]\n",
    "#del df_data_viz[\"Pclass1\"]\n",
    "#del df_data_viz[\"Pclass2\"]\n",
    "#del df_data_viz[\"Pclass3\"]"
   ]
  },
  {
   "cell_type": "code",
   "execution_count": 31,
   "metadata": {
    "collapsed": false
   },
   "outputs": [
    {
     "data": {
      "text/html": [
       "<div>\n",
       "<table border=\"1\" class=\"dataframe\">\n",
       "  <thead>\n",
       "    <tr style=\"text-align: right;\">\n",
       "      <th></th>\n",
       "      <th>PassengerId</th>\n",
       "      <th>Survived</th>\n",
       "      <th>Pclass</th>\n",
       "      <th>Age</th>\n",
       "      <th>SibSp</th>\n",
       "      <th>Parch</th>\n",
       "      <th>Fare</th>\n",
       "      <th>Pclass1</th>\n",
       "      <th>Pclass2</th>\n",
       "      <th>Pclass3</th>\n",
       "    </tr>\n",
       "  </thead>\n",
       "  <tbody>\n",
       "    <tr>\n",
       "      <th>0</th>\n",
       "      <td>1</td>\n",
       "      <td>0</td>\n",
       "      <td>3</td>\n",
       "      <td>22.0</td>\n",
       "      <td>1</td>\n",
       "      <td>0</td>\n",
       "      <td>7.2500</td>\n",
       "      <td>0.0</td>\n",
       "      <td>0.0</td>\n",
       "      <td>1.0</td>\n",
       "    </tr>\n",
       "    <tr>\n",
       "      <th>1</th>\n",
       "      <td>2</td>\n",
       "      <td>1</td>\n",
       "      <td>1</td>\n",
       "      <td>38.0</td>\n",
       "      <td>1</td>\n",
       "      <td>0</td>\n",
       "      <td>71.2833</td>\n",
       "      <td>1.0</td>\n",
       "      <td>0.0</td>\n",
       "      <td>0.0</td>\n",
       "    </tr>\n",
       "    <tr>\n",
       "      <th>2</th>\n",
       "      <td>3</td>\n",
       "      <td>1</td>\n",
       "      <td>3</td>\n",
       "      <td>26.0</td>\n",
       "      <td>0</td>\n",
       "      <td>0</td>\n",
       "      <td>7.9250</td>\n",
       "      <td>0.0</td>\n",
       "      <td>0.0</td>\n",
       "      <td>1.0</td>\n",
       "    </tr>\n",
       "    <tr>\n",
       "      <th>3</th>\n",
       "      <td>4</td>\n",
       "      <td>1</td>\n",
       "      <td>1</td>\n",
       "      <td>35.0</td>\n",
       "      <td>1</td>\n",
       "      <td>0</td>\n",
       "      <td>53.1000</td>\n",
       "      <td>1.0</td>\n",
       "      <td>0.0</td>\n",
       "      <td>0.0</td>\n",
       "    </tr>\n",
       "    <tr>\n",
       "      <th>4</th>\n",
       "      <td>5</td>\n",
       "      <td>0</td>\n",
       "      <td>3</td>\n",
       "      <td>35.0</td>\n",
       "      <td>0</td>\n",
       "      <td>0</td>\n",
       "      <td>8.0500</td>\n",
       "      <td>0.0</td>\n",
       "      <td>0.0</td>\n",
       "      <td>1.0</td>\n",
       "    </tr>\n",
       "  </tbody>\n",
       "</table>\n",
       "</div>"
      ],
      "text/plain": [
       "   PassengerId  Survived  Pclass   Age  SibSp  Parch     Fare  Pclass1  \\\n",
       "0            1         0       3  22.0      1      0   7.2500      0.0   \n",
       "1            2         1       1  38.0      1      0  71.2833      1.0   \n",
       "2            3         1       3  26.0      0      0   7.9250      0.0   \n",
       "3            4         1       1  35.0      1      0  53.1000      1.0   \n",
       "4            5         0       3  35.0      0      0   8.0500      0.0   \n",
       "\n",
       "   Pclass2  Pclass3  \n",
       "0      0.0      1.0  \n",
       "1      0.0      0.0  \n",
       "2      0.0      1.0  \n",
       "3      0.0      0.0  \n",
       "4      0.0      1.0  "
      ]
     },
     "execution_count": 31,
     "metadata": {},
     "output_type": "execute_result"
    }
   ],
   "source": [
    "df_data_viz.head()"
   ]
  },
  {
   "cell_type": "code",
   "execution_count": 32,
   "metadata": {
    "collapsed": false
   },
   "outputs": [
    {
     "ename": "NameError",
     "evalue": "name 'df' is not defined",
     "output_type": "error",
     "traceback": [
      "\u001b[1;31m---------------------------------------------------------------------------\u001b[0m",
      "\u001b[1;31mNameError\u001b[0m                                 Traceback (most recent call last)",
      "\u001b[1;32m<ipython-input-32-0bd005f8b1d5>\u001b[0m in \u001b[0;36m<module>\u001b[1;34m()\u001b[0m\n\u001b[0;32m      1\u001b[0m \u001b[1;31m#plot_corr(df_data_viz)\u001b[0m\u001b[1;33m\u001b[0m\u001b[1;33m\u001b[0m\u001b[0m\n\u001b[1;32m----> 2\u001b[1;33m \u001b[0mcorr\u001b[0m \u001b[1;33m=\u001b[0m \u001b[0mdf\u001b[0m\u001b[1;33m.\u001b[0m\u001b[0mcorr\u001b[0m\u001b[1;33m(\u001b[0m\u001b[1;33m)\u001b[0m\u001b[1;33m\u001b[0m\u001b[0m\n\u001b[0m\u001b[0;32m      3\u001b[0m \u001b[0mpcolor\u001b[0m\u001b[1;33m(\u001b[0m\u001b[0mcorr\u001b[0m\u001b[1;33m)\u001b[0m\u001b[1;33m\u001b[0m\u001b[0m\n\u001b[0;32m      4\u001b[0m \u001b[0mcolorbar\u001b[0m\u001b[1;33m(\u001b[0m\u001b[1;33m)\u001b[0m\u001b[1;33m\u001b[0m\u001b[0m\n\u001b[0;32m      5\u001b[0m \u001b[0myticks\u001b[0m\u001b[1;33m(\u001b[0m\u001b[0mnp\u001b[0m\u001b[1;33m.\u001b[0m\u001b[0marange\u001b[0m\u001b[1;33m(\u001b[0m\u001b[1;36m0.5\u001b[0m\u001b[1;33m,\u001b[0m\u001b[1;36m6\u001b[0m\u001b[1;33m)\u001b[0m\u001b[1;33m,\u001b[0m\u001b[0mrange\u001b[0m\u001b[1;33m(\u001b[0m\u001b[1;36m0\u001b[0m\u001b[1;33m,\u001b[0m\u001b[1;36m10\u001b[0m\u001b[1;33m)\u001b[0m\u001b[1;33m)\u001b[0m\u001b[1;33m\u001b[0m\u001b[0m\n",
      "\u001b[1;31mNameError\u001b[0m: name 'df' is not defined"
     ]
    }
   ],
   "source": [
    "#plot_corr(df_data_viz)\n",
    "corr = df.corr()\n",
    "pcolor(corr)\n",
    "colorbar()\n",
    "yticks(np.arange(0.5,6),range(0,10))\n",
    "xticks(np.arange(0.5,6),range(0,10))\n",
    "show()"
   ]
  },
  {
   "cell_type": "code",
   "execution_count": 36,
   "metadata": {
    "collapsed": true
   },
   "outputs": [],
   "source": [
    "def plot_correlation_map( df ):\n",
    "    corr = df.corr()\n",
    "    _ , ax = plt.subplots( figsize =( 12 , 10 ) )\n",
    "    cmap = sns.diverging_palette( 220 , 10 , as_cmap = True )\n",
    "    _ = sns.heatmap(\n",
    "        corr, \n",
    "        cmap = cmap,\n",
    "        square=True, \n",
    "        cbar_kws={ 'shrink' : .9 }, \n",
    "        ax=ax, \n",
    "        annot = True, \n",
    "        annot_kws = { 'fontsize' : 12 }\n",
    "    )"
   ]
  },
  {
   "cell_type": "code",
   "execution_count": 37,
   "metadata": {
    "collapsed": false
   },
   "outputs": [
    {
     "data": {
      "image/png": "[encoded data removed]",
      "text/plain": [
       "<matplotlib.figure.Figure at 0x1d25ff28>"
      ]
     },
     "metadata": {},
     "output_type": "display_data"
    }
   ],
   "source": [
    "plot_correlation_map(df_data_viz)"
   ]
  },
  {
   "cell_type": "code",
   "execution_count": 34,
   "metadata": {
    "collapsed": false
   },
   "outputs": [
    {
     "ename": "NameError",
     "evalue": "name 'df' is not defined",
     "output_type": "error",
     "traceback": [
      "\u001b[1;31m---------------------------------------------------------------------------\u001b[0m",
      "\u001b[1;31mNameError\u001b[0m                                 Traceback (most recent call last)",
      "\u001b[1;32m<ipython-input-34-6f0d33549193>\u001b[0m in \u001b[0;36m<module>\u001b[1;34m()\u001b[0m\n\u001b[1;32m----> 1\u001b[1;33m \u001b[0mcorr\u001b[0m \u001b[1;33m=\u001b[0m \u001b[0mdf\u001b[0m\u001b[1;33m.\u001b[0m\u001b[0mcorr\u001b[0m\u001b[1;33m(\u001b[0m\u001b[1;33m)\u001b[0m\u001b[1;33m\u001b[0m\u001b[0m\n\u001b[0m\u001b[0;32m      2\u001b[0m \u001b[0mcorr\u001b[0m \u001b[1;31m#shape = (6,6)\u001b[0m\u001b[1;33m\u001b[0m\u001b[0m\n",
      "\u001b[1;31mNameError\u001b[0m: name 'df' is not defined"
     ]
    }
   ],
   "source": [
    "corr = df.corr()\n",
    "corr #shape = (6,6)"
   ]
  },
  {
   "cell_type": "code",
   "execution_count": 35,
   "metadata": {
    "collapsed": true
   },
   "outputs": [],
   "source": [
    "df_data_validation.loc[(df_data_validation.Pclass == 1), \"Pclass1\"] = 1\n",
    "df_data_validation.loc[(df_data_validation.Pclass == 2), \"Pclass2\"] = 1\n",
    "df_data_validation.loc[(df_data_validation.Pclass == 3), \"Pclass3\"] = 1\n",
    "df_data_validation = df_data_validation.fillna(0)"
   ]
  },
  {
   "cell_type": "markdown",
   "metadata": {},
   "source": [
    "## Check data imbalance"
   ]
  },
  {
   "cell_type": "markdown",
   "metadata": {
    "collapsed": true
   },
   "source": [
    "Can we improve the result with a better balancing of the data ?"
   ]
  },
  {
   "cell_type": "code",
   "execution_count": null,
   "metadata": {
    "collapsed": true
   },
   "outputs": [],
   "source": []
  },
  {
   "cell_type": "markdown",
   "metadata": {},
   "source": [
    "### Going back to Graphlab SFrames"
   ]
  },
  {
   "cell_type": "code",
   "execution_count": 38,
   "metadata": {
    "collapsed": false
   },
   "outputs": [
    {
     "data": {
      "text/html": [
       "<div style=\"max-height:1000px;max-width:1500px;overflow:auto;\"><table frame=\"box\" rules=\"cols\">\n",
       "    <tr>\n",
       "        <th style=\"padding-left: 1em; padding-right: 1em; text-align: center\">PassengerId</th>\n",
       "        <th style=\"padding-left: 1em; padding-right: 1em; text-align: center\">Survived</th>\n",
       "        <th style=\"padding-left: 1em; padding-right: 1em; text-align: center\">Pclass</th>\n",
       "        <th style=\"padding-left: 1em; padding-right: 1em; text-align: center\">Age</th>\n",
       "        <th style=\"padding-left: 1em; padding-right: 1em; text-align: center\">SibSp</th>\n",
       "        <th style=\"padding-left: 1em; padding-right: 1em; text-align: center\">Parch</th>\n",
       "        <th style=\"padding-left: 1em; padding-right: 1em; text-align: center\">Fare</th>\n",
       "        <th style=\"padding-left: 1em; padding-right: 1em; text-align: center\">Pclass1</th>\n",
       "        <th style=\"padding-left: 1em; padding-right: 1em; text-align: center\">Pclass2</th>\n",
       "        <th style=\"padding-left: 1em; padding-right: 1em; text-align: center\">Pclass3</th>\n",
       "    </tr>\n",
       "    <tr>\n",
       "        <td style=\"padding-left: 1em; padding-right: 1em; text-align: center; vertical-align: top\">1</td>\n",
       "        <td style=\"padding-left: 1em; padding-right: 1em; text-align: center; vertical-align: top\">0</td>\n",
       "        <td style=\"padding-left: 1em; padding-right: 1em; text-align: center; vertical-align: top\">3</td>\n",
       "        <td style=\"padding-left: 1em; padding-right: 1em; text-align: center; vertical-align: top\">22.0</td>\n",
       "        <td style=\"padding-left: 1em; padding-right: 1em; text-align: center; vertical-align: top\">1</td>\n",
       "        <td style=\"padding-left: 1em; padding-right: 1em; text-align: center; vertical-align: top\">0</td>\n",
       "        <td style=\"padding-left: 1em; padding-right: 1em; text-align: center; vertical-align: top\">7.25</td>\n",
       "        <td style=\"padding-left: 1em; padding-right: 1em; text-align: center; vertical-align: top\">0.0</td>\n",
       "        <td style=\"padding-left: 1em; padding-right: 1em; text-align: center; vertical-align: top\">0.0</td>\n",
       "        <td style=\"padding-left: 1em; padding-right: 1em; text-align: center; vertical-align: top\">1.0</td>\n",
       "    </tr>\n",
       "    <tr>\n",
       "        <td style=\"padding-left: 1em; padding-right: 1em; text-align: center; vertical-align: top\">2</td>\n",
       "        <td style=\"padding-left: 1em; padding-right: 1em; text-align: center; vertical-align: top\">1</td>\n",
       "        <td style=\"padding-left: 1em; padding-right: 1em; text-align: center; vertical-align: top\">1</td>\n",
       "        <td style=\"padding-left: 1em; padding-right: 1em; text-align: center; vertical-align: top\">38.0</td>\n",
       "        <td style=\"padding-left: 1em; padding-right: 1em; text-align: center; vertical-align: top\">1</td>\n",
       "        <td style=\"padding-left: 1em; padding-right: 1em; text-align: center; vertical-align: top\">0</td>\n",
       "        <td style=\"padding-left: 1em; padding-right: 1em; text-align: center; vertical-align: top\">71.2833</td>\n",
       "        <td style=\"padding-left: 1em; padding-right: 1em; text-align: center; vertical-align: top\">1.0</td>\n",
       "        <td style=\"padding-left: 1em; padding-right: 1em; text-align: center; vertical-align: top\">0.0</td>\n",
       "        <td style=\"padding-left: 1em; padding-right: 1em; text-align: center; vertical-align: top\">0.0</td>\n",
       "    </tr>\n",
       "    <tr>\n",
       "        <td style=\"padding-left: 1em; padding-right: 1em; text-align: center; vertical-align: top\">3</td>\n",
       "        <td style=\"padding-left: 1em; padding-right: 1em; text-align: center; vertical-align: top\">1</td>\n",
       "        <td style=\"padding-left: 1em; padding-right: 1em; text-align: center; vertical-align: top\">3</td>\n",
       "        <td style=\"padding-left: 1em; padding-right: 1em; text-align: center; vertical-align: top\">26.0</td>\n",
       "        <td style=\"padding-left: 1em; padding-right: 1em; text-align: center; vertical-align: top\">0</td>\n",
       "        <td style=\"padding-left: 1em; padding-right: 1em; text-align: center; vertical-align: top\">0</td>\n",
       "        <td style=\"padding-left: 1em; padding-right: 1em; text-align: center; vertical-align: top\">7.925</td>\n",
       "        <td style=\"padding-left: 1em; padding-right: 1em; text-align: center; vertical-align: top\">0.0</td>\n",
       "        <td style=\"padding-left: 1em; padding-right: 1em; text-align: center; vertical-align: top\">0.0</td>\n",
       "        <td style=\"padding-left: 1em; padding-right: 1em; text-align: center; vertical-align: top\">1.0</td>\n",
       "    </tr>\n",
       "    <tr>\n",
       "        <td style=\"padding-left: 1em; padding-right: 1em; text-align: center; vertical-align: top\">4</td>\n",
       "        <td style=\"padding-left: 1em; padding-right: 1em; text-align: center; vertical-align: top\">1</td>\n",
       "        <td style=\"padding-left: 1em; padding-right: 1em; text-align: center; vertical-align: top\">1</td>\n",
       "        <td style=\"padding-left: 1em; padding-right: 1em; text-align: center; vertical-align: top\">35.0</td>\n",
       "        <td style=\"padding-left: 1em; padding-right: 1em; text-align: center; vertical-align: top\">1</td>\n",
       "        <td style=\"padding-left: 1em; padding-right: 1em; text-align: center; vertical-align: top\">0</td>\n",
       "        <td style=\"padding-left: 1em; padding-right: 1em; text-align: center; vertical-align: top\">53.1</td>\n",
       "        <td style=\"padding-left: 1em; padding-right: 1em; text-align: center; vertical-align: top\">1.0</td>\n",
       "        <td style=\"padding-left: 1em; padding-right: 1em; text-align: center; vertical-align: top\">0.0</td>\n",
       "        <td style=\"padding-left: 1em; padding-right: 1em; text-align: center; vertical-align: top\">0.0</td>\n",
       "    </tr>\n",
       "    <tr>\n",
       "        <td style=\"padding-left: 1em; padding-right: 1em; text-align: center; vertical-align: top\">5</td>\n",
       "        <td style=\"padding-left: 1em; padding-right: 1em; text-align: center; vertical-align: top\">0</td>\n",
       "        <td style=\"padding-left: 1em; padding-right: 1em; text-align: center; vertical-align: top\">3</td>\n",
       "        <td style=\"padding-left: 1em; padding-right: 1em; text-align: center; vertical-align: top\">35.0</td>\n",
       "        <td style=\"padding-left: 1em; padding-right: 1em; text-align: center; vertical-align: top\">0</td>\n",
       "        <td style=\"padding-left: 1em; padding-right: 1em; text-align: center; vertical-align: top\">0</td>\n",
       "        <td style=\"padding-left: 1em; padding-right: 1em; text-align: center; vertical-align: top\">8.05</td>\n",
       "        <td style=\"padding-left: 1em; padding-right: 1em; text-align: center; vertical-align: top\">0.0</td>\n",
       "        <td style=\"padding-left: 1em; padding-right: 1em; text-align: center; vertical-align: top\">0.0</td>\n",
       "        <td style=\"padding-left: 1em; padding-right: 1em; text-align: center; vertical-align: top\">1.0</td>\n",
       "    </tr>\n",
       "    <tr>\n",
       "        <td style=\"padding-left: 1em; padding-right: 1em; text-align: center; vertical-align: top\">6</td>\n",
       "        <td style=\"padding-left: 1em; padding-right: 1em; text-align: center; vertical-align: top\">0</td>\n",
       "        <td style=\"padding-left: 1em; padding-right: 1em; text-align: center; vertical-align: top\">3</td>\n",
       "        <td style=\"padding-left: 1em; padding-right: 1em; text-align: center; vertical-align: top\">25.0</td>\n",
       "        <td style=\"padding-left: 1em; padding-right: 1em; text-align: center; vertical-align: top\">0</td>\n",
       "        <td style=\"padding-left: 1em; padding-right: 1em; text-align: center; vertical-align: top\">0</td>\n",
       "        <td style=\"padding-left: 1em; padding-right: 1em; text-align: center; vertical-align: top\">8.4583</td>\n",
       "        <td style=\"padding-left: 1em; padding-right: 1em; text-align: center; vertical-align: top\">0.0</td>\n",
       "        <td style=\"padding-left: 1em; padding-right: 1em; text-align: center; vertical-align: top\">0.0</td>\n",
       "        <td style=\"padding-left: 1em; padding-right: 1em; text-align: center; vertical-align: top\">1.0</td>\n",
       "    </tr>\n",
       "    <tr>\n",
       "        <td style=\"padding-left: 1em; padding-right: 1em; text-align: center; vertical-align: top\">7</td>\n",
       "        <td style=\"padding-left: 1em; padding-right: 1em; text-align: center; vertical-align: top\">0</td>\n",
       "        <td style=\"padding-left: 1em; padding-right: 1em; text-align: center; vertical-align: top\">1</td>\n",
       "        <td style=\"padding-left: 1em; padding-right: 1em; text-align: center; vertical-align: top\">54.0</td>\n",
       "        <td style=\"padding-left: 1em; padding-right: 1em; text-align: center; vertical-align: top\">0</td>\n",
       "        <td style=\"padding-left: 1em; padding-right: 1em; text-align: center; vertical-align: top\">0</td>\n",
       "        <td style=\"padding-left: 1em; padding-right: 1em; text-align: center; vertical-align: top\">51.8625</td>\n",
       "        <td style=\"padding-left: 1em; padding-right: 1em; text-align: center; vertical-align: top\">1.0</td>\n",
       "        <td style=\"padding-left: 1em; padding-right: 1em; text-align: center; vertical-align: top\">0.0</td>\n",
       "        <td style=\"padding-left: 1em; padding-right: 1em; text-align: center; vertical-align: top\">0.0</td>\n",
       "    </tr>\n",
       "    <tr>\n",
       "        <td style=\"padding-left: 1em; padding-right: 1em; text-align: center; vertical-align: top\">8</td>\n",
       "        <td style=\"padding-left: 1em; padding-right: 1em; text-align: center; vertical-align: top\">0</td>\n",
       "        <td style=\"padding-left: 1em; padding-right: 1em; text-align: center; vertical-align: top\">3</td>\n",
       "        <td style=\"padding-left: 1em; padding-right: 1em; text-align: center; vertical-align: top\">2.0</td>\n",
       "        <td style=\"padding-left: 1em; padding-right: 1em; text-align: center; vertical-align: top\">3</td>\n",
       "        <td style=\"padding-left: 1em; padding-right: 1em; text-align: center; vertical-align: top\">1</td>\n",
       "        <td style=\"padding-left: 1em; padding-right: 1em; text-align: center; vertical-align: top\">21.075</td>\n",
       "        <td style=\"padding-left: 1em; padding-right: 1em; text-align: center; vertical-align: top\">0.0</td>\n",
       "        <td style=\"padding-left: 1em; padding-right: 1em; text-align: center; vertical-align: top\">0.0</td>\n",
       "        <td style=\"padding-left: 1em; padding-right: 1em; text-align: center; vertical-align: top\">1.0</td>\n",
       "    </tr>\n",
       "    <tr>\n",
       "        <td style=\"padding-left: 1em; padding-right: 1em; text-align: center; vertical-align: top\">9</td>\n",
       "        <td style=\"padding-left: 1em; padding-right: 1em; text-align: center; vertical-align: top\">1</td>\n",
       "        <td style=\"padding-left: 1em; padding-right: 1em; text-align: center; vertical-align: top\">3</td>\n",
       "        <td style=\"padding-left: 1em; padding-right: 1em; text-align: center; vertical-align: top\">27.0</td>\n",
       "        <td style=\"padding-left: 1em; padding-right: 1em; text-align: center; vertical-align: top\">0</td>\n",
       "        <td style=\"padding-left: 1em; padding-right: 1em; text-align: center; vertical-align: top\">2</td>\n",
       "        <td style=\"padding-left: 1em; padding-right: 1em; text-align: center; vertical-align: top\">11.1333</td>\n",
       "        <td style=\"padding-left: 1em; padding-right: 1em; text-align: center; vertical-align: top\">0.0</td>\n",
       "        <td style=\"padding-left: 1em; padding-right: 1em; text-align: center; vertical-align: top\">0.0</td>\n",
       "        <td style=\"padding-left: 1em; padding-right: 1em; text-align: center; vertical-align: top\">1.0</td>\n",
       "    </tr>\n",
       "    <tr>\n",
       "        <td style=\"padding-left: 1em; padding-right: 1em; text-align: center; vertical-align: top\">10</td>\n",
       "        <td style=\"padding-left: 1em; padding-right: 1em; text-align: center; vertical-align: top\">1</td>\n",
       "        <td style=\"padding-left: 1em; padding-right: 1em; text-align: center; vertical-align: top\">2</td>\n",
       "        <td style=\"padding-left: 1em; padding-right: 1em; text-align: center; vertical-align: top\">14.0</td>\n",
       "        <td style=\"padding-left: 1em; padding-right: 1em; text-align: center; vertical-align: top\">1</td>\n",
       "        <td style=\"padding-left: 1em; padding-right: 1em; text-align: center; vertical-align: top\">0</td>\n",
       "        <td style=\"padding-left: 1em; padding-right: 1em; text-align: center; vertical-align: top\">30.0708</td>\n",
       "        <td style=\"padding-left: 1em; padding-right: 1em; text-align: center; vertical-align: top\">0.0</td>\n",
       "        <td style=\"padding-left: 1em; padding-right: 1em; text-align: center; vertical-align: top\">1.0</td>\n",
       "        <td style=\"padding-left: 1em; padding-right: 1em; text-align: center; vertical-align: top\">0.0</td>\n",
       "    </tr>\n",
       "</table>\n",
       "[891 rows x 10 columns]<br/>Note: Only the head of the SFrame is printed.<br/>You can use print_rows(num_rows=m, num_columns=n) to print more rows and columns.\n",
       "</div>"
      ],
      "text/plain": [
       "Columns:\n",
       "\tPassengerId\tint\n",
       "\tSurvived\tint\n",
       "\tPclass\tint\n",
       "\tAge\tfloat\n",
       "\tSibSp\tint\n",
       "\tParch\tint\n",
       "\tFare\tfloat\n",
       "\tPclass1\tfloat\n",
       "\tPclass2\tfloat\n",
       "\tPclass3\tfloat\n",
       "\n",
       "Rows: 891\n",
       "\n",
       "Data:\n",
       "+-------------+----------+--------+------+-------+-------+---------+---------+\n",
       "| PassengerId | Survived | Pclass | Age  | SibSp | Parch |   Fare  | Pclass1 |\n",
       "+-------------+----------+--------+------+-------+-------+---------+---------+\n",
       "|      1      |    0     |   3    | 22.0 |   1   |   0   |   7.25  |   0.0   |\n",
       "|      2      |    1     |   1    | 38.0 |   1   |   0   | 71.2833 |   1.0   |\n",
       "|      3      |    1     |   3    | 26.0 |   0   |   0   |  7.925  |   0.0   |\n",
       "|      4      |    1     |   1    | 35.0 |   1   |   0   |   53.1  |   1.0   |\n",
       "|      5      |    0     |   3    | 35.0 |   0   |   0   |   8.05  |   0.0   |\n",
       "|      6      |    0     |   3    | 25.0 |   0   |   0   |  8.4583 |   0.0   |\n",
       "|      7      |    0     |   1    | 54.0 |   0   |   0   | 51.8625 |   1.0   |\n",
       "|      8      |    0     |   3    | 2.0  |   3   |   1   |  21.075 |   0.0   |\n",
       "|      9      |    1     |   3    | 27.0 |   0   |   2   | 11.1333 |   0.0   |\n",
       "|      10     |    1     |   2    | 14.0 |   1   |   0   | 30.0708 |   0.0   |\n",
       "+-------------+----------+--------+------+-------+-------+---------+---------+\n",
       "+---------+---------+\n",
       "| Pclass2 | Pclass3 |\n",
       "+---------+---------+\n",
       "|   0.0   |   1.0   |\n",
       "|   0.0   |   0.0   |\n",
       "|   0.0   |   1.0   |\n",
       "|   0.0   |   0.0   |\n",
       "|   0.0   |   1.0   |\n",
       "|   0.0   |   1.0   |\n",
       "|   0.0   |   0.0   |\n",
       "|   0.0   |   1.0   |\n",
       "|   0.0   |   1.0   |\n",
       "|   1.0   |   0.0   |\n",
       "+---------+---------+\n",
       "[891 rows x 10 columns]\n",
       "Note: Only the head of the SFrame is printed.\n",
       "You can use print_rows(num_rows=m, num_columns=n) to print more rows and columns."
      ]
     },
     "execution_count": 38,
     "metadata": {},
     "output_type": "execute_result"
    }
   ],
   "source": [
    "data = gl.SFrame(df_data)\n",
    "data"
   ]
  },
  {
   "cell_type": "code",
   "execution_count": 39,
   "metadata": {
    "collapsed": false
   },
   "outputs": [
    {
     "data": {
      "text/html": [
       "<div style=\"max-height:1000px;max-width:1500px;overflow:auto;\"><table frame=\"box\" rules=\"cols\">\n",
       "    <tr>\n",
       "        <th style=\"padding-left: 1em; padding-right: 1em; text-align: center\">PassengerId</th>\n",
       "        <th style=\"padding-left: 1em; padding-right: 1em; text-align: center\">Pclass</th>\n",
       "        <th style=\"padding-left: 1em; padding-right: 1em; text-align: center\">Sex</th>\n",
       "        <th style=\"padding-left: 1em; padding-right: 1em; text-align: center\">Age</th>\n",
       "        <th style=\"padding-left: 1em; padding-right: 1em; text-align: center\">SibSp</th>\n",
       "        <th style=\"padding-left: 1em; padding-right: 1em; text-align: center\">Parch</th>\n",
       "        <th style=\"padding-left: 1em; padding-right: 1em; text-align: center\">Fare</th>\n",
       "        <th style=\"padding-left: 1em; padding-right: 1em; text-align: center\">Is_baby</th>\n",
       "        <th style=\"padding-left: 1em; padding-right: 1em; text-align: center\">Pclass1</th>\n",
       "        <th style=\"padding-left: 1em; padding-right: 1em; text-align: center\">Pclass2</th>\n",
       "        <th style=\"padding-left: 1em; padding-right: 1em; text-align: center\">Pclass3</th>\n",
       "    </tr>\n",
       "    <tr>\n",
       "        <td style=\"padding-left: 1em; padding-right: 1em; text-align: center; vertical-align: top\">892</td>\n",
       "        <td style=\"padding-left: 1em; padding-right: 1em; text-align: center; vertical-align: top\">3</td>\n",
       "        <td style=\"padding-left: 1em; padding-right: 1em; text-align: center; vertical-align: top\">male</td>\n",
       "        <td style=\"padding-left: 1em; padding-right: 1em; text-align: center; vertical-align: top\">34.5</td>\n",
       "        <td style=\"padding-left: 1em; padding-right: 1em; text-align: center; vertical-align: top\">0</td>\n",
       "        <td style=\"padding-left: 1em; padding-right: 1em; text-align: center; vertical-align: top\">0</td>\n",
       "        <td style=\"padding-left: 1em; padding-right: 1em; text-align: center; vertical-align: top\">7.8292</td>\n",
       "        <td style=\"padding-left: 1em; padding-right: 1em; text-align: center; vertical-align: top\">0</td>\n",
       "        <td style=\"padding-left: 1em; padding-right: 1em; text-align: center; vertical-align: top\">0.0</td>\n",
       "        <td style=\"padding-left: 1em; padding-right: 1em; text-align: center; vertical-align: top\">0.0</td>\n",
       "        <td style=\"padding-left: 1em; padding-right: 1em; text-align: center; vertical-align: top\">1.0</td>\n",
       "    </tr>\n",
       "    <tr>\n",
       "        <td style=\"padding-left: 1em; padding-right: 1em; text-align: center; vertical-align: top\">893</td>\n",
       "        <td style=\"padding-left: 1em; padding-right: 1em; text-align: center; vertical-align: top\">3</td>\n",
       "        <td style=\"padding-left: 1em; padding-right: 1em; text-align: center; vertical-align: top\">female</td>\n",
       "        <td style=\"padding-left: 1em; padding-right: 1em; text-align: center; vertical-align: top\">47.0</td>\n",
       "        <td style=\"padding-left: 1em; padding-right: 1em; text-align: center; vertical-align: top\">1</td>\n",
       "        <td style=\"padding-left: 1em; padding-right: 1em; text-align: center; vertical-align: top\">0</td>\n",
       "        <td style=\"padding-left: 1em; padding-right: 1em; text-align: center; vertical-align: top\">7.0</td>\n",
       "        <td style=\"padding-left: 1em; padding-right: 1em; text-align: center; vertical-align: top\">0</td>\n",
       "        <td style=\"padding-left: 1em; padding-right: 1em; text-align: center; vertical-align: top\">0.0</td>\n",
       "        <td style=\"padding-left: 1em; padding-right: 1em; text-align: center; vertical-align: top\">0.0</td>\n",
       "        <td style=\"padding-left: 1em; padding-right: 1em; text-align: center; vertical-align: top\">1.0</td>\n",
       "    </tr>\n",
       "    <tr>\n",
       "        <td style=\"padding-left: 1em; padding-right: 1em; text-align: center; vertical-align: top\">894</td>\n",
       "        <td style=\"padding-left: 1em; padding-right: 1em; text-align: center; vertical-align: top\">2</td>\n",
       "        <td style=\"padding-left: 1em; padding-right: 1em; text-align: center; vertical-align: top\">male</td>\n",
       "        <td style=\"padding-left: 1em; padding-right: 1em; text-align: center; vertical-align: top\">62.0</td>\n",
       "        <td style=\"padding-left: 1em; padding-right: 1em; text-align: center; vertical-align: top\">0</td>\n",
       "        <td style=\"padding-left: 1em; padding-right: 1em; text-align: center; vertical-align: top\">0</td>\n",
       "        <td style=\"padding-left: 1em; padding-right: 1em; text-align: center; vertical-align: top\">9.6875</td>\n",
       "        <td style=\"padding-left: 1em; padding-right: 1em; text-align: center; vertical-align: top\">0</td>\n",
       "        <td style=\"padding-left: 1em; padding-right: 1em; text-align: center; vertical-align: top\">0.0</td>\n",
       "        <td style=\"padding-left: 1em; padding-right: 1em; text-align: center; vertical-align: top\">1.0</td>\n",
       "        <td style=\"padding-left: 1em; padding-right: 1em; text-align: center; vertical-align: top\">0.0</td>\n",
       "    </tr>\n",
       "    <tr>\n",
       "        <td style=\"padding-left: 1em; padding-right: 1em; text-align: center; vertical-align: top\">895</td>\n",
       "        <td style=\"padding-left: 1em; padding-right: 1em; text-align: center; vertical-align: top\">3</td>\n",
       "        <td style=\"padding-left: 1em; padding-right: 1em; text-align: center; vertical-align: top\">male</td>\n",
       "        <td style=\"padding-left: 1em; padding-right: 1em; text-align: center; vertical-align: top\">27.0</td>\n",
       "        <td style=\"padding-left: 1em; padding-right: 1em; text-align: center; vertical-align: top\">0</td>\n",
       "        <td style=\"padding-left: 1em; padding-right: 1em; text-align: center; vertical-align: top\">0</td>\n",
       "        <td style=\"padding-left: 1em; padding-right: 1em; text-align: center; vertical-align: top\">8.6625</td>\n",
       "        <td style=\"padding-left: 1em; padding-right: 1em; text-align: center; vertical-align: top\">0</td>\n",
       "        <td style=\"padding-left: 1em; padding-right: 1em; text-align: center; vertical-align: top\">0.0</td>\n",
       "        <td style=\"padding-left: 1em; padding-right: 1em; text-align: center; vertical-align: top\">0.0</td>\n",
       "        <td style=\"padding-left: 1em; padding-right: 1em; text-align: center; vertical-align: top\">1.0</td>\n",
       "    </tr>\n",
       "    <tr>\n",
       "        <td style=\"padding-left: 1em; padding-right: 1em; text-align: center; vertical-align: top\">896</td>\n",
       "        <td style=\"padding-left: 1em; padding-right: 1em; text-align: center; vertical-align: top\">3</td>\n",
       "        <td style=\"padding-left: 1em; padding-right: 1em; text-align: center; vertical-align: top\">female</td>\n",
       "        <td style=\"padding-left: 1em; padding-right: 1em; text-align: center; vertical-align: top\">22.0</td>\n",
       "        <td style=\"padding-left: 1em; padding-right: 1em; text-align: center; vertical-align: top\">1</td>\n",
       "        <td style=\"padding-left: 1em; padding-right: 1em; text-align: center; vertical-align: top\">1</td>\n",
       "        <td style=\"padding-left: 1em; padding-right: 1em; text-align: center; vertical-align: top\">12.2875</td>\n",
       "        <td style=\"padding-left: 1em; padding-right: 1em; text-align: center; vertical-align: top\">0</td>\n",
       "        <td style=\"padding-left: 1em; padding-right: 1em; text-align: center; vertical-align: top\">0.0</td>\n",
       "        <td style=\"padding-left: 1em; padding-right: 1em; text-align: center; vertical-align: top\">0.0</td>\n",
       "        <td style=\"padding-left: 1em; padding-right: 1em; text-align: center; vertical-align: top\">1.0</td>\n",
       "    </tr>\n",
       "    <tr>\n",
       "        <td style=\"padding-left: 1em; padding-right: 1em; text-align: center; vertical-align: top\">897</td>\n",
       "        <td style=\"padding-left: 1em; padding-right: 1em; text-align: center; vertical-align: top\">3</td>\n",
       "        <td style=\"padding-left: 1em; padding-right: 1em; text-align: center; vertical-align: top\">male</td>\n",
       "        <td style=\"padding-left: 1em; padding-right: 1em; text-align: center; vertical-align: top\">14.0</td>\n",
       "        <td style=\"padding-left: 1em; padding-right: 1em; text-align: center; vertical-align: top\">0</td>\n",
       "        <td style=\"padding-left: 1em; padding-right: 1em; text-align: center; vertical-align: top\">0</td>\n",
       "        <td style=\"padding-left: 1em; padding-right: 1em; text-align: center; vertical-align: top\">9.225</td>\n",
       "        <td style=\"padding-left: 1em; padding-right: 1em; text-align: center; vertical-align: top\">0</td>\n",
       "        <td style=\"padding-left: 1em; padding-right: 1em; text-align: center; vertical-align: top\">0.0</td>\n",
       "        <td style=\"padding-left: 1em; padding-right: 1em; text-align: center; vertical-align: top\">0.0</td>\n",
       "        <td style=\"padding-left: 1em; padding-right: 1em; text-align: center; vertical-align: top\">1.0</td>\n",
       "    </tr>\n",
       "    <tr>\n",
       "        <td style=\"padding-left: 1em; padding-right: 1em; text-align: center; vertical-align: top\">898</td>\n",
       "        <td style=\"padding-left: 1em; padding-right: 1em; text-align: center; vertical-align: top\">3</td>\n",
       "        <td style=\"padding-left: 1em; padding-right: 1em; text-align: center; vertical-align: top\">female</td>\n",
       "        <td style=\"padding-left: 1em; padding-right: 1em; text-align: center; vertical-align: top\">30.0</td>\n",
       "        <td style=\"padding-left: 1em; padding-right: 1em; text-align: center; vertical-align: top\">0</td>\n",
       "        <td style=\"padding-left: 1em; padding-right: 1em; text-align: center; vertical-align: top\">0</td>\n",
       "        <td style=\"padding-left: 1em; padding-right: 1em; text-align: center; vertical-align: top\">7.6292</td>\n",
       "        <td style=\"padding-left: 1em; padding-right: 1em; text-align: center; vertical-align: top\">0</td>\n",
       "        <td style=\"padding-left: 1em; padding-right: 1em; text-align: center; vertical-align: top\">0.0</td>\n",
       "        <td style=\"padding-left: 1em; padding-right: 1em; text-align: center; vertical-align: top\">0.0</td>\n",
       "        <td style=\"padding-left: 1em; padding-right: 1em; text-align: center; vertical-align: top\">1.0</td>\n",
       "    </tr>\n",
       "    <tr>\n",
       "        <td style=\"padding-left: 1em; padding-right: 1em; text-align: center; vertical-align: top\">899</td>\n",
       "        <td style=\"padding-left: 1em; padding-right: 1em; text-align: center; vertical-align: top\">2</td>\n",
       "        <td style=\"padding-left: 1em; padding-right: 1em; text-align: center; vertical-align: top\">male</td>\n",
       "        <td style=\"padding-left: 1em; padding-right: 1em; text-align: center; vertical-align: top\">26.0</td>\n",
       "        <td style=\"padding-left: 1em; padding-right: 1em; text-align: center; vertical-align: top\">1</td>\n",
       "        <td style=\"padding-left: 1em; padding-right: 1em; text-align: center; vertical-align: top\">1</td>\n",
       "        <td style=\"padding-left: 1em; padding-right: 1em; text-align: center; vertical-align: top\">29.0</td>\n",
       "        <td style=\"padding-left: 1em; padding-right: 1em; text-align: center; vertical-align: top\">1</td>\n",
       "        <td style=\"padding-left: 1em; padding-right: 1em; text-align: center; vertical-align: top\">0.0</td>\n",
       "        <td style=\"padding-left: 1em; padding-right: 1em; text-align: center; vertical-align: top\">1.0</td>\n",
       "        <td style=\"padding-left: 1em; padding-right: 1em; text-align: center; vertical-align: top\">0.0</td>\n",
       "    </tr>\n",
       "    <tr>\n",
       "        <td style=\"padding-left: 1em; padding-right: 1em; text-align: center; vertical-align: top\">900</td>\n",
       "        <td style=\"padding-left: 1em; padding-right: 1em; text-align: center; vertical-align: top\">3</td>\n",
       "        <td style=\"padding-left: 1em; padding-right: 1em; text-align: center; vertical-align: top\">female</td>\n",
       "        <td style=\"padding-left: 1em; padding-right: 1em; text-align: center; vertical-align: top\">18.0</td>\n",
       "        <td style=\"padding-left: 1em; padding-right: 1em; text-align: center; vertical-align: top\">0</td>\n",
       "        <td style=\"padding-left: 1em; padding-right: 1em; text-align: center; vertical-align: top\">0</td>\n",
       "        <td style=\"padding-left: 1em; padding-right: 1em; text-align: center; vertical-align: top\">7.2292</td>\n",
       "        <td style=\"padding-left: 1em; padding-right: 1em; text-align: center; vertical-align: top\">0</td>\n",
       "        <td style=\"padding-left: 1em; padding-right: 1em; text-align: center; vertical-align: top\">0.0</td>\n",
       "        <td style=\"padding-left: 1em; padding-right: 1em; text-align: center; vertical-align: top\">0.0</td>\n",
       "        <td style=\"padding-left: 1em; padding-right: 1em; text-align: center; vertical-align: top\">1.0</td>\n",
       "    </tr>\n",
       "    <tr>\n",
       "        <td style=\"padding-left: 1em; padding-right: 1em; text-align: center; vertical-align: top\">901</td>\n",
       "        <td style=\"padding-left: 1em; padding-right: 1em; text-align: center; vertical-align: top\">3</td>\n",
       "        <td style=\"padding-left: 1em; padding-right: 1em; text-align: center; vertical-align: top\">male</td>\n",
       "        <td style=\"padding-left: 1em; padding-right: 1em; text-align: center; vertical-align: top\">21.0</td>\n",
       "        <td style=\"padding-left: 1em; padding-right: 1em; text-align: center; vertical-align: top\">2</td>\n",
       "        <td style=\"padding-left: 1em; padding-right: 1em; text-align: center; vertical-align: top\">0</td>\n",
       "        <td style=\"padding-left: 1em; padding-right: 1em; text-align: center; vertical-align: top\">24.15</td>\n",
       "        <td style=\"padding-left: 1em; padding-right: 1em; text-align: center; vertical-align: top\">0</td>\n",
       "        <td style=\"padding-left: 1em; padding-right: 1em; text-align: center; vertical-align: top\">0.0</td>\n",
       "        <td style=\"padding-left: 1em; padding-right: 1em; text-align: center; vertical-align: top\">0.0</td>\n",
       "        <td style=\"padding-left: 1em; padding-right: 1em; text-align: center; vertical-align: top\">1.0</td>\n",
       "    </tr>\n",
       "</table>\n",
       "[418 rows x 11 columns]<br/>Note: Only the head of the SFrame is printed.<br/>You can use print_rows(num_rows=m, num_columns=n) to print more rows and columns.\n",
       "</div>"
      ],
      "text/plain": [
       "Columns:\n",
       "\tPassengerId\tint\n",
       "\tPclass\tint\n",
       "\tSex\tstr\n",
       "\tAge\tfloat\n",
       "\tSibSp\tint\n",
       "\tParch\tint\n",
       "\tFare\tfloat\n",
       "\tIs_baby\tint\n",
       "\tPclass1\tfloat\n",
       "\tPclass2\tfloat\n",
       "\tPclass3\tfloat\n",
       "\n",
       "Rows: 418\n",
       "\n",
       "Data:\n",
       "+-------------+--------+--------+------+-------+-------+---------+---------+---------+\n",
       "| PassengerId | Pclass |  Sex   | Age  | SibSp | Parch |   Fare  | Is_baby | Pclass1 |\n",
       "+-------------+--------+--------+------+-------+-------+---------+---------+---------+\n",
       "|     892     |   3    |  male  | 34.5 |   0   |   0   |  7.8292 |    0    |   0.0   |\n",
       "|     893     |   3    | female | 47.0 |   1   |   0   |   7.0   |    0    |   0.0   |\n",
       "|     894     |   2    |  male  | 62.0 |   0   |   0   |  9.6875 |    0    |   0.0   |\n",
       "|     895     |   3    |  male  | 27.0 |   0   |   0   |  8.6625 |    0    |   0.0   |\n",
       "|     896     |   3    | female | 22.0 |   1   |   1   | 12.2875 |    0    |   0.0   |\n",
       "|     897     |   3    |  male  | 14.0 |   0   |   0   |  9.225  |    0    |   0.0   |\n",
       "|     898     |   3    | female | 30.0 |   0   |   0   |  7.6292 |    0    |   0.0   |\n",
       "|     899     |   2    |  male  | 26.0 |   1   |   1   |   29.0  |    1    |   0.0   |\n",
       "|     900     |   3    | female | 18.0 |   0   |   0   |  7.2292 |    0    |   0.0   |\n",
       "|     901     |   3    |  male  | 21.0 |   2   |   0   |  24.15  |    0    |   0.0   |\n",
       "+-------------+--------+--------+------+-------+-------+---------+---------+---------+\n",
       "+---------+---------+\n",
       "| Pclass2 | Pclass3 |\n",
       "+---------+---------+\n",
       "|   0.0   |   1.0   |\n",
       "|   0.0   |   1.0   |\n",
       "|   1.0   |   0.0   |\n",
       "|   0.0   |   1.0   |\n",
       "|   0.0   |   1.0   |\n",
       "|   0.0   |   1.0   |\n",
       "|   0.0   |   1.0   |\n",
       "|   1.0   |   0.0   |\n",
       "|   0.0   |   1.0   |\n",
       "|   0.0   |   1.0   |\n",
       "+---------+---------+\n",
       "[418 rows x 11 columns]\n",
       "Note: Only the head of the SFrame is printed.\n",
       "You can use print_rows(num_rows=m, num_columns=n) to print more rows and columns."
      ]
     },
     "execution_count": 39,
     "metadata": {},
     "output_type": "execute_result"
    }
   ],
   "source": [
    "data_for_validation = gl.SFrame(df_data_validation)\n",
    "data_for_validation"
   ]
  },
  {
   "cell_type": "markdown",
   "metadata": {},
   "source": [
    "# Defining features, target "
   ]
  },
  {
   "cell_type": "code",
   "execution_count": 44,
   "metadata": {
    "collapsed": false
   },
   "outputs": [
    {
     "data": {
      "text/plain": [
       "['Pclass', 'Fare']"
      ]
     },
     "execution_count": 44,
     "metadata": {},
     "output_type": "execute_result"
    }
   ],
   "source": [
    "#features = [\"Sex\", \"Pclass1\",\"Pclass2\",\"Pclass3\", \"Is_baby\", \"Age\"]\n",
    "features = [\"Pclass\", \"Fare\"]\n",
    "target = \"Survived\"\n",
    "features"
   ]
  },
  {
   "cell_type": "markdown",
   "metadata": {},
   "source": [
    "## Splitting data into training and validation sets"
   ]
  },
  {
   "cell_type": "code",
   "execution_count": 45,
   "metadata": {
    "collapsed": false
   },
   "outputs": [],
   "source": [
    "train_data, validation_data = data.random_split(.8, seed=1)"
   ]
  },
  {
   "cell_type": "markdown",
   "metadata": {},
   "source": [
    "# Model"
   ]
  },
  {
   "cell_type": "code",
   "execution_count": 46,
   "metadata": {
    "collapsed": false
   },
   "outputs": [],
   "source": [
    "model = tree_model(train_data,features,MLR=0.2, MCW=0)"
   ]
  },
  {
   "cell_type": "code",
   "execution_count": 47,
   "metadata": {
    "collapsed": false
   },
   "outputs": [
    {
     "data": {
      "text/plain": [
       "array([ 0.        ,  0.11111111,  0.22222222,  0.33333333,  0.44444444,\n",
       "        0.55555556,  0.66666667,  0.77777778,  0.88888889,  1.        ])"
      ]
     },
     "execution_count": 47,
     "metadata": {},
     "output_type": "execute_result"
    }
   ],
   "source": [
    "#Optimizing min_loss_reduction\n",
    "np.linspace(0,1,num=10)"
   ]
  },
  {
   "cell_type": "code",
   "execution_count": null,
   "metadata": {
    "collapsed": false
   },
   "outputs": [],
   "source": []
  },
  {
   "cell_type": "code",
   "execution_count": 48,
   "metadata": {
    "collapsed": false
   },
   "outputs": [],
   "source": [
    "train_acc = []\n",
    "valid_acc = []\n",
    "end = 2\n",
    "nb = 100\n",
    "mlr=1\n",
    "for mcw in np.linspace(0,end,nb):\n",
    "    model_MLR = tree_model(train_data,features,mlr,mcw)\n",
    "    #print \"Training accuracy\", model_MLR.get('training_accuracy')\n",
    "    prediction_validation = model.predict(validation_data)\n",
    "    #print \"Validation accuracy\", calc_accuracy(prediction_validation,validation_data)\n",
    "    train_acc.append(model_MLR.get('training_accuracy'))\n",
    "    valid_acc.append(calc_accuracy(prediction_validation,validation_data))"
   ]
  },
  {
   "cell_type": "code",
   "execution_count": 49,
   "metadata": {
    "collapsed": false
   },
   "outputs": [
    {
     "data": {
      "text/plain": [
       "[<matplotlib.lines.Line2D at 0x2dccd978>]"
      ]
     },
     "execution_count": 49,
     "metadata": {},
     "output_type": "execute_result"
    },
    {
     "data": {
      "image/png": "[encoded data removed]",
      "text/plain": [
       "<matplotlib.figure.Figure at 0x2dcb5470>"
      ]
     },
     "metadata": {},
     "output_type": "display_data"
    }
   ],
   "source": [
    "plt.plot(np.linspace(0,end,nb),train_acc,'*')"
   ]
  },
  {
   "cell_type": "code",
   "execution_count": 50,
   "metadata": {
    "collapsed": false
   },
   "outputs": [
    {
     "data": {
      "text/plain": [
       "[<matplotlib.lines.Line2D at 0x2db20320>]"
      ]
     },
     "execution_count": 50,
     "metadata": {},
     "output_type": "execute_result"
    },
    {
     "data": {
      "image/png": "[encoded data removed]",
      "text/plain": [
       "<matplotlib.figure.Figure at 0x2dcb5588>"
      ]
     },
     "metadata": {},
     "output_type": "display_data"
    }
   ],
   "source": [
    "plt.plot(np.linspace(0,end,nb),valid_acc,'*')"
   ]
  },
  {
   "cell_type": "code",
   "execution_count": 51,
   "metadata": {
    "collapsed": false
   },
   "outputs": [
    {
     "data": {
      "text/plain": [
       "dtype: int\n",
       "Rows: 179\n",
       "[0L, 1L, 0L, 0L, 0L, 1L, 0L, 0L, 0L, 0L, 1L, 1L, 0L, 1L, 0L, 0L, 0L, 0L, 1L, 0L, 0L, 0L, 0L, 0L, 0L, 1L, 0L, 0L, 0L, 0L, 0L, 1L, 0L, 0L, 0L, 1L, 0L, 0L, 0L, 0L, 0L, 1L, 0L, 0L, 0L, 0L, 0L, 0L, 0L, 0L, 1L, 1L, 0L, 0L, 0L, 1L, 0L, 0L, 0L, 0L, 0L, 0L, 0L, 0L, 0L, 1L, 0L, 1L, 1L, 0L, 1L, 0L, 0L, 0L, 0L, 0L, 0L, 1L, 0L, 0L, 0L, 0L, 1L, 0L, 0L, 1L, 1L, 1L, 0L, 1L, 1L, 0L, 0L, 0L, 1L, 1L, 1L, 0L, 0L, 0L, ... ]"
      ]
     },
     "execution_count": 51,
     "metadata": {},
     "output_type": "execute_result"
    }
   ],
   "source": [
    "prediction_validation = model.predict(validation_data)\n",
    "prediction_validation"
   ]
  },
  {
   "cell_type": "code",
   "execution_count": 52,
   "metadata": {
    "collapsed": false
   },
   "outputs": [
    {
     "data": {
      "application/javascript": [
       "$(\"head\").append($(\"<link/>\").attr({\n",
       "  rel:  \"stylesheet\",\n",
       "  type: \"text/css\",\n",
       "  href: \"//cdnjs.cloudflare.com/ajax/libs/font-awesome/4.1.0/css/font-awesome.min.css\"\n",
       "}));\n",
       "$(\"head\").append($(\"<link/>\").attr({\n",
       "  rel:  \"stylesheet\",\n",
       "  type: \"text/css\",\n",
       "  href: \"https://static.turi.com/products/graphlab-create/2.1/canvas/css/canvas.css\"\n",
       "}));\n",
       "\n",
       "            (function(){\n",
       "\n",
       "                var e = null;\n",
       "                if (typeof element == 'undefined') {\n",
       "                    var scripts = document.getElementsByTagName('script');\n",
       "                    var thisScriptTag = scripts[scripts.length-1];\n",
       "                    var parentDiv = thisScriptTag.parentNode;\n",
       "                    e = document.createElement('div');\n",
       "                    parentDiv.appendChild(e);\n",
       "                } else {\n",
       "                    e = element[0];\n",
       "                }\n",
       "\n",
       "                if (typeof requirejs !== 'undefined') {\n",
       "                    // disable load timeout; ipython_app.js is large and can take a while to load.\n",
       "                    requirejs.config({waitSeconds: 0});\n",
       "                }\n",
       "\n",
       "                require(['https://static.turi.com/products/graphlab-create/2.1/canvas/js/ipython_app.js'], function(IPythonApp){\n",
       "                    var app = new IPythonApp();\n",
       "                    app.attachView('sgraph','View', {\"edges_labels\": [\"no\", \"yes\", \"no\", \"yes\", \"yes\", \"no\", \"yes\", \"no\", \"yes\", \"no\", \"yes\", \"no\", \"no\", \"yes\"], \"selected_variable\": {\"name\": [\"<SGraph>\"], \"view_file\": \"sgraph\", \"view_component\": \"View\", \"view_params\": {\"elabel_hover\": false, \"vertex_positions\": null, \"h_offset\": 0.0, \"node_size\": 300, \"ecolor\": [0.37, 0.33, 0.33], \"elabel\": \"value\", \"arrows\": true, \"ewidth\": 1, \"vlabel\": \"__repr__\", \"highlight_color\": [0.69, 0.0, 0.498], \"vcolor\": [0.522, 0.741, 0.0], \"vlabel_hover\": false, \"highlight\": {\"0\": [0.69, 0.0, 0.48], \"7\": [0.039, 0.55, 0.77], \"8\": [0.039, 0.55, 0.77], \"9\": [1.0, 0.33, 0.0], \"10\": [1.0, 0.33, 0.0], \"11\": [0.039, 0.55, 0.77], \"12\": [0.039, 0.55, 0.77], \"13\": [0.039, 0.55, 0.77], \"14\": [0.039, 0.55, 0.77]}, \"v_offset\": 0.03}, \"view_components\": [\"View\"], \"type\": \"SGraph\", \"descriptives_links\": {\"edges\": \"edges\", \"vertices\": \"vertices\"}, \"descriptives\": {\"edges\": 14, \"vertices\": 15}}, \"positions\": null, \"error_type\": 0, \"vertices\": [5, 10, 8, 7, 0, 13, 2, 6, 9, 14, 12, 3, 1, 11, 4], \"vertices_labels\": [\"Fare<10.825\", \"0.281013\", \"-0.057143\", \"-0.308108\", \"Pclass<2.5\", \"-0.523404\", \"Fare<23.35\", \"Fare<51.697899\", \"0.083721\", \"-0.176471\", \"-0.092308\", \"Fare<11.75\", \"Fare<13.64585\", \"-0.335294\", \"Fare<74.895851\"], \"edges\": [[5, 12], [5, 11], [0, 2], [0, 1], [2, 5], [2, 6], [6, 13], [6, 14], [3, 7], [3, 8], [1, 3], [1, 4], [4, 10], [4, 9]], \"ipython\": true, \"error_msg\": \"\"}, e);\n",
       "                });\n",
       "            })();\n",
       "        "
      ]
     },
     "metadata": {},
     "output_type": "display_data"
    }
   ],
   "source": [
    "model.show(view = \"Tree\")"
   ]
  },
  {
   "cell_type": "code",
   "execution_count": 53,
   "metadata": {
    "collapsed": false
   },
   "outputs": [
    {
     "data": {
      "application/javascript": [
       "$(\"head\").append($(\"<link/>\").attr({\n",
       "  rel:  \"stylesheet\",\n",
       "  type: \"text/css\",\n",
       "  href: \"//cdnjs.cloudflare.com/ajax/libs/font-awesome/4.1.0/css/font-awesome.min.css\"\n",
       "}));\n",
       "$(\"head\").append($(\"<link/>\").attr({\n",
       "  rel:  \"stylesheet\",\n",
       "  type: \"text/css\",\n",
       "  href: \"https://static.turi.com/products/graphlab-create/2.1/canvas/css/canvas.css\"\n",
       "}));\n",
       "\n",
       "            (function(){\n",
       "\n",
       "                var e = null;\n",
       "                if (typeof element == 'undefined') {\n",
       "                    var scripts = document.getElementsByTagName('script');\n",
       "                    var thisScriptTag = scripts[scripts.length-1];\n",
       "                    var parentDiv = thisScriptTag.parentNode;\n",
       "                    e = document.createElement('div');\n",
       "                    parentDiv.appendChild(e);\n",
       "                } else {\n",
       "                    e = element[0];\n",
       "                }\n",
       "\n",
       "                if (typeof requirejs !== 'undefined') {\n",
       "                    // disable load timeout; ipython_app.js is large and can take a while to load.\n",
       "                    requirejs.config({waitSeconds: 0});\n",
       "                }\n",
       "\n",
       "                require(['https://static.turi.com/products/graphlab-create/2.1/canvas/js/ipython_app.js'], function(IPythonApp){\n",
       "                    var app = new IPythonApp();\n",
       "                    app.attachView('sgraph','View', {\"edges_labels\": [\"no\", \"yes\", \"no\", \"yes\", \"yes\", \"no\", \"yes\", \"no\", \"no\", \"yes\", \"yes\", \"no\", \"no\", \"yes\"], \"selected_variable\": {\"name\": [\"<SGraph>\"], \"view_file\": \"sgraph\", \"view_component\": \"View\", \"view_params\": {\"elabel_hover\": false, \"vertex_positions\": null, \"h_offset\": 0.0, \"node_size\": 300, \"ecolor\": [0.37, 0.33, 0.33], \"elabel\": \"value\", \"arrows\": true, \"ewidth\": 1, \"vlabel\": \"__repr__\", \"highlight_color\": [0.69, 0.0, 0.498], \"vcolor\": [0.522, 0.741, 0.0], \"vlabel_hover\": false, \"highlight\": {\"0\": [0.69, 0.0, 0.48], \"7\": [0.039, 0.55, 0.77], \"8\": [0.039, 0.55, 0.77], \"9\": [1.0, 0.33, 0.0], \"10\": [1.0, 0.33, 0.0], \"11\": [0.039, 0.55, 0.77], \"12\": [0.039, 0.55, 0.77], \"13\": [0.039, 0.55, 0.77], \"14\": [0.039, 0.55, 0.77]}, \"v_offset\": 0.03}, \"view_components\": [\"View\"], \"type\": \"SGraph\", \"descriptives_links\": {\"edges\": \"edges\", \"vertices\": \"vertices\"}, \"descriptives\": {\"edges\": 14, \"vertices\": 15}}, \"positions\": null, \"error_type\": 0, \"vertices\": [5, 10, 7, 8, 0, 13, 2, 6, 9, 14, 12, 3, 1, 11, 4], \"vertices_labels\": [\"Fare<10.825\", \"0.281013\", \"-0.308108\", \"-0.057143\", \"Pclass<2.5\", \"-0.523404\", \"Fare<23.35\", \"Fare<51.697899\", \"0.083721\", \"-0.176471\", \"-0.092308\", \"Fare<11.75\", \"Fare<13.64585\", \"-0.335294\", \"Fare<74.895851\"], \"edges\": [[5, 12], [5, 11], [0, 2], [0, 1], [2, 5], [2, 6], [6, 13], [6, 14], [3, 8], [3, 7], [1, 3], [1, 4], [4, 10], [4, 9]], \"ipython\": true, \"error_msg\": \"\"}, e);\n",
       "                });\n",
       "            })();\n",
       "        "
      ]
     },
     "metadata": {},
     "output_type": "display_data"
    }
   ],
   "source": [
    "model_MLR.show(view=\"Tree\")"
   ]
  },
  {
   "cell_type": "markdown",
   "metadata": {},
   "source": [
    "## Estimating error on validation data"
   ]
  },
  {
   "cell_type": "markdown",
   "metadata": {},
   "source": [
    "#### Error / accuracy"
   ]
  },
  {
   "cell_type": "code",
   "execution_count": null,
   "metadata": {
    "collapsed": false
   },
   "outputs": [],
   "source": [
    "calc_accuracy(prediction_validation,validation_data)"
   ]
  },
  {
   "cell_type": "markdown",
   "metadata": {},
   "source": [
    "# Prediction using the validation data without ground truth"
   ]
  },
  {
   "cell_type": "code",
   "execution_count": null,
   "metadata": {
    "collapsed": false
   },
   "outputs": [],
   "source": [
    "prediction = model.predict(data_for_validation)"
   ]
  },
  {
   "cell_type": "code",
   "execution_count": null,
   "metadata": {
    "collapsed": false
   },
   "outputs": [],
   "source": []
  },
  {
   "cell_type": "markdown",
   "metadata": {},
   "source": [
    "# Working with cross validation"
   ]
  },
  {
   "cell_type": "markdown",
   "metadata": {},
   "source": [
    "First, shuffle data"
   ]
  },
  {
   "cell_type": "code",
   "execution_count": null,
   "metadata": {
    "collapsed": false
   },
   "outputs": [],
   "source": [
    "data_shuffled = gl.cross_validation.shuffle(data)"
   ]
  },
  {
   "cell_type": "markdown",
   "metadata": {},
   "source": [
    "We split the data into a k-set of train/validation data (here k = 5).\n",
    "\n",
    "folds is a kx2 array where folds[k][0] is the train set and folds[k][1] the validation set"
   ]
  },
  {
   "cell_type": "code",
   "execution_count": null,
   "metadata": {
    "collapsed": false
   },
   "outputs": [],
   "source": [
    "k = 10\n",
    "folds = gl.cross_validation.KFold(data_shuffled,k)"
   ]
  },
  {
   "cell_type": "markdown",
   "metadata": {},
   "source": [
    "We can check that the length of one fold is that of the total data"
   ]
  },
  {
   "cell_type": "code",
   "execution_count": null,
   "metadata": {
    "collapsed": false
   },
   "outputs": [],
   "source": [
    "print \"Size of train/validation set in the fold\", len(folds[0][0])+len(folds[0][1])\n",
    "print \"Size of the initial data\", len(data)\n"
   ]
  },
  {
   "cell_type": "code",
   "execution_count": null,
   "metadata": {
    "collapsed": false
   },
   "outputs": [],
   "source": [
    "acc_sum=0\n",
    "for train,valid in folds:\n",
    "    #m = gl.decision_tree_classifier.create(train,target=\"Survived\",validation_set=None,verbose=None)\n",
    "    m = gl.decision_tree_classifier.create(train,target=\"Survived\",validation_set=valid,verbose=None\n",
    "                                          , min_loss_reduction = 0.2,min_child_weight = 0 )\n",
    "    #print \"EVALUATION\", m.evaluate(valid) #Direct evaluation of the model on the validation set\n",
    "    #print \"PREDICTION\", m.predict(valid) #Prediction of survival using the model\n",
    "    #accuracy = m.evaluate(valid, metric='accuracy')\n",
    "    #acc = accuracy['accuracy'] #accuracy is a dict so we need this step to extract a float\n",
    "    #acc = calc_accuracy(m.predict(valid),valid)\n",
    "    acc = m.get(\"validation_accuracy\")\n",
    "    acc_sum+=acc\n",
    "    print(\"Accuracy of the model : %.6f\" %acc)\n",
    "\n",
    "print \"Average accuracy on %0.f validation sets: %f \" %(k ,(acc_sum/k))"
   ]
  },
  {
   "cell_type": "markdown",
   "metadata": {},
   "source": [
    "# Exporting result as a csv file for submission"
   ]
  },
  {
   "cell_type": "code",
   "execution_count": null,
   "metadata": {
    "collapsed": false
   },
   "outputs": [],
   "source": [
    "result = gl.SFrame({'PassengerId':data_for_validation['PassengerId'],\"Survived\":prediction})\n",
    "result"
   ]
  },
  {
   "cell_type": "code",
   "execution_count": null,
   "metadata": {
    "collapsed": true
   },
   "outputs": [],
   "source": [
    "#File exportation\n",
    "result.export_csv(\"gender_submission9.csv\")"
   ]
  },
  {
   "cell_type": "markdown",
   "metadata": {},
   "source": [
    "# Notes"
   ]
  },
  {
   "cell_type": "markdown",
   "metadata": {},
   "source": [
    "#Modèle simple : 2 features seulement (Classe et Sexe) : precision = 0.771 score = 0.76555\n",
    "Modèle avec 3 features (Classe, Sexe, SibSp) : precision = 0.777 / score = 0.75598\n"
   ]
  },
  {
   "cell_type": "code",
   "execution_count": null,
   "metadata": {
    "collapsed": true
   },
   "outputs": [],
   "source": [
    "#En rajoutant l'age ! score = 0.76555"
   ]
  },
  {
   "cell_type": "code",
   "execution_count": null,
   "metadata": {
    "collapsed": true
   },
   "outputs": [],
   "source": [
    "#Si je prends Sexe, Classe et Is_baby au lieu de l'age j'obtiens la même chose"
   ]
  },
  {
   "cell_type": "code",
   "execution_count": null,
   "metadata": {
    "collapsed": true
   },
   "outputs": [],
   "source": [
    "#6 - j'ai crée 3 catégories pour la classe et pris \"Age\", Class1, class2, class3, sexe"
   ]
  },
  {
   "cell_type": "code",
   "execution_count": null,
   "metadata": {
    "collapsed": true
   },
   "outputs": [],
   "source": [
    "#7 - features = [\"Sex\", \"Pclass1\",\"Pclass2\",\"Pclass3\", \"Is_baby\"] (score = 0.77512)"
   ]
  },
  {
   "cell_type": "code",
   "execution_count": null,
   "metadata": {
    "collapsed": true
   },
   "outputs": [],
   "source": [
    "#8 - features = [\"Sex\", \"Pclass1\",\"Pclass2\",\"Pclass3\", \"Is_baby\", \"Age\"]\n",
    "# Average accuracy on 10 validation sets: 0.813733 \n",
    "# Score = 0.76077"
   ]
  },
  {
   "cell_type": "code",
   "execution_count": null,
   "metadata": {
    "collapsed": true
   },
   "outputs": [],
   "source": [
    "#9 - features = [\"Pclass\", \"Fare\", \"Sex\", \"Age\"]"
   ]
  },
  {
   "cell_type": "markdown",
   "metadata": {},
   "source": [
    "Different mask filters are defined below"
   ]
  },
  {
   "cell_type": "code",
   "execution_count": null,
   "metadata": {
    "collapsed": false
   },
   "outputs": [],
   "source": [
    "#data.fillna(\"Age\",0)\n",
    "#data['Age'] = data[\"Age\"].apply(age_change)\n",
    "#data[data[\"Age\"]<26]\n",
    "#data[\"Age\"][data[\"Age\"]<26]\n",
    "#if data[\"Fare\"]==0 and data[\"Age\"]==None:\n",
    "#    data['Age_corr'] = data['Age'].apply(lambda x : 0 if x<1 else x)\n",
    "#mask = data[\"Fare\"]== 0\n",
    "#mask2 = data[\"Age\"]==None\n",
    "#mask3 = (data[\"Fare\"]== 0) & (data[\"Age\"]==None)\n",
    "mask_Age_Fare_zero = (data[\"Age\"]==None)&(data[\"Fare\"]==0)"
   ]
  },
  {
   "cell_type": "code",
   "execution_count": null,
   "metadata": {
    "collapsed": true
   },
   "outputs": [],
   "source": []
  }
 ],
 "metadata": {
  "kernelspec": {
   "display_name": "Python 2",
   "language": "python",
   "name": "python2"
  },
  "language_info": {
   "codemirror_mode": {
    "name": "ipython",
    "version": 2
   },
   "file_extension": ".py",
   "mimetype": "text/x-python",
   "name": "python",
   "nbconvert_exporter": "python",
   "pygments_lexer": "ipython2",
   "version": "2.7.11"
  }
 },
 "nbformat": 4,
 "nbformat_minor": 0
}
